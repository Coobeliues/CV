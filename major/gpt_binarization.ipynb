{
 "cells": [
  {
   "cell_type": "code",
   "execution_count": null,
   "id": "5676015e-eae6-4fe0-9f8f-034abba68d8f",
   "metadata": {},
   "outputs": [],
   "source": [
    "import numpy as np\n",
    "import cv2\n",
    "import matplotlib.pyplot as plt\n",
    "\n",
    "def adaptive_binarization(img, block_size, k):\n",
    "    # Get image dimensions\n",
    "    rows, cols = img.shape\n",
    "    \n",
    "    # Create an empty binary image\n",
    "    binary_img = np.zeros((rows, cols))\n",
    "    \n",
    "    # Iterate over each pixel in the image\n",
    "    for i in range(rows):\n",
    "        for j in range(cols):\n",
    "            # Get the coordinates for the current block\n",
    "            x1, y1 = max(0, i-block_size//2), max(0, j-block_size//2)\n",
    "            x2, y2 = min(rows, i+block_size//2), min(cols, j+block_size//2)\n",
    "            \n",
    "            # Calculate the mean value of the current block\n",
    "            mean = np.mean(img[x1:x2, y1:y2])\n",
    "            \n",
    "            # Threshold the current pixel\n",
    "            if img[i, j] > mean - k:\n",
    "                binary_img[i, j] = 255\n",
    "            else:\n",
    "                binary_img[i, j] = 0\n",
    "    return binary_img\n",
    "\n",
    "# Load the image\n",
    "img = cv2.imread(\"../DATA/horse.jpg\", cv2.IMREAD_GRAYSCALE)\n",
    "\n",
    "# Apply the adaptive binarization algorithm\n",
    "block_size = 11\n",
    "k = 2\n",
    "thresholded = adaptive_binarization(img, block_size, k)\n",
    "# plt.imshow(img)\n",
    "# plt.imshow(thresholded)\n",
    "img\n",
    "thresholded\n",
    "\n",
    "# Save the thresholded image\n",
    "# cv2.imwrite(\"../DATA/thresholded_image.jpg\", thresholded)\n"
   ]
  }
 ],
 "metadata": {
  "kernelspec": {
   "display_name": "Python 3 (ipykernel)",
   "language": "python",
   "name": "python3"
  },
  "language_info": {
   "codemirror_mode": {
    "name": "ipython",
    "version": 3
   },
   "file_extension": ".py",
   "mimetype": "text/x-python",
   "name": "python",
   "nbconvert_exporter": "python",
   "pygments_lexer": "ipython3",
   "version": "3.9.13"
  }
 },
 "nbformat": 4,
 "nbformat_minor": 5
}
