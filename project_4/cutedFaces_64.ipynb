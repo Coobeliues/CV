{
 "cells": [
  {
   "cell_type": "code",
   "execution_count": 1,
   "id": "e4e7b4ad-55d8-4978-819f-0f8b11864652",
   "metadata": {
    "tags": []
   },
   "outputs": [],
   "source": [
    "import matplotlib.pyplot as plt\n",
    "import cv2"
   ]
  },
  {
   "cell_type": "code",
   "execution_count": 3,
   "id": "696aa799-904c-454d-a199-6c51b9cf3d3b",
   "metadata": {
    "tags": []
   },
   "outputs": [],
   "source": [
    "# from tensorflow.keras.preprocessing.image import ImageDataGenerator\n",
    "from keras.preprocessing.image import ImageDataGenerator\n",
    "from keras_vggface.utils import preprocess_input\n",
    "datagen = ImageDataGenerator(\n",
    "    rescale=1/255, # масштабирование значений пикселей в диапазон от 0 до 1\n",
    "    rotation_range=20, # угол поворота изображения\n",
    "    width_shift_range=0.2, # смещение изображения по горизонтали\n",
    "    height_shift_range=0.2, # смещение изображения по вертикали\n",
    "    shear_range=0.2, # сдвиг изображения\n",
    "    zoom_range=0.2, # масштабирование изображения\n",
    "    vertical_flip=True,\n",
    "    horizontal_flip=True, # отражение изображения по горизонтали\n",
    "    brightness_range= (0.5,2.5),\n",
    "    fill_mode='nearest', # заполнение пикселей после преобразований\n",
    "    preprocessing_function=preprocess_input # препроцессинг изображений для распознавания лиц\n",
    "\n",
    ")"
   ]
  },
  {
   "cell_type": "code",
   "execution_count": null,
   "id": "a08afb54-e10f-47a9-86f4-62dff3bdf1ef",
   "metadata": {},
   "outputs": [],
   "source": [
    "import os\n",
    "from keras.preprocessing import image\n",
    "import keras.utils as image\n",
    "\n",
    "\n",
    "original_dir = 'фото/cuted_test/'\n",
    "\n",
    "augmented_dir = 'фото/aug_cuted_test'\n",
    "\n",
    "if not os.path.exists(augmented_dir):\n",
    "    os.makedirs(augmented_dir)\n",
    "\n",
    "for root, dirs, files in os.walk(original_dir):\n",
    "    for filename in files:\n",
    "        img_path = os.path.join(root, filename)\n",
    "        img = image.load_img(img_path)\n",
    "        img = img.convert('RGB')\n",
    "        x = image.img_to_array(img)\n",
    "        x = preprocess_input(x)\n",
    "        x = x.reshape((1,) + x.shape)\n",
    "        i = 0\n",
    "        for batch in datagen.flow(x, batch_size=1,\n",
    "                                  save_to_dir=augmented_dir,\n",
    "                                  save_prefix=filename.split('.')[0],\n",
    "                                  save_format='jpg'):\n",
    "            i += 1\n",
    "            if i >= 5: # random 5 images\n",
    "                break\n"
   ]
  },
  {
   "cell_type": "code",
   "execution_count": 4,
   "id": "48029fb3-7d6b-4ec4-8744-72dae51bc231",
   "metadata": {
    "tags": []
   },
   "outputs": [
    {
     "name": "stdout",
     "output_type": "stream",
     "text": [
      "Found 2644 images belonging to 15 classes.\n"
     ]
    },
    {
     "data": {
      "text/plain": [
       "<keras.preprocessing.image.DirectoryIterator at 0x250653ad870>"
      ]
     },
     "execution_count": 4,
     "metadata": {},
     "output_type": "execute_result"
    }
   ],
   "source": [
    "datagen.flow_from_directory('../фото/aug_c_t/aug_cuted_train/')"
   ]
  },
  {
   "cell_type": "code",
   "execution_count": 5,
   "id": "5f3ddb29-d34b-4cf4-a518-c18a5ba13dd2",
   "metadata": {
    "tags": []
   },
   "outputs": [
    {
     "name": "stdout",
     "output_type": "stream",
     "text": [
      "Found 298 images belonging to 15 classes.\n"
     ]
    },
    {
     "data": {
      "text/plain": [
       "<keras.preprocessing.image.DirectoryIterator at 0x250659b4610>"
      ]
     },
     "execution_count": 5,
     "metadata": {},
     "output_type": "execute_result"
    }
   ],
   "source": [
    "datagen.flow_from_directory('../фото/aug_c_t/aug_cuted_test/')"
   ]
  },
  {
   "cell_type": "code",
   "execution_count": 19,
   "id": "51e49766-85bd-4896-9bf9-4050efa60288",
   "metadata": {
    "tags": []
   },
   "outputs": [],
   "source": [
    "image_shape = (64,64,3)\n",
    "# image_shape = (224,224,3)"
   ]
  },
  {
   "cell_type": "code",
   "execution_count": null,
   "id": "c292d2c4-76b2-406c-93a4-c698fa473da4",
   "metadata": {
    "tags": []
   },
   "outputs": [],
   "source": []
  },
  {
   "cell_type": "code",
   "execution_count": 20,
   "id": "dced76e6-c518-40ee-84a5-c6c4fd0fb555",
   "metadata": {
    "tags": []
   },
   "outputs": [],
   "source": [
    "from keras.models import Sequential\n",
    "from keras.layers import Convolution2D\n",
    "from keras.layers import MaxPool2D\n",
    "from keras.layers import Flatten\n",
    "from keras.layers import Dense\n",
    "\n",
    "classifier= Sequential()\n",
    "\n",
    "\n",
    "classifier.add(Convolution2D(32, kernel_size=(5, 5), strides=(1, 1), input_shape=(64,64,3), activation='relu'))\n",
    "\n",
    "classifier.add(MaxPool2D(pool_size=(2,2)))\n",
    "\n",
    "classifier.add(Convolution2D(64, kernel_size=(5, 5), strides=(1, 1), activation='relu'))\n",
    "\n",
    "classifier.add(MaxPool2D(pool_size=(2,2)))\n",
    "\n",
    "classifier.add(Flatten())\n",
    "\n",
    "classifier.add(Dense(64, activation='relu'))\n",
    "\n",
    "classifier.add(Dense(15, activation='softmax'))\n",
    "\n",
    "#classifier.compile(loss='binary_crossentropy', optimizer='adam', metrics=['accuracy'])\n",
    "classifier.compile(loss='categorical_crossentropy', optimizer = 'adam', metrics=[\"accuracy\"])\n",
    "\n",
    "\n"
   ]
  },
  {
   "cell_type": "code",
   "execution_count": 21,
   "id": "c9c85422-d6d2-4f35-a81c-22186fdbd5f5",
   "metadata": {
    "tags": []
   },
   "outputs": [
    {
     "name": "stdout",
     "output_type": "stream",
     "text": [
      "Model: \"sequential_3\"\n",
      "_________________________________________________________________\n",
      " Layer (type)                Output Shape              Param #   \n",
      "=================================================================\n",
      " conv2d_6 (Conv2D)           (None, 60, 60, 32)        2432      \n",
      "                                                                 \n",
      " max_pooling2d_6 (MaxPooling  (None, 30, 30, 32)       0         \n",
      " 2D)                                                             \n",
      "                                                                 \n",
      " conv2d_7 (Conv2D)           (None, 26, 26, 64)        51264     \n",
      "                                                                 \n",
      " max_pooling2d_7 (MaxPooling  (None, 13, 13, 64)       0         \n",
      " 2D)                                                             \n",
      "                                                                 \n",
      " flatten_3 (Flatten)         (None, 10816)             0         \n",
      "                                                                 \n",
      " dense_6 (Dense)             (None, 64)                692288    \n",
      "                                                                 \n",
      " dense_7 (Dense)             (None, 15)                975       \n",
      "                                                                 \n",
      "=================================================================\n",
      "Total params: 746,959\n",
      "Trainable params: 746,959\n",
      "Non-trainable params: 0\n",
      "_________________________________________________________________\n"
     ]
    }
   ],
   "source": [
    "classifier.summary()\n"
   ]
  },
  {
   "cell_type": "code",
   "execution_count": null,
   "id": "4c924c96-06ae-412b-a907-9316d95d656b",
   "metadata": {
    "tags": []
   },
   "outputs": [],
   "source": []
  },
  {
   "cell_type": "code",
   "execution_count": 22,
   "id": "6fdb1ecd-dac9-4c7c-9fa9-e27ef4b75993",
   "metadata": {
    "tags": []
   },
   "outputs": [
    {
     "name": "stdout",
     "output_type": "stream",
     "text": [
      "Found 2644 images belonging to 15 classes.\n"
     ]
    }
   ],
   "source": [
    "batch_size = 32\n",
    "\n",
    "train_image_gen = datagen.flow_from_directory('../фото/aug_c_t/aug_cuted_train/',\n",
    "                                               target_size=image_shape[:2],\n",
    "                                               batch_size=batch_size,\n",
    "                                               class_mode='categorical') \n",
    "                                               # shuffle = True) #binary, sparse, categorical"
   ]
  },
  {
   "cell_type": "code",
   "execution_count": 23,
   "id": "90a7209a-1907-400d-8871-da08138b580f",
   "metadata": {
    "tags": []
   },
   "outputs": [
    {
     "name": "stdout",
     "output_type": "stream",
     "text": [
      "Found 298 images belonging to 15 classes.\n"
     ]
    }
   ],
   "source": [
    "test_image_gen = datagen.flow_from_directory('../фото/aug_c_t/aug_cuted_test/',\n",
    "                                               target_size=image_shape[:2],\n",
    "                                               batch_size=batch_size,\n",
    "                                               class_mode='categorical')\n",
    "                                               # shuffle=True)"
   ]
  },
  {
   "cell_type": "code",
   "execution_count": 24,
   "id": "b3530e07-244b-47b0-b078-cfbd25a8d799",
   "metadata": {
    "tags": []
   },
   "outputs": [
    {
     "data": {
      "text/plain": [
       "{'Akhmedov Sanzhar': 0,\n",
       " 'Alikhan Zhamankhan': 1,\n",
       " 'Baibatchayeva Anar': 2,\n",
       " 'Dalabay Abylay': 3,\n",
       " 'Daniyar Raiymbekov': 4,\n",
       " 'Duisenov Alikhan': 5,\n",
       " 'Ernar': 6,\n",
       " 'Kenzhebay Askar': 7,\n",
       " 'Kyran Yerkin': 8,\n",
       " 'Maxat Ualikhan': 9,\n",
       " 'Rysmambetov Nurtugan': 10,\n",
       " 'Sagynbek Nurbolat': 11,\n",
       " 'Yerkin Yernar': 12,\n",
       " 'Zhetessov Nur': 13,\n",
       " 'Zhumabekov Magjan': 14}"
      ]
     },
     "execution_count": 24,
     "metadata": {},
     "output_type": "execute_result"
    }
   ],
   "source": [
    "train_image_gen.class_indices"
   ]
  },
  {
   "cell_type": "code",
   "execution_count": 25,
   "id": "b5eeb507-e22d-440b-b906-91a3497be2ed",
   "metadata": {
    "tags": []
   },
   "outputs": [],
   "source": [
    "import warnings\n",
    "warnings.filterwarnings('ignore')"
   ]
  },
  {
   "cell_type": "code",
   "execution_count": 26,
   "id": "859eea05-ade8-40c8-aa37-a29e4d56da21",
   "metadata": {
    "tags": []
   },
   "outputs": [
    {
     "name": "stdout",
     "output_type": "stream",
     "text": [
      "2644\n",
      "32\n"
     ]
    }
   ],
   "source": [
    "print(train_image_gen.n)\n",
    "print(train_image_gen.batch_size)"
   ]
  },
  {
   "cell_type": "code",
   "execution_count": 27,
   "id": "5b619951-5883-4603-8e9e-f4bb5827f0c4",
   "metadata": {
    "tags": []
   },
   "outputs": [
    {
     "name": "stdout",
     "output_type": "stream",
     "text": [
      "Epoch 1/10\n",
      "82/82 [==============================] - 36s 427ms/step - loss: 2.6680 - accuracy: 0.1007 - val_loss: 2.6090 - val_accuracy: 0.1181\n",
      "Epoch 2/10\n",
      "82/82 [==============================] - 34s 411ms/step - loss: 2.5053 - accuracy: 0.1604 - val_loss: 2.5443 - val_accuracy: 0.1632\n",
      "Epoch 3/10\n",
      "82/82 [==============================] - 34s 419ms/step - loss: 2.3058 - accuracy: 0.2232 - val_loss: 2.3715 - val_accuracy: 0.2569\n",
      "Epoch 4/10\n",
      "82/82 [==============================] - 28s 340ms/step - loss: 2.1153 - accuracy: 0.2956 - val_loss: 2.2633 - val_accuracy: 0.3125\n",
      "Epoch 5/10\n",
      "82/82 [==============================] - 27s 332ms/step - loss: 1.9553 - accuracy: 0.3641 - val_loss: 2.1036 - val_accuracy: 0.3299\n",
      "Epoch 6/10\n",
      "82/82 [==============================] - 27s 331ms/step - loss: 1.8888 - accuracy: 0.3809 - val_loss: 2.0790 - val_accuracy: 0.3576\n",
      "Epoch 7/10\n",
      "82/82 [==============================] - 27s 333ms/step - loss: 1.7960 - accuracy: 0.4104 - val_loss: 1.9228 - val_accuracy: 0.4062\n",
      "Epoch 8/10\n",
      "82/82 [==============================] - 27s 331ms/step - loss: 1.7455 - accuracy: 0.4261 - val_loss: 1.8742 - val_accuracy: 0.4306\n",
      "Epoch 9/10\n",
      "82/82 [==============================] - 27s 331ms/step - loss: 1.6772 - accuracy: 0.4449 - val_loss: 1.8883 - val_accuracy: 0.4167\n",
      "Epoch 10/10\n",
      "82/82 [==============================] - 28s 336ms/step - loss: 1.6017 - accuracy: 0.4797 - val_loss: 1.8971 - val_accuracy: 0.4271\n"
     ]
    }
   ],
   "source": [
    "hehe = classifier.fit_generator(\n",
    "                    train_image_gen,\n",
    "                    steps_per_epoch=train_image_gen.n // train_image_gen.batch_size,\n",
    "                    epochs=10,\n",
    "                    validation_data=test_image_gen,\n",
    "                    validation_steps=test_image_gen.n // test_image_gen.batch_size)"
   ]
  },
  {
   "cell_type": "code",
   "execution_count": 32,
   "id": "2d9c90b4-67dc-4135-8356-1607d160f012",
   "metadata": {
    "tags": []
   },
   "outputs": [
    {
     "name": "stdout",
     "output_type": "stream",
     "text": [
      "Epoch 1/25\n",
      "82/82 [==============================] - 29s 355ms/step - loss: 1.5652 - accuracy: 0.4862 - val_loss: 1.8142 - val_accuracy: 0.4514\n",
      "Epoch 2/25\n",
      "82/82 [==============================] - 30s 369ms/step - loss: 1.5120 - accuracy: 0.5145 - val_loss: 1.7947 - val_accuracy: 0.4896\n",
      "Epoch 3/25\n",
      "82/82 [==============================] - 20s 247ms/step - loss: 1.5112 - accuracy: 0.5191 - val_loss: 1.7615 - val_accuracy: 0.5069\n",
      "Epoch 4/25\n",
      "82/82 [==============================] - 20s 242ms/step - loss: 1.4314 - accuracy: 0.5440 - val_loss: 1.6348 - val_accuracy: 0.4965\n",
      "Epoch 5/25\n",
      "82/82 [==============================] - 20s 238ms/step - loss: 1.4241 - accuracy: 0.5360 - val_loss: 1.5438 - val_accuracy: 0.5382\n",
      "Epoch 6/25\n",
      "82/82 [==============================] - 20s 240ms/step - loss: 1.3735 - accuracy: 0.5620 - val_loss: 1.6765 - val_accuracy: 0.5174\n",
      "Epoch 7/25\n",
      "82/82 [==============================] - 20s 238ms/step - loss: 1.3109 - accuracy: 0.5827 - val_loss: 1.7527 - val_accuracy: 0.4965\n",
      "Epoch 8/25\n",
      "82/82 [==============================] - 19s 237ms/step - loss: 1.2991 - accuracy: 0.5831 - val_loss: 1.6193 - val_accuracy: 0.5139\n",
      "Epoch 9/25\n",
      "82/82 [==============================] - 19s 234ms/step - loss: 1.2618 - accuracy: 0.5911 - val_loss: 1.7422 - val_accuracy: 0.5312\n",
      "Epoch 10/25\n",
      "82/82 [==============================] - 19s 234ms/step - loss: 1.2785 - accuracy: 0.5831 - val_loss: 1.5247 - val_accuracy: 0.5556\n",
      "Epoch 11/25\n",
      "82/82 [==============================] - 19s 236ms/step - loss: 1.1982 - accuracy: 0.6022 - val_loss: 1.4676 - val_accuracy: 0.5903\n",
      "Epoch 12/25\n",
      "82/82 [==============================] - 19s 235ms/step - loss: 1.2112 - accuracy: 0.6132 - val_loss: 1.5406 - val_accuracy: 0.5347\n",
      "Epoch 13/25\n",
      "82/82 [==============================] - 20s 243ms/step - loss: 1.1553 - accuracy: 0.6244 - val_loss: 1.7213 - val_accuracy: 0.4965\n",
      "Epoch 14/25\n",
      "82/82 [==============================] - 19s 235ms/step - loss: 1.1360 - accuracy: 0.6394 - val_loss: 1.5261 - val_accuracy: 0.5729\n",
      "Epoch 15/25\n",
      "82/82 [==============================] - 19s 233ms/step - loss: 1.1206 - accuracy: 0.6413 - val_loss: 1.4265 - val_accuracy: 0.6007\n",
      "Epoch 16/25\n",
      "82/82 [==============================] - 20s 238ms/step - loss: 1.0908 - accuracy: 0.6539 - val_loss: 1.4982 - val_accuracy: 0.5833\n",
      "Epoch 17/25\n",
      "82/82 [==============================] - 20s 238ms/step - loss: 1.0974 - accuracy: 0.6482 - val_loss: 1.3673 - val_accuracy: 0.6146\n",
      "Epoch 18/25\n",
      "82/82 [==============================] - 19s 235ms/step - loss: 1.0562 - accuracy: 0.6608 - val_loss: 1.3969 - val_accuracy: 0.5938\n",
      "Epoch 19/25\n",
      "82/82 [==============================] - 19s 232ms/step - loss: 1.0210 - accuracy: 0.6730 - val_loss: 1.3210 - val_accuracy: 0.6007\n",
      "Epoch 20/25\n",
      "82/82 [==============================] - 19s 234ms/step - loss: 1.0608 - accuracy: 0.6673 - val_loss: 1.4348 - val_accuracy: 0.6076\n",
      "Epoch 21/25\n",
      "82/82 [==============================] - 19s 234ms/step - loss: 0.9742 - accuracy: 0.6891 - val_loss: 1.4044 - val_accuracy: 0.6250\n",
      "Epoch 22/25\n",
      "82/82 [==============================] - 19s 229ms/step - loss: 1.0253 - accuracy: 0.6708 - val_loss: 1.4724 - val_accuracy: 0.6076\n",
      "Epoch 23/25\n",
      "82/82 [==============================] - 19s 236ms/step - loss: 1.0308 - accuracy: 0.6631 - val_loss: 1.4583 - val_accuracy: 0.6285\n",
      "Epoch 24/25\n",
      "82/82 [==============================] - 19s 237ms/step - loss: 0.9606 - accuracy: 0.6960 - val_loss: 1.2270 - val_accuracy: 0.6389\n",
      "Epoch 25/25\n",
      "82/82 [==============================] - 19s 237ms/step - loss: 0.9356 - accuracy: 0.6995 - val_loss: 1.2362 - val_accuracy: 0.6319\n"
     ]
    }
   ],
   "source": [
    "hehe = classifier.fit_generator(\n",
    "                    train_image_gen,\n",
    "                    steps_per_epoch=train_image_gen.n // train_image_gen.batch_size,\n",
    "                    epochs=25,\n",
    "                    validation_data=test_image_gen,\n",
    "                    validation_steps=test_image_gen.n // test_image_gen.batch_size)"
   ]
  },
  {
   "cell_type": "code",
   "execution_count": 40,
   "id": "59508efc-9a5c-433f-9d79-32421ec2a941",
   "metadata": {
    "tags": []
   },
   "outputs": [
    {
     "name": "stdout",
     "output_type": "stream",
     "text": [
      "Epoch 1/100\n",
      "82/82 [==============================] - 27s 326ms/step - loss: 0.9546 - accuracy: 0.6899 - val_loss: 1.3942 - val_accuracy: 0.6181\n",
      "Epoch 2/100\n",
      "82/82 [==============================] - 19s 237ms/step - loss: 0.9268 - accuracy: 0.7090 - val_loss: 1.3678 - val_accuracy: 0.6181\n",
      "Epoch 3/100\n",
      "82/82 [==============================] - 19s 237ms/step - loss: 0.9363 - accuracy: 0.6998 - val_loss: 1.3885 - val_accuracy: 0.6319\n",
      "Epoch 4/100\n",
      "82/82 [==============================] - 19s 236ms/step - loss: 0.8881 - accuracy: 0.7190 - val_loss: 1.2372 - val_accuracy: 0.6458\n",
      "Epoch 5/100\n",
      "82/82 [==============================] - 20s 239ms/step - loss: 0.8933 - accuracy: 0.7240 - val_loss: 1.2397 - val_accuracy: 0.6424\n",
      "Epoch 6/100\n",
      "82/82 [==============================] - 19s 237ms/step - loss: 0.8843 - accuracy: 0.7228 - val_loss: 1.1530 - val_accuracy: 0.6771\n",
      "Epoch 7/100\n",
      "82/82 [==============================] - 19s 235ms/step - loss: 0.8605 - accuracy: 0.7309 - val_loss: 1.3697 - val_accuracy: 0.6528\n",
      "Epoch 8/100\n",
      "82/82 [==============================] - 19s 235ms/step - loss: 0.8467 - accuracy: 0.7420 - val_loss: 1.3111 - val_accuracy: 0.6181\n",
      "Epoch 9/100\n",
      "82/82 [==============================] - 20s 238ms/step - loss: 0.8346 - accuracy: 0.7305 - val_loss: 1.2831 - val_accuracy: 0.6806\n",
      "Epoch 10/100\n",
      "82/82 [==============================] - 21s 253ms/step - loss: 0.8419 - accuracy: 0.7454 - val_loss: 1.2483 - val_accuracy: 0.6875\n",
      "Epoch 11/100\n",
      "82/82 [==============================] - 29s 358ms/step - loss: 0.7849 - accuracy: 0.7496 - val_loss: 1.2777 - val_accuracy: 0.6285\n",
      "Epoch 12/100\n",
      "82/82 [==============================] - 28s 345ms/step - loss: 0.8431 - accuracy: 0.7335 - val_loss: 1.2389 - val_accuracy: 0.6597\n",
      "Epoch 13/100\n",
      "82/82 [==============================] - 28s 338ms/step - loss: 0.8123 - accuracy: 0.7454 - val_loss: 1.1944 - val_accuracy: 0.6424\n",
      "Epoch 14/100\n",
      "82/82 [==============================] - 28s 337ms/step - loss: 0.7465 - accuracy: 0.7630 - val_loss: 1.1774 - val_accuracy: 0.6771\n",
      "Epoch 15/100\n",
      "82/82 [==============================] - 28s 336ms/step - loss: 0.7817 - accuracy: 0.7492 - val_loss: 1.1587 - val_accuracy: 0.6493\n",
      "Epoch 16/100\n",
      "82/82 [==============================] - 28s 336ms/step - loss: 0.7911 - accuracy: 0.7393 - val_loss: 1.1628 - val_accuracy: 0.6806\n",
      "Epoch 17/100\n",
      "82/82 [==============================] - 28s 337ms/step - loss: 0.7739 - accuracy: 0.7565 - val_loss: 1.1186 - val_accuracy: 0.6979\n",
      "Epoch 18/100\n",
      "82/82 [==============================] - 28s 339ms/step - loss: 0.7796 - accuracy: 0.7492 - val_loss: 0.9149 - val_accuracy: 0.7083\n",
      "Epoch 19/100\n",
      "82/82 [==============================] - 28s 337ms/step - loss: 0.7269 - accuracy: 0.7703 - val_loss: 1.1619 - val_accuracy: 0.6632\n",
      "Epoch 20/100\n",
      "82/82 [==============================] - 27s 334ms/step - loss: 0.7550 - accuracy: 0.7500 - val_loss: 1.1360 - val_accuracy: 0.7153\n",
      "Epoch 21/100\n",
      "82/82 [==============================] - 28s 337ms/step - loss: 0.7335 - accuracy: 0.7630 - val_loss: 1.0920 - val_accuracy: 0.7257\n",
      "Epoch 22/100\n",
      "82/82 [==============================] - 28s 337ms/step - loss: 0.7290 - accuracy: 0.7718 - val_loss: 1.1204 - val_accuracy: 0.7257\n",
      "Epoch 23/100\n",
      "82/82 [==============================] - 28s 336ms/step - loss: 0.7525 - accuracy: 0.7592 - val_loss: 1.1704 - val_accuracy: 0.7049\n",
      "Epoch 24/100\n",
      "82/82 [==============================] - 28s 336ms/step - loss: 0.7169 - accuracy: 0.7726 - val_loss: 1.2616 - val_accuracy: 0.6632\n",
      "Epoch 25/100\n",
      "82/82 [==============================] - 28s 338ms/step - loss: 0.7270 - accuracy: 0.7665 - val_loss: 1.0624 - val_accuracy: 0.7326\n",
      "Epoch 26/100\n",
      "82/82 [==============================] - 28s 339ms/step - loss: 0.7034 - accuracy: 0.7741 - val_loss: 0.9829 - val_accuracy: 0.7604\n",
      "Epoch 27/100\n",
      "82/82 [==============================] - 28s 338ms/step - loss: 0.6893 - accuracy: 0.7818 - val_loss: 1.0738 - val_accuracy: 0.7049\n",
      "Epoch 28/100\n",
      "82/82 [==============================] - 28s 335ms/step - loss: 0.6923 - accuracy: 0.7745 - val_loss: 1.0561 - val_accuracy: 0.6667\n",
      "Epoch 29/100\n",
      "82/82 [==============================] - 28s 336ms/step - loss: 0.6858 - accuracy: 0.7833 - val_loss: 1.2328 - val_accuracy: 0.7292\n",
      "Epoch 30/100\n",
      "82/82 [==============================] - 28s 336ms/step - loss: 0.6625 - accuracy: 0.7879 - val_loss: 1.0648 - val_accuracy: 0.7326\n",
      "Epoch 31/100\n",
      "82/82 [==============================] - 28s 338ms/step - loss: 0.6718 - accuracy: 0.7854 - val_loss: 0.9698 - val_accuracy: 0.7465\n",
      "Epoch 32/100\n",
      "82/82 [==============================] - 28s 335ms/step - loss: 0.6738 - accuracy: 0.7868 - val_loss: 0.9357 - val_accuracy: 0.7361\n",
      "Epoch 33/100\n",
      "82/82 [==============================] - 28s 338ms/step - loss: 0.6790 - accuracy: 0.7845 - val_loss: 1.3002 - val_accuracy: 0.6979\n",
      "Epoch 34/100\n",
      "82/82 [==============================] - 28s 337ms/step - loss: 0.6356 - accuracy: 0.8002 - val_loss: 1.1248 - val_accuracy: 0.7118\n",
      "Epoch 35/100\n",
      "82/82 [==============================] - 28s 336ms/step - loss: 0.6478 - accuracy: 0.7956 - val_loss: 0.9702 - val_accuracy: 0.7465\n",
      "Epoch 36/100\n",
      "82/82 [==============================] - 29s 353ms/step - loss: 0.6386 - accuracy: 0.7933 - val_loss: 1.0163 - val_accuracy: 0.6979\n",
      "Epoch 37/100\n",
      "82/82 [==============================] - 20s 239ms/step - loss: 0.6442 - accuracy: 0.7940 - val_loss: 1.0741 - val_accuracy: 0.7049\n",
      "Epoch 38/100\n",
      "82/82 [==============================] - 19s 235ms/step - loss: 0.6481 - accuracy: 0.7917 - val_loss: 1.2141 - val_accuracy: 0.6840\n",
      "Epoch 39/100\n",
      "82/82 [==============================] - 20s 237ms/step - loss: 0.6355 - accuracy: 0.7982 - val_loss: 1.0111 - val_accuracy: 0.7361\n",
      "Epoch 40/100\n",
      "82/82 [==============================] - 19s 235ms/step - loss: 0.6130 - accuracy: 0.8005 - val_loss: 0.8761 - val_accuracy: 0.7569\n",
      "Epoch 41/100\n",
      "82/82 [==============================] - 21s 260ms/step - loss: 0.5976 - accuracy: 0.8086 - val_loss: 0.9913 - val_accuracy: 0.7604\n",
      "Epoch 42/100\n",
      "82/82 [==============================] - 22s 263ms/step - loss: 0.6254 - accuracy: 0.8013 - val_loss: 1.1856 - val_accuracy: 0.7118\n",
      "Epoch 43/100\n",
      "82/82 [==============================] - 23s 276ms/step - loss: 0.6375 - accuracy: 0.7956 - val_loss: 1.0436 - val_accuracy: 0.7118\n",
      "Epoch 44/100\n",
      "82/82 [==============================] - 19s 235ms/step - loss: 0.6324 - accuracy: 0.7998 - val_loss: 0.9965 - val_accuracy: 0.7535\n",
      "Epoch 45/100\n",
      "82/82 [==============================] - 20s 237ms/step - loss: 0.6367 - accuracy: 0.7979 - val_loss: 1.2285 - val_accuracy: 0.6806\n",
      "Epoch 46/100\n",
      "82/82 [==============================] - 19s 235ms/step - loss: 0.6273 - accuracy: 0.7917 - val_loss: 1.0374 - val_accuracy: 0.6875\n",
      "Epoch 47/100\n",
      "82/82 [==============================] - 19s 237ms/step - loss: 0.5889 - accuracy: 0.8059 - val_loss: 1.2659 - val_accuracy: 0.6910\n",
      "Epoch 48/100\n",
      "82/82 [==============================] - 21s 252ms/step - loss: 0.5633 - accuracy: 0.8197 - val_loss: 1.2164 - val_accuracy: 0.7049\n",
      "Epoch 49/100\n",
      "82/82 [==============================] - 20s 240ms/step - loss: 0.5821 - accuracy: 0.8162 - val_loss: 0.8214 - val_accuracy: 0.7604\n",
      "Epoch 50/100\n",
      "82/82 [==============================] - 20s 244ms/step - loss: 0.5677 - accuracy: 0.8147 - val_loss: 1.0865 - val_accuracy: 0.7396\n",
      "Epoch 51/100\n",
      "82/82 [==============================] - 20s 242ms/step - loss: 0.5719 - accuracy: 0.8181 - val_loss: 0.8957 - val_accuracy: 0.7465\n",
      "Epoch 52/100\n",
      "82/82 [==============================] - 24s 296ms/step - loss: 0.5742 - accuracy: 0.8128 - val_loss: 1.1775 - val_accuracy: 0.7465\n",
      "Epoch 53/100\n",
      "82/82 [==============================] - 21s 262ms/step - loss: 0.5539 - accuracy: 0.8235 - val_loss: 1.0449 - val_accuracy: 0.7292\n",
      "Epoch 54/100\n",
      "82/82 [==============================] - 34s 413ms/step - loss: 0.5119 - accuracy: 0.8300 - val_loss: 1.0407 - val_accuracy: 0.6944\n",
      "Epoch 55/100\n",
      "82/82 [==============================] - 34s 415ms/step - loss: 0.5440 - accuracy: 0.8323 - val_loss: 0.9493 - val_accuracy: 0.7153\n",
      "Epoch 56/100\n",
      "82/82 [==============================] - 21s 254ms/step - loss: 0.5335 - accuracy: 0.8350 - val_loss: 1.0163 - val_accuracy: 0.7535\n",
      "Epoch 57/100\n",
      "82/82 [==============================] - 21s 252ms/step - loss: 0.5562 - accuracy: 0.8254 - val_loss: 0.9265 - val_accuracy: 0.7674\n",
      "Epoch 58/100\n",
      "82/82 [==============================] - 21s 255ms/step - loss: 0.5571 - accuracy: 0.8247 - val_loss: 0.9546 - val_accuracy: 0.7500\n",
      "Epoch 59/100\n",
      "82/82 [==============================] - 32s 386ms/step - loss: 0.5657 - accuracy: 0.8204 - val_loss: 0.9842 - val_accuracy: 0.7639\n",
      "Epoch 60/100\n",
      "82/82 [==============================] - 23s 282ms/step - loss: 0.5125 - accuracy: 0.8331 - val_loss: 0.9942 - val_accuracy: 0.7465\n",
      "Epoch 61/100\n",
      "82/82 [==============================] - 34s 415ms/step - loss: 0.5384 - accuracy: 0.8350 - val_loss: 0.9954 - val_accuracy: 0.7257\n",
      "Epoch 62/100\n",
      "82/82 [==============================] - 33s 405ms/step - loss: 0.5389 - accuracy: 0.8247 - val_loss: 0.9837 - val_accuracy: 0.7431\n",
      "Epoch 63/100\n",
      "82/82 [==============================] - 28s 344ms/step - loss: 0.5463 - accuracy: 0.8227 - val_loss: 0.9677 - val_accuracy: 0.7535\n",
      "Epoch 64/100\n",
      "82/82 [==============================] - 27s 334ms/step - loss: 0.5290 - accuracy: 0.8270 - val_loss: 0.9761 - val_accuracy: 0.7257\n",
      "Epoch 65/100\n",
      "82/82 [==============================] - 29s 347ms/step - loss: 0.5321 - accuracy: 0.8365 - val_loss: 1.0720 - val_accuracy: 0.7188\n",
      "Epoch 66/100\n",
      "82/82 [==============================] - 30s 368ms/step - loss: 0.5099 - accuracy: 0.8415 - val_loss: 0.7573 - val_accuracy: 0.7882\n",
      "Epoch 67/100\n",
      "82/82 [==============================] - 29s 357ms/step - loss: 0.5090 - accuracy: 0.8419 - val_loss: 0.7766 - val_accuracy: 0.7674\n",
      "Epoch 68/100\n",
      "82/82 [==============================] - 28s 338ms/step - loss: 0.5140 - accuracy: 0.8304 - val_loss: 1.0933 - val_accuracy: 0.7639\n",
      "Epoch 69/100\n",
      "82/82 [==============================] - 30s 367ms/step - loss: 0.4891 - accuracy: 0.8503 - val_loss: 0.9895 - val_accuracy: 0.7500\n",
      "Epoch 70/100\n",
      "82/82 [==============================] - 29s 356ms/step - loss: 0.5136 - accuracy: 0.8292 - val_loss: 0.9469 - val_accuracy: 0.7604\n",
      "Epoch 71/100\n",
      "82/82 [==============================] - 28s 347ms/step - loss: 0.5240 - accuracy: 0.8365 - val_loss: 0.9485 - val_accuracy: 0.7431\n",
      "Epoch 72/100\n",
      "82/82 [==============================] - 29s 349ms/step - loss: 0.5058 - accuracy: 0.8304 - val_loss: 0.8296 - val_accuracy: 0.7674\n",
      "Epoch 73/100\n",
      "82/82 [==============================] - 29s 351ms/step - loss: 0.5328 - accuracy: 0.8342 - val_loss: 0.8054 - val_accuracy: 0.7882\n",
      "Epoch 74/100\n",
      "82/82 [==============================] - 29s 357ms/step - loss: 0.5226 - accuracy: 0.8266 - val_loss: 0.8918 - val_accuracy: 0.7812\n",
      "Epoch 75/100\n",
      "82/82 [==============================] - 34s 410ms/step - loss: 0.4758 - accuracy: 0.8338 - val_loss: 0.8817 - val_accuracy: 0.7778\n",
      "Epoch 76/100\n",
      "82/82 [==============================] - 32s 395ms/step - loss: 0.4756 - accuracy: 0.8534 - val_loss: 0.8667 - val_accuracy: 0.7812\n",
      "Epoch 77/100\n",
      "82/82 [==============================] - 32s 389ms/step - loss: 0.4807 - accuracy: 0.8411 - val_loss: 0.8672 - val_accuracy: 0.7639\n",
      "Epoch 78/100\n",
      "82/82 [==============================] - 29s 347ms/step - loss: 0.4693 - accuracy: 0.8507 - val_loss: 0.7995 - val_accuracy: 0.7743\n",
      "Epoch 79/100\n",
      "82/82 [==============================] - 29s 355ms/step - loss: 0.5195 - accuracy: 0.8323 - val_loss: 0.9913 - val_accuracy: 0.7257\n",
      "Epoch 80/100\n",
      "82/82 [==============================] - 29s 359ms/step - loss: 0.4658 - accuracy: 0.8438 - val_loss: 0.8290 - val_accuracy: 0.8021\n",
      "Epoch 81/100\n",
      "82/82 [==============================] - 30s 362ms/step - loss: 0.4699 - accuracy: 0.8530 - val_loss: 0.8175 - val_accuracy: 0.7882\n",
      "Epoch 82/100\n",
      "82/82 [==============================] - 29s 359ms/step - loss: 0.4831 - accuracy: 0.8476 - val_loss: 1.0064 - val_accuracy: 0.7361\n",
      "Epoch 83/100\n",
      "82/82 [==============================] - 30s 363ms/step - loss: 0.4628 - accuracy: 0.8511 - val_loss: 0.9335 - val_accuracy: 0.7743\n",
      "Epoch 84/100\n",
      "82/82 [==============================] - 30s 361ms/step - loss: 0.4923 - accuracy: 0.8442 - val_loss: 0.9238 - val_accuracy: 0.7431\n",
      "Epoch 85/100\n",
      "82/82 [==============================] - 29s 355ms/step - loss: 0.4448 - accuracy: 0.8595 - val_loss: 0.7099 - val_accuracy: 0.8021\n",
      "Epoch 86/100\n",
      "82/82 [==============================] - 28s 344ms/step - loss: 0.4640 - accuracy: 0.8472 - val_loss: 0.9947 - val_accuracy: 0.7639\n",
      "Epoch 87/100\n",
      "82/82 [==============================] - 28s 347ms/step - loss: 0.4902 - accuracy: 0.8492 - val_loss: 0.9985 - val_accuracy: 0.7778\n",
      "Epoch 88/100\n",
      "82/82 [==============================] - 29s 349ms/step - loss: 0.5066 - accuracy: 0.8361 - val_loss: 0.9714 - val_accuracy: 0.7778\n",
      "Epoch 89/100\n",
      "82/82 [==============================] - 30s 366ms/step - loss: 0.4307 - accuracy: 0.8622 - val_loss: 1.0657 - val_accuracy: 0.7604\n",
      "Epoch 90/100\n",
      "82/82 [==============================] - 29s 357ms/step - loss: 0.4838 - accuracy: 0.8488 - val_loss: 0.8751 - val_accuracy: 0.7569\n",
      "Epoch 91/100\n",
      "82/82 [==============================] - 29s 356ms/step - loss: 0.4757 - accuracy: 0.8469 - val_loss: 1.1208 - val_accuracy: 0.7535\n",
      "Epoch 92/100\n",
      "82/82 [==============================] - 30s 367ms/step - loss: 0.4830 - accuracy: 0.8503 - val_loss: 0.9599 - val_accuracy: 0.7743\n",
      "Epoch 93/100\n",
      "82/82 [==============================] - 30s 370ms/step - loss: 0.4447 - accuracy: 0.8576 - val_loss: 0.9668 - val_accuracy: 0.7708\n",
      "Epoch 94/100\n",
      "82/82 [==============================] - 28s 342ms/step - loss: 0.4779 - accuracy: 0.8465 - val_loss: 0.9994 - val_accuracy: 0.7708\n",
      "Epoch 95/100\n",
      "82/82 [==============================] - 28s 342ms/step - loss: 0.4337 - accuracy: 0.8572 - val_loss: 0.8188 - val_accuracy: 0.7986\n",
      "Epoch 96/100\n",
      "82/82 [==============================] - 28s 345ms/step - loss: 0.4655 - accuracy: 0.8449 - val_loss: 1.0359 - val_accuracy: 0.7500\n",
      "Epoch 97/100\n",
      "82/82 [==============================] - 28s 345ms/step - loss: 0.4202 - accuracy: 0.8683 - val_loss: 0.8460 - val_accuracy: 0.7569\n",
      "Epoch 98/100\n",
      "82/82 [==============================] - 28s 345ms/step - loss: 0.4668 - accuracy: 0.8572 - val_loss: 0.8305 - val_accuracy: 0.7674\n",
      "Epoch 99/100\n",
      "82/82 [==============================] - 29s 357ms/step - loss: 0.4528 - accuracy: 0.8541 - val_loss: 0.7242 - val_accuracy: 0.8299\n",
      "Epoch 100/100\n",
      "82/82 [==============================] - 30s 371ms/step - loss: 0.4443 - accuracy: 0.8522 - val_loss: 1.0754 - val_accuracy: 0.7396\n"
     ]
    }
   ],
   "source": [
    "haha = classifier.fit_generator(\n",
    "                    train_image_gen,\n",
    "                    steps_per_epoch=train_image_gen.n // train_image_gen.batch_size,\n",
    "                    epochs=100,\n",
    "                    validation_data=test_image_gen,\n",
    "                    validation_steps=test_image_gen.n // test_image_gen.batch_size)"
   ]
  },
  {
   "cell_type": "code",
   "execution_count": 57,
   "id": "f4163136-c7d9-487b-8b17-f96168db679a",
   "metadata": {
    "tags": []
   },
   "outputs": [],
   "source": []
  },
  {
   "cell_type": "code",
   "execution_count": 1,
   "id": "f6d91804-28a4-46de-85e8-67585dfc72f8",
   "metadata": {
    "tags": []
   },
   "outputs": [],
   "source": []
  },
  {
   "cell_type": "code",
   "execution_count": 28,
   "id": "62add524-6d6c-4e70-a62c-41d056af9a87",
   "metadata": {
    "tags": []
   },
   "outputs": [
    {
     "data": {
      "text/plain": [
       "[0.1006891280412674,\n",
       " 0.1604134738445282,\n",
       " 0.22320061922073364,\n",
       " 0.29555895924568176,\n",
       " 0.36408883333206177,\n",
       " 0.3809341490268707,\n",
       " 0.4104134738445282,\n",
       " 0.42611026763916016,\n",
       " 0.44486984610557556,\n",
       " 0.47970902919769287]"
      ]
     },
     "execution_count": 28,
     "metadata": {},
     "output_type": "execute_result"
    }
   ],
   "source": [
    "hehe.history['accuracy']"
   ]
  },
  {
   "cell_type": "code",
   "execution_count": 33,
   "id": "ab33c749-6d35-4023-92cb-9d2b39905af2",
   "metadata": {
    "tags": []
   },
   "outputs": [
    {
     "data": {
      "text/plain": [
       "[0.4862174689769745,\n",
       " 0.5145482420921326,\n",
       " 0.5191424489021301,\n",
       " 0.54402756690979,\n",
       " 0.5359877347946167,\n",
       " 0.5620214343070984,\n",
       " 0.5826952457427979,\n",
       " 0.5830780863761902,\n",
       " 0.5911179184913635,\n",
       " 0.5830780863761902,\n",
       " 0.6022205352783203,\n",
       " 0.6131860017776489,\n",
       " 0.6244257092475891,\n",
       " 0.639356791973114,\n",
       " 0.6412710547447205,\n",
       " 0.6539050340652466,\n",
       " 0.648162305355072,\n",
       " 0.6607963442802429,\n",
       " 0.6730474829673767,\n",
       " 0.6673047542572021,\n",
       " 0.6891270875930786,\n",
       " 0.6707503795623779,\n",
       " 0.6630933880805969,\n",
       " 0.696018397808075,\n",
       " 0.6994640231132507]"
      ]
     },
     "execution_count": 33,
     "metadata": {},
     "output_type": "execute_result"
    }
   ],
   "source": [
    "hehe.history['accuracy']"
   ]
  },
  {
   "cell_type": "code",
   "execution_count": 43,
   "id": "5156ffbd-98dd-49a0-9f6e-463b35adeed3",
   "metadata": {
    "tags": []
   },
   "outputs": [
    {
     "data": {
      "text/plain": [
       "[0.6898928284645081,\n",
       " 0.7090352177619934,\n",
       " 0.6998468637466431,\n",
       " 0.7189892530441284,\n",
       " 0.7239663004875183,\n",
       " 0.7228177785873413,\n",
       " 0.7308575510978699,\n",
       " 0.7419601678848267,\n",
       " 0.7304747104644775,\n",
       " 0.7454057931900024,\n",
       " 0.7496171593666077,\n",
       " 0.733537495136261,\n",
       " 0.7454057931900024,\n",
       " 0.7630168199539185,\n",
       " 0.7492343187332153,\n",
       " 0.7392802238464355,\n",
       " 0.7565084099769592,\n",
       " 0.7492343187332153,\n",
       " 0.7702909708023071,\n",
       " 0.75,\n",
       " 0.7630168199539185,\n",
       " 0.7718223333358765,\n",
       " 0.7591883540153503,\n",
       " 0.7725880742073059,\n",
       " 0.766462504863739,\n",
       " 0.7741194367408752,\n",
       " 0.7817764282226562,\n",
       " 0.7745022773742676,\n",
       " 0.7833077907562256,\n",
       " 0.7879019975662231,\n",
       " 0.785442054271698,\n",
       " 0.7867534160614014,\n",
       " 0.7844563722610474,\n",
       " 0.8001531362533569,\n",
       " 0.7955589294433594,\n",
       " 0.7932618856430054,\n",
       " 0.79402756690979,\n",
       " 0.7917304635047913,\n",
       " 0.7982388734817505,\n",
       " 0.8005359768867493,\n",
       " 0.8085758090019226,\n",
       " 0.8013016581535339,\n",
       " 0.7955589294433594,\n",
       " 0.7997702956199646,\n",
       " 0.7978560328483582,\n",
       " 0.7917304635047913,\n",
       " 0.8058958649635315,\n",
       " 0.8196784257888794,\n",
       " 0.8162328004837036,\n",
       " 0.8147013783454895,\n",
       " 0.8181470036506653,\n",
       " 0.8127871155738831,\n",
       " 0.8235068917274475,\n",
       " 0.8300153017044067,\n",
       " 0.8323124051094055,\n",
       " 0.8349923491477966,\n",
       " 0.825421154499054,\n",
       " 0.8246554136276245,\n",
       " 0.8204441070556641,\n",
       " 0.8330780863761902,\n",
       " 0.8349923491477966,\n",
       " 0.8246554136276245,\n",
       " 0.8227412104606628,\n",
       " 0.8269525170326233,\n",
       " 0.836523711681366,\n",
       " 0.8415007591247559,\n",
       " 0.8418835997581482,\n",
       " 0.8303981423377991,\n",
       " 0.8503062725067139,\n",
       " 0.8292496204376221,\n",
       " 0.836523711681366,\n",
       " 0.8303981423377991,\n",
       " 0.834226667881012,\n",
       " 0.826569676399231,\n",
       " 0.8338438272476196,\n",
       " 0.8533690571784973,\n",
       " 0.8411179184913635,\n",
       " 0.8506891131401062,\n",
       " 0.8323124051094055,\n",
       " 0.8437978625297546,\n",
       " 0.852986216545105,\n",
       " 0.8476263284683228,\n",
       " 0.8510719537734985,\n",
       " 0.844180703163147,\n",
       " 0.8594946265220642,\n",
       " 0.8472434878349304,\n",
       " 0.8491577506065369,\n",
       " 0.8361408710479736,\n",
       " 0.8621745705604553,\n",
       " 0.8487749099731445,\n",
       " 0.8468606472015381,\n",
       " 0.8503062725067139,\n",
       " 0.8575804233551025,\n",
       " 0.8464778065681458,\n",
       " 0.8571975231170654,\n",
       " 0.8449463844299316,\n",
       " 0.8683001399040222,\n",
       " 0.8571975231170654,\n",
       " 0.854134738445282,\n",
       " 0.8522205352783203]"
      ]
     },
     "execution_count": 43,
     "metadata": {},
     "output_type": "execute_result"
    }
   ],
   "source": [
    "haha.history['accuracy']"
   ]
  },
  {
   "cell_type": "code",
   "execution_count": 29,
   "id": "ed7379c2-e084-45b4-bb01-ff7a38c10802",
   "metadata": {
    "tags": []
   },
   "outputs": [
    {
     "data": {
      "text/plain": [
       "[<matplotlib.lines.Line2D at 0x2506c5d7280>]"
      ]
     },
     "execution_count": 29,
     "metadata": {},
     "output_type": "execute_result"
    },
    {
     "data": {
      "image/png": "[encoded data removed]",
      "text/plain": [
       "<Figure size 640x480 with 1 Axes>"
      ]
     },
     "metadata": {},
     "output_type": "display_data"
    }
   ],
   "source": [
    "plt.plot(hehe.history['accuracy'])"
   ]
  },
  {
   "cell_type": "code",
   "execution_count": 34,
   "id": "c18ee3a2-a339-4b67-bc0a-f3881e5c5cc7",
   "metadata": {
    "tags": []
   },
   "outputs": [
    {
     "data": {
      "text/plain": [
       "[<matplotlib.lines.Line2D at 0x250188972e0>]"
      ]
     },
     "execution_count": 34,
     "metadata": {},
     "output_type": "execute_result"
    },
    {
     "data": {
      "image/png": "[encoded data removed]",
      "text/plain": [
       "<Figure size 640x480 with 1 Axes>"
      ]
     },
     "metadata": {},
     "output_type": "display_data"
    }
   ],
   "source": [
    "plt.plot(hehe.history['accuracy'])"
   ]
  },
  {
   "cell_type": "code",
   "execution_count": 44,
   "id": "f73db990-f2e1-4d00-83dc-ba19dedd463a",
   "metadata": {
    "tags": []
   },
   "outputs": [
    {
     "data": {
      "text/plain": [
       "[<matplotlib.lines.Line2D at 0x25005a74d30>]"
      ]
     },
     "execution_count": 44,
     "metadata": {},
     "output_type": "execute_result"
    },
    {
     "data": {
      "image/png": "[encoded data removed]",
      "text/plain": [
       "<Figure size 640x480 with 1 Axes>"
      ]
     },
     "metadata": {},
     "output_type": "display_data"
    }
   ],
   "source": [
    "plt.plot(haha.history['accuracy'])"
   ]
  },
  {
   "cell_type": "code",
   "execution_count": 56,
   "id": "0b8bf2f7-f1dd-4339-bfa0-b84066c54a11",
   "metadata": {},
   "outputs": [],
   "source": [
    "#**моделька переобучена** простая моделька"
   ]
  },
  {
   "cell_type": "code",
   "execution_count": null,
   "id": "fc5c02a9-fd51-46f2-863d-c12e4b774da1",
   "metadata": {},
   "outputs": [],
   "source": []
  },
  {
   "cell_type": "code",
   "execution_count": 45,
   "id": "15cab013-ba8a-48f0-940c-e73b6ac9b2d3",
   "metadata": {
    "tags": []
   },
   "outputs": [],
   "source": [
    "classifier.save('10+25+100epoch_cutedImageFace.h5')"
   ]
  },
  {
   "cell_type": "code",
   "execution_count": 55,
   "id": "0b918585-193d-494c-adee-86586378ceb3",
   "metadata": {
    "tags": []
   },
   "outputs": [
    {
     "name": "stdout",
     "output_type": "stream",
     "text": [
      "1/1 [==============================] - 0s 136ms/step\n",
      "1/1 [==============================] - 0s 55ms/step\n",
      "1/1 [==============================] - 0s 57ms/step\n",
      "1/1 [==============================] - 0s 43ms/step\n",
      "1/1 [==============================] - 0s 48ms/step\n",
      "1/1 [==============================] - 0s 44ms/step\n",
      "1/1 [==============================] - 0s 42ms/step\n",
      "1/1 [==============================] - 0s 46ms/step\n",
      "1/1 [==============================] - 0s 42ms/step\n",
      "1/1 [==============================] - 0s 44ms/step\n",
      "1/1 [==============================] - 0s 56ms/step\n",
      "1/1 [==============================] - 0s 43ms/step\n",
      "1/1 [==============================] - 0s 43ms/step\n",
      "1/1 [==============================] - 0s 44ms/step\n",
      "1/1 [==============================] - 0s 43ms/step\n",
      "1/1 [==============================] - 0s 42ms/step\n",
      "1/1 [==============================] - 0s 43ms/step\n",
      "1/1 [==============================] - 0s 42ms/step\n",
      "1/1 [==============================] - 0s 42ms/step\n",
      "1/1 [==============================] - 0s 46ms/step\n",
      "1/1 [==============================] - 0s 42ms/step\n",
      "1/1 [==============================] - 0s 42ms/step\n",
      "1/1 [==============================] - 0s 44ms/step\n",
      "1/1 [==============================] - 0s 43ms/step\n",
      "1/1 [==============================] - 0s 44ms/step\n",
      "1/1 [==============================] - 0s 42ms/step\n",
      "1/1 [==============================] - 0s 41ms/step\n",
      "1/1 [==============================] - 0s 43ms/step\n",
      "1/1 [==============================] - 0s 43ms/step\n",
      "1/1 [==============================] - 0s 43ms/step\n",
      "1/1 [==============================] - 0s 43ms/step\n",
      "1/1 [==============================] - 0s 42ms/step\n",
      "1/1 [==============================] - 0s 42ms/step\n",
      "1/1 [==============================] - 0s 43ms/step\n",
      "1/1 [==============================] - 0s 43ms/step\n",
      "1/1 [==============================] - 0s 42ms/step\n",
      "1/1 [==============================] - 0s 44ms/step\n",
      "1/1 [==============================] - 0s 42ms/step\n",
      "1/1 [==============================] - 0s 42ms/step\n",
      "1/1 [==============================] - 0s 43ms/step\n",
      "1/1 [==============================] - 0s 42ms/step\n",
      "1/1 [==============================] - 0s 43ms/step\n",
      "1/1 [==============================] - 0s 43ms/step\n",
      "1/1 [==============================] - 0s 42ms/step\n",
      "1/1 [==============================] - 0s 44ms/step\n",
      "1/1 [==============================] - 0s 42ms/step\n",
      "1/1 [==============================] - 0s 42ms/step\n",
      "1/1 [==============================] - 0s 42ms/step\n",
      "1/1 [==============================] - 0s 42ms/step\n",
      "1/1 [==============================] - 0s 43ms/step\n",
      "1/1 [==============================] - 0s 42ms/step\n",
      "1/1 [==============================] - 0s 42ms/step\n",
      "1/1 [==============================] - 0s 42ms/step\n",
      "1/1 [==============================] - 0s 42ms/step\n",
      "1/1 [==============================] - 0s 41ms/step\n",
      "1/1 [==============================] - 0s 43ms/step\n"
     ]
    }
   ],
   "source": [
    "import cv2\n",
    "import numpy as np\n",
    "from keras.models import load_model\n",
    "import matplotlib.pyplot as plt\n",
    "\n",
    "model = load_model('10+25+100epoch_cutedImageFace.h5')\n",
    "\n",
    "class_dict = {\n",
    "    # 4: 'Akhmedov Sanzhar',\n",
    "    # 1: 'Alikhan Zhamankhan',\n",
    "    # 2: 'Baibatchayeva Anar',\n",
    "    # 3: 'Dalabay Abylay',\n",
    "    # 0: 'Ernar'\n",
    "    0: 'Akhmedov Sanzhar',\n",
    "    1: 'Alikhan Zhamankhan',\n",
    "    2: 'Baibatchayeva Anar',\n",
    "    3: 'Dalabay Abylay',\n",
    "    4: 'Daniyar Raiymbekov',\n",
    "    5: 'Duisenov Alikhan',\n",
    "    6: 'Ernar',\n",
    "    7: 'Kenzhebay Askar',\n",
    "    8: 'Kyran Yerkin',\n",
    "    9: 'Maxat Ualikhan',\n",
    "    10: 'Rysmambetov Nurtugan',\n",
    "    11: 'Sagynbek Nurbolat',\n",
    "    12: 'Yerkin Yernar',\n",
    "    13: 'Zhetessov Nur',\n",
    "    14: 'Zhumabekov Magjan'\n",
    "}\n",
    "cap = cv2.VideoCapture(0)\n",
    "\n",
    "\n",
    "\n",
    "while True:\n",
    "    ret, frame = cap.read()\n",
    "    # print(ret, frame)\n",
    "    gray = cv2.cvtColor(frame, cv2.COLOR_BGR2RGB)\n",
    "    face_cascade = cv2.CascadeClassifier('../DATA/haarcascades/haarcascade_frontalface_default.xml')\n",
    "    faces = face_cascade.detectMultiScale(gray, 1.3, 5)\n",
    "    \n",
    "    for (x, y, w, h) in faces:\n",
    "        face = gray[y:y+h, x:x+w]\n",
    "        face = cv2.resize(face, (64, 64))\n",
    "        face = np.expand_dims(face, axis=0)\n",
    "        face = np.expand_dims(face, axis=-1)\n",
    "        face = face / 255.0\n",
    "\n",
    "        # prediction = model.predict(face)\n",
    "        # prediction_class = np.argmax(prediction)\n",
    "        # print(prediction_class)\n",
    "        # prediction_value = prediction[prediction_class] * 100\n",
    "        # name = class_dict[prediction_class]\n",
    "        \n",
    "        \n",
    "        prediction = model.predict(face)\n",
    "        prediction_class = np.argmax(prediction, axis=-1)\n",
    "        prediction_value = prediction[0][prediction_class[0]] * 100\n",
    "        name = class_dict[prediction_class[0]]\n",
    "\n",
    "        \n",
    "        \n",
    "        \n",
    "\n",
    "        label = f\"{prediction_value:.2f}% match, {name}\"\n",
    "        cv2.putText(frame, label, (x, y-10), cv2.FONT_HERSHEY_SIMPLEX, 0.45, (0, 255, 0), 2)\n",
    "\n",
    "        cv2.rectangle(frame, (x, y), (x+w, y+h), (0, 255, 0), 2)\n",
    "\n",
    "    cv2.imshow('frame', frame)\n",
    "\n",
    "    if cv2.waitKey(1) & 0xFF == ord('q'):\n",
    "        break\n",
    "\n",
    "cap.release()\n",
    "cv2.destroyAllWindows()\n"
   ]
  },
  {
   "cell_type": "code",
   "execution_count": null,
   "id": "a8984a2d-67ed-4288-aa00-5754dad412d0",
   "metadata": {
    "tags": []
   },
   "outputs": [],
   "source": []
  }
 ],
 "metadata": {
  "kernelspec": {
   "display_name": "Python 3 (ipykernel)",
   "language": "python",
   "name": "python3"
  },
  "language_info": {
   "codemirror_mode": {
    "name": "ipython",
    "version": 3
   },
   "file_extension": ".py",
   "mimetype": "text/x-python",
   "name": "python",
   "nbconvert_exporter": "python",
   "pygments_lexer": "ipython3",
   "version": "3.10.4"
  }
 },
 "nbformat": 4,
 "nbformat_minor": 5
}
