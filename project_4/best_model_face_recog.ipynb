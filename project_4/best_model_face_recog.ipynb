{
 "cells": [
  {
   "cell_type": "code",
   "execution_count": 41,
   "id": "e4e7b4ad-55d8-4978-819f-0f8b11864652",
   "metadata": {
    "tags": []
   },
   "outputs": [],
   "source": [
    "import matplotlib.pyplot as plt\n",
    "import cv2"
   ]
  },
  {
   "cell_type": "code",
   "execution_count": 42,
   "id": "696aa799-904c-454d-a199-6c51b9cf3d3b",
   "metadata": {
    "tags": []
   },
   "outputs": [],
   "source": [
    "# from tensorflow.keras.preprocessing.image import ImageDataGenerator\n",
    "from keras.preprocessing.image import ImageDataGenerator\n",
    "from keras_vggface.utils import preprocess_input\n",
    "datagen = ImageDataGenerator(\n",
    "    rescale=1/255, # масштабирование значений пикселей в диапазон от 0 до 1\n",
    "    rotation_range=20, # угол поворота изображения\n",
    "    width_shift_range=0.1, # смещение изображения по горизонтали\n",
    "    height_shift_range=0.1, # смещение изображения по вертикали\n",
    "    shear_range=0.2, # сдвиг изображения\n",
    "    zoom_range=0.2, # масштабирование изображения\n",
    "    # vertical_flip=True,\n",
    "    horizontal_flip=True, # отражение изображения по горизонтали\n",
    "    # brightness_range= (0.5,2.5),\n",
    "    fill_mode='nearest', # заполнение пикселей после преобразований\n",
    "    # preprocessing_function=preprocess_input # препроцессинг изображений для распознавания лиц\n",
    "\n",
    ")"
   ]
  },
  {
   "cell_type": "code",
   "execution_count": null,
   "id": "a08afb54-e10f-47a9-86f4-62dff3bdf1ef",
   "metadata": {},
   "outputs": [],
   "source": [
    "# import os\n",
    "# from keras.preprocessing import image\n",
    "# import keras.utils as image\n",
    "\n",
    "\n",
    "# original_dir = 'фото/cuted_test/'\n",
    "\n",
    "# augmented_dir = 'фото/aug_cuted_test'\n",
    "\n",
    "# if not os.path.exists(augmented_dir):\n",
    "#     os.makedirs(augmented_dir)\n",
    "\n",
    "# for root, dirs, files in os.walk(original_dir):\n",
    "#     for filename in files:\n",
    "#         img_path = os.path.join(root, filename)\n",
    "#         img = image.load_img(img_path)\n",
    "#         img = img.convert('RGB')\n",
    "#         x = image.img_to_array(img)\n",
    "#         x = preprocess_input(x)\n",
    "#         x = x.reshape((1,) + x.shape)\n",
    "#         i = 0\n",
    "#         for batch in datagen.flow(x, batch_size=1,\n",
    "#                                   save_to_dir=augmented_dir,\n",
    "#                                   save_prefix=filename.split('.')[0],\n",
    "#                                   save_format='jpg'):\n",
    "#             i += 1\n",
    "#             if i >= 5: # random 5 images\n",
    "#                 break\n"
   ]
  },
  {
   "cell_type": "code",
   "execution_count": 43,
   "id": "48029fb3-7d6b-4ec4-8744-72dae51bc231",
   "metadata": {
    "tags": []
   },
   "outputs": [
    {
     "name": "stdout",
     "output_type": "stream",
     "text": [
      "Found 684 images belonging to 15 classes.\n"
     ]
    },
    {
     "data": {
      "text/plain": [
       "<keras.preprocessing.image.DirectoryIterator at 0x1bce0c0a4d0>"
      ]
     },
     "execution_count": 43,
     "metadata": {},
     "output_type": "execute_result"
    }
   ],
   "source": [
    "datagen.flow_from_directory('../фото/tt/train/')"
   ]
  },
  {
   "cell_type": "code",
   "execution_count": 44,
   "id": "5f3ddb29-d34b-4cf4-a518-c18a5ba13dd2",
   "metadata": {
    "tags": []
   },
   "outputs": [
    {
     "name": "stdout",
     "output_type": "stream",
     "text": [
      "Found 75 images belonging to 15 classes.\n"
     ]
    },
    {
     "data": {
      "text/plain": [
       "<keras.preprocessing.image.DirectoryIterator at 0x1bce0f7abc0>"
      ]
     },
     "execution_count": 44,
     "metadata": {},
     "output_type": "execute_result"
    }
   ],
   "source": [
    "datagen.flow_from_directory('../фото/tt/test/')"
   ]
  },
  {
   "cell_type": "code",
   "execution_count": 45,
   "id": "51e49766-85bd-4896-9bf9-4050efa60288",
   "metadata": {
    "tags": []
   },
   "outputs": [],
   "source": [
    "# image_shape = (64,64,3)\n",
    "# image_shape = (224,224,3)\n",
    "image_shape = (150,150,3)"
   ]
  },
  {
   "cell_type": "code",
   "execution_count": 46,
   "id": "c292d2c4-76b2-406c-93a4-c698fa473da4",
   "metadata": {
    "tags": []
   },
   "outputs": [
    {
     "name": "stderr",
     "output_type": "stream",
     "text": [
      "WARNING:absl:`lr` is deprecated in Keras optimizer, please use `learning_rate` or use the legacy optimizer, e.g.,tf.keras.optimizers.legacy.Adam.\n"
     ]
    }
   ],
   "source": [
    "# from keras import Sequential\n",
    "# from keras.layers import BatchNormalization\n",
    "# from keras.regularizers import l2\n",
    "# from keras.layers import Activation, Dropout, Flatten, Dense, Conv2D, MaxPooling2D\n",
    "# from keras.optimizers import Adam\n",
    "# from tensorflow.keras.preprocessing import image\n",
    "\n",
    "\n",
    "\n",
    "# import tensorflow as tf\n",
    "# from tensorflow.keras import layers\n",
    "# classifier = tf.keras.Sequential([\n",
    "#     Conv2D(32, (3,3), activation='relu', padding='same', input_shape=image_shape),\n",
    "#     BatchNormalization(),\n",
    "#     Conv2D(32, (3,3), activation='relu', padding='same'),\n",
    "#     BatchNormalization(),\n",
    "#     MaxPooling2D(pool_size=(2,2)),\n",
    "#     Dropout(0.5),\n",
    "    \n",
    "#     Conv2D(64, (4,4), activation='relu', padding='same'),\n",
    "#     BatchNormalization(),\n",
    "#     Conv2D(64, (4,4), activation='relu', padding='same'),\n",
    "#     BatchNormalization(),\n",
    "#     MaxPooling2D(pool_size=(2,2)),\n",
    "#     Dropout(0.5),\n",
    "    \n",
    "#     Conv2D(128, (4,4), activation='relu', padding='same'),\n",
    "#     BatchNormalization(),\n",
    "#     Conv2D(128, (4,4), activation='relu', padding='same'),\n",
    "#     BatchNormalization(),\n",
    "#     MaxPooling2D(pool_size=(2,2)),\n",
    "#     Dropout(0.5),\n",
    "    \n",
    "#     Flatten(),\n",
    "#     Dense(512, activation='relu', kernel_regularizer=tf.keras.regularizers.l2(0.001)),\n",
    "#     BatchNormalization(),\n",
    "#     Dropout(0.5),\n",
    "#     Dense(15, activation='softmax')\n",
    "# ])\n",
    "\n",
    "# classifier.compile(optimizer=tf.keras.optimizers.Adam(lr=0.0001),\n",
    "#               loss='categorical_crossentropy',\n",
    "#               metrics=['accuracy'])\n",
    "\n",
    "\n"
   ]
  },
  {
   "cell_type": "code",
   "execution_count": 64,
   "id": "dced76e6-c518-40ee-84a5-c6c4fd0fb555",
   "metadata": {
    "tags": []
   },
   "outputs": [],
   "source": [
    "from keras.models import Sequential\n",
    "from keras.layers import Convolution2D\n",
    "from keras.layers import MaxPool2D\n",
    "from keras.layers import Flatten\n",
    "from keras.layers import Dense\n",
    "\n",
    "classifier= Sequential()\n",
    "\n",
    "\n",
    "classifier.add(Convolution2D(32, kernel_size=(5, 5), strides=(1, 1), input_shape=(150,150,3), activation='relu'))\n",
    "\n",
    "classifier.add(MaxPool2D(pool_size=(2,2)))\n",
    "\n",
    "classifier.add(Convolution2D(64, kernel_size=(5, 5), strides=(1, 1), activation='relu'))\n",
    "\n",
    "classifier.add(MaxPool2D(pool_size=(2,2)))\n",
    "\n",
    "classifier.add(Flatten())\n",
    "\n",
    "classifier.add(Dense(64, activation='relu'))\n",
    "\n",
    "classifier.add(Dense(15, activation='softmax'))\n",
    "\n",
    "#classifier.compile(loss='binary_crossentropy', optimizer='adam', metrics=['accuracy'])\n",
    "classifier.compile(loss='categorical_crossentropy', optimizer = 'adam', metrics=[\"accuracy\"])\n",
    "\n"
   ]
  },
  {
   "cell_type": "code",
   "execution_count": 65,
   "id": "c9c85422-d6d2-4f35-a81c-22186fdbd5f5",
   "metadata": {
    "tags": []
   },
   "outputs": [
    {
     "name": "stdout",
     "output_type": "stream",
     "text": [
      "Model: \"sequential_7\"\n",
      "_________________________________________________________________\n",
      " Layer (type)                Output Shape              Param #   \n",
      "=================================================================\n",
      " conv2d_30 (Conv2D)          (None, 146, 146, 32)      2432      \n",
      "                                                                 \n",
      " max_pooling2d_18 (MaxPoolin  (None, 73, 73, 32)       0         \n",
      " g2D)                                                            \n",
      "                                                                 \n",
      " conv2d_31 (Conv2D)          (None, 69, 69, 64)        51264     \n",
      "                                                                 \n",
      " max_pooling2d_19 (MaxPoolin  (None, 34, 34, 64)       0         \n",
      " g2D)                                                            \n",
      "                                                                 \n",
      " flatten_7 (Flatten)         (None, 73984)             0         \n",
      "                                                                 \n",
      " dense_13 (Dense)            (None, 64)                4735040   \n",
      "                                                                 \n",
      " dense_14 (Dense)            (None, 15)                975       \n",
      "                                                                 \n",
      "=================================================================\n",
      "Total params: 4,789,711\n",
      "Trainable params: 4,789,711\n",
      "Non-trainable params: 0\n",
      "_________________________________________________________________\n"
     ]
    }
   ],
   "source": [
    "classifier.summary()\n"
   ]
  },
  {
   "cell_type": "code",
   "execution_count": null,
   "id": "4c924c96-06ae-412b-a907-9316d95d656b",
   "metadata": {
    "tags": []
   },
   "outputs": [],
   "source": []
  },
  {
   "cell_type": "code",
   "execution_count": 66,
   "id": "6fdb1ecd-dac9-4c7c-9fa9-e27ef4b75993",
   "metadata": {
    "tags": []
   },
   "outputs": [
    {
     "name": "stdout",
     "output_type": "stream",
     "text": [
      "Found 684 images belonging to 15 classes.\n"
     ]
    }
   ],
   "source": [
    "batch_size = 32\n",
    "\n",
    "train_image_gen = datagen.flow_from_directory('../фото/tt/train/',\n",
    "                                               target_size=image_shape[:2],\n",
    "                                               batch_size=batch_size,\n",
    "                                               class_mode='categorical') \n",
    "                                               # shuffle = True) #binary, sparse, categorical"
   ]
  },
  {
   "cell_type": "code",
   "execution_count": 67,
   "id": "90a7209a-1907-400d-8871-da08138b580f",
   "metadata": {
    "tags": []
   },
   "outputs": [
    {
     "name": "stdout",
     "output_type": "stream",
     "text": [
      "Found 75 images belonging to 15 classes.\n"
     ]
    }
   ],
   "source": [
    "test_image_gen = datagen.flow_from_directory('../фото/tt/test/',\n",
    "                                               target_size=image_shape[:2],\n",
    "                                               batch_size=batch_size,\n",
    "                                               class_mode='categorical')\n",
    "                                               # shuffle=True)"
   ]
  },
  {
   "cell_type": "code",
   "execution_count": 68,
   "id": "b3530e07-244b-47b0-b078-cfbd25a8d799",
   "metadata": {
    "tags": []
   },
   "outputs": [
    {
     "data": {
      "text/plain": [
       "{'Akhmedov Sanzhar': 0,\n",
       " 'Alikhan Zhamankhan': 1,\n",
       " 'Baibatchayeva Anar': 2,\n",
       " 'Dalabay Abylay': 3,\n",
       " 'Daniyar Raiymbekov': 4,\n",
       " 'Duisenov Alikhan': 5,\n",
       " 'Ernar': 6,\n",
       " 'Kenzhebay Askar': 7,\n",
       " 'Kyran Yerkin': 8,\n",
       " 'Maxat Ualikhan': 9,\n",
       " 'Rysmambetov Nurtugan': 10,\n",
       " 'Sagynbek Nurbolat': 11,\n",
       " 'Yerkin Yernar': 12,\n",
       " 'Zhetessov Nur': 13,\n",
       " 'Zhumabekov Magjan': 14}"
      ]
     },
     "execution_count": 68,
     "metadata": {},
     "output_type": "execute_result"
    }
   ],
   "source": [
    "train_image_gen.class_indices"
   ]
  },
  {
   "cell_type": "code",
   "execution_count": 69,
   "id": "b5eeb507-e22d-440b-b906-91a3497be2ed",
   "metadata": {
    "tags": []
   },
   "outputs": [],
   "source": [
    "import warnings\n",
    "warnings.filterwarnings('ignore')"
   ]
  },
  {
   "cell_type": "code",
   "execution_count": 70,
   "id": "859eea05-ade8-40c8-aa37-a29e4d56da21",
   "metadata": {
    "tags": []
   },
   "outputs": [
    {
     "name": "stdout",
     "output_type": "stream",
     "text": [
      "684\n",
      "32\n"
     ]
    }
   ],
   "source": [
    "print(train_image_gen.n)\n",
    "print(train_image_gen.batch_size)"
   ]
  },
  {
   "cell_type": "code",
   "execution_count": 77,
   "id": "7e2f0777-ec97-4dc6-837d-6d43d584d837",
   "metadata": {
    "tags": []
   },
   "outputs": [],
   "source": [
    "from keras.callbacks import EarlyStopping\n",
    "\n",
    "earlystop = EarlyStopping(monitor='val_loss', patience=5)\n",
    "\n",
    "from keras.callbacks import EarlyStopping, ModelCheckpoint\n",
    "\n",
    "earlystop = EarlyStopping(monitor='val_loss', patience=5)\n",
    "\n",
    "checkpoint = ModelCheckpoint('best_model.h5', monitor='val_loss', save_best_only=True)\n",
    "\n",
    "\n"
   ]
  },
  {
   "cell_type": "code",
   "execution_count": 89,
   "id": "5b619951-5883-4603-8e9e-f4bb5827f0c4",
   "metadata": {
    "tags": []
   },
   "outputs": [
    {
     "name": "stdout",
     "output_type": "stream",
     "text": [
      "Epoch 1/50\n",
      "21/21 [==============================] - 58s 3s/step - loss: 0.1356 - accuracy: 0.9509 - val_loss: 0.2694 - val_accuracy: 0.9531\n",
      "Epoch 2/50\n",
      "21/21 [==============================] - 58s 3s/step - loss: 0.1049 - accuracy: 0.9693 - val_loss: 0.4935 - val_accuracy: 0.8906\n",
      "Epoch 3/50\n",
      "21/21 [==============================] - 58s 3s/step - loss: 0.0897 - accuracy: 0.9617 - val_loss: 0.3324 - val_accuracy: 0.9219\n",
      "Epoch 4/50\n",
      "21/21 [==============================] - 59s 3s/step - loss: 0.0916 - accuracy: 0.9601 - val_loss: 0.2331 - val_accuracy: 0.9375\n",
      "Epoch 5/50\n",
      "21/21 [==============================] - 59s 3s/step - loss: 0.1305 - accuracy: 0.9555 - val_loss: 0.5057 - val_accuracy: 0.8750\n",
      "Epoch 6/50\n",
      "21/21 [==============================] - 59s 3s/step - loss: 0.1064 - accuracy: 0.9632 - val_loss: 0.2452 - val_accuracy: 0.9219\n",
      "Epoch 7/50\n",
      "21/21 [==============================] - 59s 3s/step - loss: 0.0907 - accuracy: 0.9709 - val_loss: 0.4076 - val_accuracy: 0.9062\n",
      "Epoch 8/50\n",
      "21/21 [==============================] - 57s 3s/step - loss: 0.0944 - accuracy: 0.9739 - val_loss: 0.3160 - val_accuracy: 0.9062\n",
      "Epoch 9/50\n",
      "21/21 [==============================] - 58s 3s/step - loss: 0.1033 - accuracy: 0.9647 - val_loss: 0.3771 - val_accuracy: 0.9062\n"
     ]
    }
   ],
   "source": [
    "history = classifier.fit(train_image_gen,\n",
    "                         steps_per_epoch=train_image_gen.n // train_image_gen.batch_size,\n",
    "                         epochs=50,\n",
    "                         validation_data=test_image_gen,\n",
    "                         validation_steps=test_image_gen.n // test_image_gen.batch_size,\n",
    "                         callbacks=[earlystop, checkpoint])"
   ]
  },
  {
   "cell_type": "code",
   "execution_count": 57,
   "id": "f4163136-c7d9-487b-8b17-f96168db679a",
   "metadata": {
    "tags": []
   },
   "outputs": [],
   "source": []
  },
  {
   "cell_type": "code",
   "execution_count": 1,
   "id": "f6d91804-28a4-46de-85e8-67585dfc72f8",
   "metadata": {
    "tags": []
   },
   "outputs": [],
   "source": []
  },
  {
   "cell_type": "code",
   "execution_count": 90,
   "id": "62add524-6d6c-4e70-a62c-41d056af9a87",
   "metadata": {
    "tags": []
   },
   "outputs": [
    {
     "data": {
      "text/plain": [
       "[0.9509202241897583,\n",
       " 0.9693251252174377,\n",
       " 0.9616564512252808,\n",
       " 0.9601227045059204,\n",
       " 0.9555214643478394,\n",
       " 0.9631901979446411,\n",
       " 0.9708588719367981,\n",
       " 0.9739263653755188,\n",
       " 0.9647239446640015]"
      ]
     },
     "execution_count": 90,
     "metadata": {},
     "output_type": "execute_result"
    }
   ],
   "source": [
    "history.history['accuracy']"
   ]
  },
  {
   "cell_type": "code",
   "execution_count": 91,
   "id": "ed7379c2-e084-45b4-bb01-ff7a38c10802",
   "metadata": {
    "tags": []
   },
   "outputs": [
    {
     "data": {
      "text/plain": [
       "[<matplotlib.lines.Line2D at 0x1bce3768220>]"
      ]
     },
     "execution_count": 91,
     "metadata": {},
     "output_type": "execute_result"
    },
    {
     "data": {
      "image/png": "[encoded data removed]",
      "text/plain": [
       "<Figure size 640x480 with 1 Axes>"
      ]
     },
     "metadata": {},
     "output_type": "display_data"
    }
   ],
   "source": [
    "plt.plot(history.history['accuracy']) "
   ]
  },
  {
   "cell_type": "code",
   "execution_count": null,
   "id": "0b8bf2f7-f1dd-4339-bfa0-b84066c54a11",
   "metadata": {},
   "outputs": [],
   "source": []
  },
  {
   "cell_type": "code",
   "execution_count": null,
   "id": "fc5c02a9-fd51-46f2-863d-c12e4b774da1",
   "metadata": {},
   "outputs": [],
   "source": []
  },
  {
   "cell_type": "code",
   "execution_count": 92,
   "id": "15cab013-ba8a-48f0-940c-e73b6ac9b2d3",
   "metadata": {
    "tags": []
   },
   "outputs": [],
   "source": [
    "classifier.save('best_model123.h5')"
   ]
  },
  {
   "cell_type": "code",
   "execution_count": 94,
   "id": "0b918585-193d-494c-adee-86586378ceb3",
   "metadata": {
    "tags": []
   },
   "outputs": [
    {
     "name": "stdout",
     "output_type": "stream",
     "text": [
      "1/1 [==============================] - 0s 198ms/step\n",
      "1/1 [==============================] - 0s 59ms/step\n",
      "1/1 [==============================] - 0s 53ms/step\n",
      "1/1 [==============================] - 0s 55ms/step\n",
      "1/1 [==============================] - 0s 61ms/step\n",
      "1/1 [==============================] - 0s 56ms/step\n",
      "1/1 [==============================] - 0s 53ms/step\n",
      "1/1 [==============================] - 0s 53ms/step\n",
      "1/1 [==============================] - 0s 53ms/step\n",
      "1/1 [==============================] - 0s 54ms/step\n",
      "1/1 [==============================] - 0s 53ms/step\n",
      "1/1 [==============================] - 0s 55ms/step\n",
      "1/1 [==============================] - 0s 56ms/step\n",
      "1/1 [==============================] - 0s 52ms/step\n",
      "1/1 [==============================] - 0s 53ms/step\n",
      "1/1 [==============================] - 0s 56ms/step\n",
      "1/1 [==============================] - 0s 53ms/step\n",
      "1/1 [==============================] - 0s 57ms/step\n",
      "1/1 [==============================] - 0s 55ms/step\n",
      "1/1 [==============================] - 0s 54ms/step\n",
      "1/1 [==============================] - 0s 53ms/step\n",
      "1/1 [==============================] - 0s 54ms/step\n",
      "1/1 [==============================] - 0s 56ms/step\n",
      "1/1 [==============================] - 0s 52ms/step\n",
      "1/1 [==============================] - 0s 53ms/step\n",
      "1/1 [==============================] - 0s 54ms/step\n",
      "1/1 [==============================] - 0s 53ms/step\n",
      "1/1 [==============================] - 0s 53ms/step\n",
      "1/1 [==============================] - 0s 56ms/step\n",
      "1/1 [==============================] - 0s 59ms/step\n",
      "1/1 [==============================] - 0s 52ms/step\n",
      "1/1 [==============================] - 0s 56ms/step\n",
      "1/1 [==============================] - 0s 53ms/step\n",
      "1/1 [==============================] - 0s 56ms/step\n",
      "1/1 [==============================] - 0s 58ms/step\n",
      "1/1 [==============================] - 0s 57ms/step\n",
      "1/1 [==============================] - 0s 55ms/step\n",
      "1/1 [==============================] - 0s 55ms/step\n",
      "1/1 [==============================] - 0s 56ms/step\n",
      "1/1 [==============================] - 0s 55ms/step\n",
      "1/1 [==============================] - 0s 56ms/step\n",
      "1/1 [==============================] - 0s 53ms/step\n",
      "1/1 [==============================] - 0s 57ms/step\n",
      "1/1 [==============================] - 0s 52ms/step\n",
      "1/1 [==============================] - 0s 53ms/step\n",
      "1/1 [==============================] - 0s 56ms/step\n",
      "1/1 [==============================] - 0s 56ms/step\n",
      "1/1 [==============================] - 0s 56ms/step\n",
      "1/1 [==============================] - 0s 54ms/step\n",
      "1/1 [==============================] - 0s 57ms/step\n",
      "1/1 [==============================] - 0s 55ms/step\n",
      "1/1 [==============================] - 0s 53ms/step\n",
      "1/1 [==============================] - 0s 54ms/step\n",
      "1/1 [==============================] - 0s 54ms/step\n",
      "1/1 [==============================] - 0s 54ms/step\n",
      "1/1 [==============================] - 0s 55ms/step\n",
      "1/1 [==============================] - 0s 53ms/step\n",
      "1/1 [==============================] - 0s 52ms/step\n",
      "1/1 [==============================] - 0s 54ms/step\n",
      "1/1 [==============================] - 0s 53ms/step\n",
      "1/1 [==============================] - 0s 54ms/step\n",
      "1/1 [==============================] - 0s 55ms/step\n",
      "1/1 [==============================] - 0s 53ms/step\n",
      "1/1 [==============================] - 0s 54ms/step\n",
      "1/1 [==============================] - 0s 53ms/step\n",
      "1/1 [==============================] - 0s 55ms/step\n",
      "1/1 [==============================] - 0s 57ms/step\n",
      "1/1 [==============================] - 0s 55ms/step\n",
      "1/1 [==============================] - 0s 55ms/step\n",
      "1/1 [==============================] - 0s 53ms/step\n",
      "1/1 [==============================] - 0s 54ms/step\n",
      "1/1 [==============================] - 0s 55ms/step\n",
      "1/1 [==============================] - 0s 52ms/step\n",
      "1/1 [==============================] - 0s 54ms/step\n",
      "1/1 [==============================] - 0s 54ms/step\n",
      "1/1 [==============================] - 0s 53ms/step\n",
      "1/1 [==============================] - 0s 56ms/step\n",
      "1/1 [==============================] - 0s 55ms/step\n",
      "1/1 [==============================] - 0s 53ms/step\n",
      "1/1 [==============================] - 0s 53ms/step\n",
      "1/1 [==============================] - 0s 53ms/step\n",
      "1/1 [==============================] - 0s 53ms/step\n",
      "1/1 [==============================] - 0s 54ms/step\n",
      "1/1 [==============================] - 0s 58ms/step\n",
      "1/1 [==============================] - 0s 54ms/step\n",
      "1/1 [==============================] - 0s 53ms/step\n",
      "1/1 [==============================] - 0s 53ms/step\n",
      "1/1 [==============================] - 0s 54ms/step\n"
     ]
    }
   ],
   "source": [
    "import cv2\n",
    "import numpy as np\n",
    "from keras.models import load_model\n",
    "import matplotlib.pyplot as plt\n",
    "\n",
    "model = load_model('best_model.h5')\n",
    "\n",
    "class_dict = {\n",
    "    0: 'Akhmedov Sanzhar',\n",
    "    1: 'Alikhan Zhamankhan',\n",
    "    2: 'Baibatchayeva Anar',\n",
    "    3: 'Ernar',\n",
    "    4: 'Daniyar Raiymbekov',\n",
    "    5: 'Duisenov Alikhan',\n",
    "    6: 'Dalabay Abylay',\n",
    "    7: 'Kenzhebay Askar',\n",
    "    8: 'Kyran Yerkin',\n",
    "    9: 'Maxat Ualikhan',\n",
    "    10: 'Rysmambetov Nurtugan',\n",
    "    11: 'Sagynbek Nurbolat',\n",
    "    12: 'Yerkin Yernar',\n",
    "    13: 'Zhetessov Nur',\n",
    "    14: 'Zhumabekov Magjan'\n",
    "}\n",
    "\n",
    "cap = cv2.VideoCapture(0)\n",
    "\n",
    "while True:\n",
    "    ret, frame = cap.read()\n",
    "    # print(ret, frame)\n",
    "    gray = cv2.cvtColor(frame, cv2.COLOR_BGR2RGB)\n",
    "    face_cascade = cv2.CascadeClassifier('../DATA/haarcascades/haarcascade_frontalface_default.xml')\n",
    "    faces = face_cascade.detectMultiScale(gray, 1.3, 5)\n",
    "    \n",
    "    for (x, y, w, h) in faces:\n",
    "        face = gray[y:y+h, x:x+w]\n",
    "        face = cv2.resize(face, (150, 150))\n",
    "        face = np.expand_dims(face, axis=0)\n",
    "        face = np.expand_dims(face, axis=-1)\n",
    "        face = face / 255.0\n",
    "\n",
    "        # prediction = model.predict(face)\n",
    "        # prediction_class = np.argmax(prediction)\n",
    "        # print(prediction_class)\n",
    "        # prediction_value = prediction[prediction_class] * 100\n",
    "        # name = class_dict[prediction_class]\n",
    "        \n",
    "        \n",
    "        prediction = model.predict(face)\n",
    "        prediction_class = np.argmax(prediction, axis=-1)\n",
    "        prediction_value = prediction[0][prediction_class[0]] * 100\n",
    "        name = class_dict[prediction_class[0]]\n",
    "\n",
    "        \n",
    "        \n",
    "        \n",
    "\n",
    "        label = f\"{prediction_value:.2f}% match, {name}\"\n",
    "        cv2.putText(frame, label, (x, y-10), cv2.FONT_HERSHEY_SIMPLEX, 0.45, (0, 255, 0), 2)\n",
    "\n",
    "        cv2.rectangle(frame, (x, y), (x+w, y+h), (0, 255, 0), 2)\n",
    "\n",
    "    cv2.imshow('frame', frame)\n",
    "\n",
    "    if cv2.waitKey(1) & 0xFF == ord('q'):\n",
    "        break\n",
    "\n",
    "cap.release()\n",
    "cv2.destroyAllWindows()\n"
   ]
  },
  {
   "cell_type": "code",
   "execution_count": 87,
   "id": "9ac2ea8b-57b1-4768-a4ba-e84b2cbb00a7",
   "metadata": {
    "tags": []
   },
   "outputs": [
    {
     "ename": "TypeError",
     "evalue": "'History' object is not subscriptable",
     "output_type": "error",
     "traceback": [
      "\u001b[1;31m---------------------------------------------------------------------------\u001b[0m",
      "\u001b[1;31mTypeError\u001b[0m                                 Traceback (most recent call last)",
      "Cell \u001b[1;32mIn[87], line 1\u001b[0m\n\u001b[1;32m----> 1\u001b[0m \u001b[43mmodel\u001b[49m\u001b[38;5;241;43m.\u001b[39;49m\u001b[43mhistory\u001b[49m\u001b[43m[\u001b[49m\u001b[38;5;124;43m'\u001b[39;49m\u001b[38;5;124;43macc\u001b[39;49m\u001b[38;5;124;43m'\u001b[39;49m\u001b[43m]\u001b[49m\n",
      "\u001b[1;31mTypeError\u001b[0m: 'History' object is not subscriptable"
     ]
    }
   ],
   "source": []
  }
 ],
 "metadata": {
  "kernelspec": {
   "display_name": "Python 3 (ipykernel)",
   "language": "python",
   "name": "python3"
  },
  "language_info": {
   "codemirror_mode": {
    "name": "ipython",
    "version": 3
   },
   "file_extension": ".py",
   "mimetype": "text/x-python",
   "name": "python",
   "nbconvert_exporter": "python",
   "pygments_lexer": "ipython3",
   "version": "3.10.4"
  }
 },
 "nbformat": 4,
 "nbformat_minor": 5
}
