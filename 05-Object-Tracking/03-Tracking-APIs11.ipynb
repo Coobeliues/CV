{
 "cells": [
  {
   "cell_type": "markdown",
   "metadata": {},
   "source": [
    "# Tracking APIs ( Built-in with OpenCV)"
   ]
  },
  {
   "cell_type": "code",
   "execution_count": 1,
   "metadata": {
    "tags": []
   },
   "outputs": [],
   "source": [
    "import cv2"
   ]
  },
  {
   "cell_type": "code",
   "execution_count": 2,
   "metadata": {
    "tags": []
   },
   "outputs": [],
   "source": [
    "def ask_for_tracker():\n",
    "    print(\"Welcome! What Tracker API would you like to use?\")\n",
    "    print(\"Enter 0 for BOOSTING: \")\n",
    "    print(\"Enter 1 for MIL: \")\n",
    "    print(\"Enter 2 for KCF: \")\n",
    "    print(\"Enter 3 for TLD: \")\n",
    "    print(\"Enter 4 for MEDIANFLOW: \")\n",
    "    choice = input(\"Please select your tracker: \")\n",
    "    \n",
    "    if choice == '0':\n",
    "        tracker = cv2.TrackerBoosting_create()\n",
    "    if choice == '1':\n",
    "        tracker = cv2.TrackerMIL_create()\n",
    "    if choice == '2':\n",
    "        tracker = cv2.TrackerKCF_create()\n",
    "    if choice == '3':\n",
    "        tracker = cv2.TrackerTLD_create()\n",
    "    if choice == '4':\n",
    "        tracker = cv2.TrackerMedianFlow_create()\n",
    "\n",
    "\n",
    "    return tracker\n",
    " "
   ]
  },
  {
   "cell_type": "code",
   "execution_count": 3,
   "metadata": {
    "tags": []
   },
   "outputs": [
    {
     "name": "stdout",
     "output_type": "stream",
     "text": [
      "Welcome! What Tracker API would you like to use?\n",
      "Enter 0 for BOOSTING: \n",
      "Enter 1 for MIL: \n",
      "Enter 2 for KCF: \n",
      "Enter 3 for TLD: \n",
      "Enter 4 for MEDIANFLOW: \n"
     ]
    },
    {
     "name": "stdin",
     "output_type": "stream",
     "text": [
      "Please select your tracker:  1\n"
     ]
    }
   ],
   "source": [
    "tracker = ask_for_tracker()"
   ]
  },
  {
   "cell_type": "code",
   "execution_count": 4,
   "metadata": {
    "tags": []
   },
   "outputs": [
    {
     "data": {
      "text/plain": [
       "<TrackerMIL 000001938307B5F0>"
      ]
     },
     "execution_count": 4,
     "metadata": {},
     "output_type": "execute_result"
    }
   ],
   "source": [
    "tracker"
   ]
  },
  {
   "cell_type": "code",
   "execution_count": 5,
   "metadata": {
    "tags": []
   },
   "outputs": [
    {
     "data": {
      "text/plain": [
       "'TrackerMIL'"
      ]
     },
     "execution_count": 5,
     "metadata": {},
     "output_type": "execute_result"
    }
   ],
   "source": [
    "str(tracker).split()[0][1:]"
   ]
  },
  {
   "cell_type": "code",
   "execution_count": 6,
   "metadata": {
    "tags": []
   },
   "outputs": [],
   "source": [
    "# str(tracker).split()[0][1:]"
   ]
  },
  {
   "cell_type": "code",
   "execution_count": 11,
   "metadata": {
    "tags": []
   },
   "outputs": [
    {
     "name": "stdout",
     "output_type": "stream",
     "text": [
      "Welcome! What Tracker API would you like to use?\n",
      "Enter 0 for BOOSTING: \n",
      "Enter 1 for MIL: \n",
      "Enter 2 for KCF: \n",
      "Enter 3 for TLD: \n",
      "Enter 4 for MEDIANFLOW: \n"
     ]
    },
    {
     "name": "stdin",
     "output_type": "stream",
     "text": [
      "Please select your tracker:  2\n"
     ]
    }
   ],
   "source": [
    "tracker = ask_for_tracker()\n",
    "tracker_name = str(tracker).split()[0][1:]\n",
    "\n",
    "# Read video\n",
    "cap = cv2.VideoCapture(0)\n",
    "\n",
    "# Read first frame.\n",
    "ret, frame = cap.read()\n",
    "\n",
    "\n",
    "# Special function allows us to draw on the very first frame our desired ROI\n",
    "roi = cv2.selectROI(frame, False)\n",
    "\n",
    "# Initialize tracker with first frame and bounding box\n",
    "ret = tracker.init(frame, roi)\n",
    "\n",
    "while True:\n",
    "    # Read a new frame\n",
    "    ret, frame = cap.read()\n",
    "    \n",
    "    \n",
    "    # Update tracker\n",
    "    success, roi = tracker.update(frame)\n",
    "    \n",
    "    # roi variable is a tuple of 4 floats\n",
    "    # We need each value and we need them as integers\n",
    "    (x,y,w,h) = tuple(map(int,roi))\n",
    "    \n",
    "    # Draw Rectangle as Tracker moves\n",
    "    if success:\n",
    "        # Tracking success\n",
    "        p1 = (x, y)\n",
    "        p2 = (x+w, y+h)\n",
    "        cv2.rectangle(frame, p1, p2, (0,255,0), 3)\n",
    "    else :\n",
    "        # Tracking failure\n",
    "        cv2.putText(frame, \"Failure to Detect Tracking!!\", (100,200), cv2.FONT_HERSHEY_SIMPLEX, 1,(0,0,255),3)\n",
    "\n",
    "    # Display tracker type on frame\n",
    "    cv2.putText(frame, tracker_name, (20,400), cv2.FONT_HERSHEY_SIMPLEX, 1, (0,255,0),3);\n",
    "\n",
    "    # Display result\n",
    "    cv2.imshow(tracker_name, frame)\n",
    "\n",
    "    # Exit if ESC pressed\n",
    "    k = cv2.waitKey(1) & 0xff\n",
    "    if k == 27 : \n",
    "        break\n",
    "        \n",
    "cap.release()\n",
    "cv2.destroyAllWindows()"
   ]
  },
  {
   "cell_type": "code",
   "execution_count": 17,
   "metadata": {},
   "outputs": [
    {
     "name": "stdout",
     "output_type": "stream",
     "text": [
      "Selected bounding boxes [(571, 14, 184, 368), (621, 157, 97, 193), (232, 189, 73, 145)]\n"
     ]
    }
   ],
   "source": [
    "import cv2\n",
    "from random import randint, shuffle\n",
    "import numpy as np\n",
    " \n",
    "trackerTypes = ['BOOSTING', 'MIL', 'KCF','TLD', 'MEDIANFLOW', 'GOTURN', 'MOSSE', 'CSRT'] \n",
    "\n",
    "# Set video to load\n",
    "\n",
    " \n",
    "# Create a video capture object to read videos\n",
    "cap = cv2.VideoCapture(\"../DATA/full_bodies.avi\")\n",
    "frame_width = int(cap.get(3))\n",
    "frame_height = int(cap.get(4))\n",
    "out = cv2.VideoWriter('people.avi',cv2.VideoWriter_fourcc('M','J','P','G'), 10, (frame_width,frame_height))  \n",
    "\n",
    "# Read first frame\n",
    "success, frame = cap.read()\n",
    "# quit if unable to read the video file\n",
    "if not success:\n",
    "    print('Failed to read video')\n",
    "    sys.exit(1)\n",
    "\n",
    "  \n",
    "    \n",
    "## Select boxes\n",
    "bboxes = []\n",
    "colors = [] \n",
    " \n",
    "# OpenCV's selectROI function doesn't work for selecting multiple objects in Python\n",
    "# So we will call this function in a loop till we are done selecting all objects\n",
    "# while True:\n",
    "#     # draw bounding boxes over objects\n",
    "#     # selectROI's default behaviour is to draw box starting from the center\n",
    "#     # when fromCenter is set to false, you can draw box starting from top left corner\n",
    "#     bbox = cv2.selectROI('MultiTracker', frame)\n",
    "#     bboxes.append(bbox)\n",
    "#     colors.append((randint(0, 255), randint(0, 255), randint(0, 255)))\n",
    "#     print(\"Press q to quit selecting boxes and start tracking\")\n",
    "#     print(\"Press any other key to select next object\")\n",
    "#     k = cv2.waitKey(0) & 0xFF\n",
    "#     if (k == 113):  # q is pressed\n",
    "#     break\n",
    "    \n",
    "    \n",
    "gray = cv2.cvtColor(frame, cv2.COLOR_BGR2GRAY)\n",
    "hog = cv2.HOGDescriptor()#'../DATA/DATA/haarcascades/hogcascade_pedestrians.xml'\n",
    "hog.setSVMDetector(cv2.HOGDescriptor_getDefaultPeopleDetector())\n",
    "#rects, weights = hog.detectMultiScale(gray, winStride=(4, 4), padding=(4, 4), scale=1.02)\n",
    "rects, weights = hog.detectMultiScale(gray, winStride=(2, 2), padding=(10, 10), scale=1.02)\n",
    "\n",
    "#shuffle(rects)\n",
    "#print(rects)\n",
    "\n",
    "#rects = list(rects)\n",
    "#rects.sort(key=lambda rec: rec[2] * rec[3])\n",
    "#rects = np.array(rects)\n",
    "\n",
    "#print(rects)\n",
    "\n",
    "prev = [[],[],[],[],[],[]]\n",
    "\n",
    "for i, rec in enumerate(rects):\n",
    "    if len(bboxes) == 5:\n",
    "        break\n",
    "    if(weights[i] >= 0.8 and tuple(map(int, rec)) not in bboxes):\n",
    "        bboxes.append(tuple(map(int, rec)))\n",
    "        prev[i-1].append((int(rec[0] + rec[2]/2), int(rec[1] + rec[3]/2)))\n",
    "        colors.append((0, int(255 * weights[i]), 0)) #randint(0, 255)\n",
    "    \n",
    "print('Selected bounding boxes {}'.format(bboxes))\n",
    "\n",
    "# Specify the tracker type\n",
    "trackerType = \"BOOSTING\"   \n",
    " \n",
    "# Create MultiTracker object\n",
    "multiTracker = cv2.MultiTracker_create()\n",
    " \n",
    "# Initialize MultiTracker\n",
    "for bbox in bboxes:\n",
    "    multiTracker.add(createTrackerByName(trackerType), frame, bbox)\n",
    "\n",
    "# Process video and track objects\n",
    "while cap.isOpened():\n",
    "    success, frame = cap.read()\n",
    "    \n",
    "    if not success:\n",
    "        break\n",
    "\n",
    "    # get updated location of objects in subsequent frames\n",
    "    success, boxes = multiTracker.update(frame)\n",
    "\n",
    "    # draw tracked objects\n",
    "    for i, newbox in enumerate(boxes):\n",
    "        p1 = (int(newbox[0]), int(newbox[1]))\n",
    "        p2 = (int(newbox[0] + newbox[2]), int(newbox[1] + newbox[3]))\n",
    "        cv2.rectangle(frame, p1, p2, colors[i], 2, 1)\n",
    "        cv2.circle(frame,(int(newbox[0] + newbox[2]/2), int(newbox[1] + newbox[3]/2)),8,(0,0,255),-1)\n",
    "        \n",
    "        prev[i].append((int(newbox[0] + newbox[2]/2), int(newbox[1] + newbox[3]/2)))\n",
    "        \n",
    "        for j in range(1,len(prev[i])):\n",
    "            cv2.line(frame, prev[i][j-1], prev[i][j], (0,255,0), 3)\n",
    "        \n",
    "    # show frame\n",
    "    out.write(frame)\n",
    "    width = int(frame.shape[1] )\n",
    "    height = int(frame.shape[0])\n",
    "    frame = cv2.resize(frame, (width, height))\n",
    "    cv2.imshow('MultiTracker', frame)\n",
    "\n",
    "    # quit on ESC button\n",
    "    k = cv2.waitKey(1) & 0xff\n",
    "    if k == 27 : \n",
    "        break\n",
    "        \n",
    "cap.release()\n",
    "out.release()\n",
    "cv2.destroyAllWindows()\n"
   ]
  }
 ],
 "metadata": {
  "kernelspec": {
   "display_name": "Python 3 (ipykernel)",
   "language": "python",
   "name": "python3"
  },
  "language_info": {
   "codemirror_mode": {
    "name": "ipython",
    "version": 3
   },
   "file_extension": ".py",
   "mimetype": "text/x-python",
   "name": "python",
   "nbconvert_exporter": "python",
   "pygments_lexer": "ipython3",
   "version": "3.9.13"
  }
 },
 "nbformat": 4,
 "nbformat_minor": 4
}
