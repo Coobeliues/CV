{
 "cells": [
  {
   "cell_type": "code",
   "execution_count": 1,
   "id": "e4e7b4ad-55d8-4978-819f-0f8b11864652",
   "metadata": {
    "tags": []
   },
   "outputs": [],
   "source": [
    "import matplotlib.pyplot as plt\n",
    "import cv2"
   ]
  },
  {
   "cell_type": "code",
   "execution_count": 6,
   "id": "696aa799-904c-454d-a199-6c51b9cf3d3b",
   "metadata": {
    "tags": []
   },
   "outputs": [],
   "source": [
    "# from tensorflow.keras.preprocessing.image import ImageDataGenerator\n",
    "from keras.preprocessing.image import ImageDataGenerator\n",
    "from keras_vggface.utils import preprocess_input\n",
    "datagen = ImageDataGenerator(\n",
    "    rescale=1/255, # масштабирование значений пикселей в диапазон от 0 до 1\n",
    "    rotation_range=20, # угол поворота изображения\n",
    "    width_shift_range=0.2, # смещение изображения по горизонтали\n",
    "    height_shift_range=0.2, # смещение изображения по вертикали\n",
    "    shear_range=0.2, # сдвиг изображения\n",
    "    zoom_range=0.2, # масштабирование изображения\n",
    "    vertical_flip=True,\n",
    "    horizontal_flip=True, # отражение изображения по горизонтали\n",
    "    brightness_range= (0.5,2.5),\n",
    "    fill_mode='nearest', # заполнение пикселей после преобразований\n",
    "    preprocessing_function=preprocess_input # препроцессинг изображений для распознавания лиц\n",
    "\n",
    ")"
   ]
  },
  {
   "cell_type": "code",
   "execution_count": null,
   "id": "a08afb54-e10f-47a9-86f4-62dff3bdf1ef",
   "metadata": {},
   "outputs": [],
   "source": [
    "import os\n",
    "from keras.preprocessing import image\n",
    "import keras.utils as image\n",
    "\n",
    "\n",
    "original_dir = 'фото/cuted_test/'\n",
    "\n",
    "augmented_dir = 'фото/aug_cuted_test'\n",
    "\n",
    "if not os.path.exists(augmented_dir):\n",
    "    os.makedirs(augmented_dir)\n",
    "\n",
    "for root, dirs, files in os.walk(original_dir):\n",
    "    for filename in files:\n",
    "        img_path = os.path.join(root, filename)\n",
    "        img = image.load_img(img_path)\n",
    "        img = img.convert('RGB')\n",
    "        x = image.img_to_array(img)\n",
    "        x = preprocess_input(x)\n",
    "        x = x.reshape((1,) + x.shape)\n",
    "        i = 0\n",
    "        for batch in datagen.flow(x, batch_size=1,\n",
    "                                  save_to_dir=augmented_dir,\n",
    "                                  save_prefix=filename.split('.')[0],\n",
    "                                  save_format='jpg'):\n",
    "            i += 1\n",
    "            if i >= 5: # random 5 images\n",
    "                break\n"
   ]
  },
  {
   "cell_type": "code",
   "execution_count": 7,
   "id": "48029fb3-7d6b-4ec4-8744-72dae51bc231",
   "metadata": {
    "tags": []
   },
   "outputs": [
    {
     "name": "stdout",
     "output_type": "stream",
     "text": [
      "Found 2818 images belonging to 15 classes.\n"
     ]
    },
    {
     "data": {
      "text/plain": [
       "<keras.preprocessing.image.DirectoryIterator at 0x1d0efd6d6f0>"
      ]
     },
     "execution_count": 7,
     "metadata": {},
     "output_type": "execute_result"
    }
   ],
   "source": [
    "datagen.flow_from_directory('../фото/aug_tt/aug_train/')"
   ]
  },
  {
   "cell_type": "code",
   "execution_count": 8,
   "id": "5f3ddb29-d34b-4cf4-a518-c18a5ba13dd2",
   "metadata": {
    "tags": []
   },
   "outputs": [
    {
     "name": "stdout",
     "output_type": "stream",
     "text": [
      "Found 333 images belonging to 15 classes.\n"
     ]
    },
    {
     "data": {
      "text/plain": [
       "<keras.preprocessing.image.DirectoryIterator at 0x1d0e1e941c0>"
      ]
     },
     "execution_count": 8,
     "metadata": {},
     "output_type": "execute_result"
    }
   ],
   "source": [
    "datagen.flow_from_directory('../фото/aug_tt/aug_test/')"
   ]
  },
  {
   "cell_type": "code",
   "execution_count": 9,
   "id": "51e49766-85bd-4896-9bf9-4050efa60288",
   "metadata": {
    "tags": []
   },
   "outputs": [],
   "source": [
    "image_shape = (150,150,3)\n",
    "# image_shape = (224,224,3)"
   ]
  },
  {
   "cell_type": "code",
   "execution_count": 12,
   "id": "c292d2c4-76b2-406c-93a4-c698fa473da4",
   "metadata": {
    "tags": []
   },
   "outputs": [
    {
     "name": "stderr",
     "output_type": "stream",
     "text": [
      "WARNING:absl:`lr` is deprecated in Keras optimizer, please use `learning_rate` or use the legacy optimizer, e.g.,tf.keras.optimizers.legacy.Adam.\n"
     ]
    }
   ],
   "source": [
    "from keras import Sequential\n",
    "from keras.layers import BatchNormalization\n",
    "from keras.regularizers import l2\n",
    "from keras.layers import Activation, Dropout, Flatten, Dense, Conv2D, MaxPooling2D\n",
    "from keras.optimizers import Adam\n",
    "from tensorflow.keras.preprocessing import image\n",
    "\n",
    "\n",
    "\n",
    "import tensorflow as tf\n",
    "from tensorflow.keras import layers\n",
    "classifier = tf.keras.Sequential([\n",
    "    Conv2D(32, (4,4), activation='relu', padding='same', input_shape=image_shape),\n",
    "    BatchNormalization(),\n",
    "    Conv2D(32, (4,4), activation='relu', padding='same'),\n",
    "    BatchNormalization(),\n",
    "    MaxPooling2D(pool_size=(2,2)),\n",
    "    Dropout(0.5),\n",
    "    \n",
    "    Conv2D(64, (4,4), activation='relu', padding='same'),\n",
    "    BatchNormalization(),\n",
    "    Conv2D(64, (4,4), activation='relu', padding='same'),\n",
    "    BatchNormalization(),\n",
    "    MaxPooling2D(pool_size=(2,2)),\n",
    "    Dropout(0.5),\n",
    "    \n",
    "    Conv2D(128, (4,4), activation='relu', padding='same'),\n",
    "    BatchNormalization(),\n",
    "    Conv2D(128, (4,4), activation='relu', padding='same'),\n",
    "    BatchNormalization(),\n",
    "    MaxPooling2D(pool_size=(2,2)),\n",
    "    Dropout(0.5),\n",
    "    \n",
    "    Flatten(),\n",
    "    Dense(512, activation='relu', kernel_regularizer=tf.keras.regularizers.l2(0.001)),\n",
    "    BatchNormalization(),\n",
    "    Dropout(0.5),\n",
    "    Dense(15, activation='softmax')\n",
    "])\n",
    "\n",
    "classifier.compile(optimizer=tf.keras.optimizers.Adam(lr=0.0001),\n",
    "              loss='categorical_crossentropy',\n",
    "              metrics=['accuracy'])\n",
    "\n",
    "# cnn_classifier= Sequential([\n",
    "#     Conv2D(filters=36, kernel_size=7, activation='relu', input_shape= image_shape),\n",
    "#     MaxPooling2D(pool_size=2),\n",
    "#     Conv2D(filters=54, kernel_size=5, activation='relu', input_shape= image_shape),\n",
    "#     MaxPooling2D(pool_size=2),\n",
    "#     Flatten(),\n",
    "#     Dense(1024, activation='relu'),\n",
    "#     Dropout(0.5),\n",
    "#     Dense(512, activation='relu'),\n",
    "#     Dropout(0.5),\n",
    "#     Dense(256, activation='relu'),\n",
    "#     Dropout(0.5),\n",
    "#     #20 is the number of outputs\n",
    "#     Dense(20, activation='softmax')  \n",
    "# ])\n",
    "\n"
   ]
  },
  {
   "cell_type": "code",
   "execution_count": 10,
   "id": "dced76e6-c518-40ee-84a5-c6c4fd0fb555",
   "metadata": {
    "tags": []
   },
   "outputs": [],
   "source": [
    "# from keras.models import Sequential\n",
    "# from keras.layers import Convolution2D\n",
    "# from keras.layers import MaxPool2D\n",
    "# from keras.layers import Flatten\n",
    "# from keras.layers import Dense\n",
    "\n",
    "# classifier= Sequential()\n",
    "\n",
    "\n",
    "# classifier.add(Convolution2D(32, kernel_size=(5, 5), strides=(1, 1), input_shape=(150,150,3), activation='relu'))\n",
    "\n",
    "# classifier.add(MaxPool2D(pool_size=(2,2)))\n",
    "\n",
    "# classifier.add(Convolution2D(64, kernel_size=(5, 5), strides=(1, 1), activation='relu'))\n",
    "\n",
    "# classifier.add(MaxPool2D(pool_size=(2,2)))\n",
    "\n",
    "# classifier.add(Flatten())\n",
    "\n",
    "# classifier.add(Dense(64, activation='relu'))\n",
    "\n",
    "# classifier.add(Dense(15, activation='softmax'))\n",
    "\n",
    "# #classifier.compile(loss='binary_crossentropy', optimizer='adam', metrics=['accuracy'])\n",
    "# classifier.compile(loss='categorical_crossentropy', optimizer = 'adam', metrics=[\"accuracy\"])\n",
    "\n",
    "\n"
   ]
  },
  {
   "cell_type": "code",
   "execution_count": 13,
   "id": "c9c85422-d6d2-4f35-a81c-22186fdbd5f5",
   "metadata": {
    "tags": []
   },
   "outputs": [
    {
     "name": "stdout",
     "output_type": "stream",
     "text": [
      "Model: \"sequential_1\"\n",
      "_________________________________________________________________\n",
      " Layer (type)                Output Shape              Param #   \n",
      "=================================================================\n",
      " conv2d_2 (Conv2D)           (None, 150, 150, 32)      1568      \n",
      "                                                                 \n",
      " batch_normalization (BatchN  (None, 150, 150, 32)     128       \n",
      " ormalization)                                                   \n",
      "                                                                 \n",
      " conv2d_3 (Conv2D)           (None, 150, 150, 32)      16416     \n",
      "                                                                 \n",
      " batch_normalization_1 (Batc  (None, 150, 150, 32)     128       \n",
      " hNormalization)                                                 \n",
      "                                                                 \n",
      " max_pooling2d_2 (MaxPooling  (None, 75, 75, 32)       0         \n",
      " 2D)                                                             \n",
      "                                                                 \n",
      " dropout (Dropout)           (None, 75, 75, 32)        0         \n",
      "                                                                 \n",
      " conv2d_4 (Conv2D)           (None, 75, 75, 64)        32832     \n",
      "                                                                 \n",
      " batch_normalization_2 (Batc  (None, 75, 75, 64)       256       \n",
      " hNormalization)                                                 \n",
      "                                                                 \n",
      " conv2d_5 (Conv2D)           (None, 75, 75, 64)        65600     \n",
      "                                                                 \n",
      " batch_normalization_3 (Batc  (None, 75, 75, 64)       256       \n",
      " hNormalization)                                                 \n",
      "                                                                 \n",
      " max_pooling2d_3 (MaxPooling  (None, 37, 37, 64)       0         \n",
      " 2D)                                                             \n",
      "                                                                 \n",
      " dropout_1 (Dropout)         (None, 37, 37, 64)        0         \n",
      "                                                                 \n",
      " conv2d_6 (Conv2D)           (None, 37, 37, 128)       131200    \n",
      "                                                                 \n",
      " batch_normalization_4 (Batc  (None, 37, 37, 128)      512       \n",
      " hNormalization)                                                 \n",
      "                                                                 \n",
      " conv2d_7 (Conv2D)           (None, 37, 37, 128)       262272    \n",
      "                                                                 \n",
      " batch_normalization_5 (Batc  (None, 37, 37, 128)      512       \n",
      " hNormalization)                                                 \n",
      "                                                                 \n",
      " max_pooling2d_4 (MaxPooling  (None, 18, 18, 128)      0         \n",
      " 2D)                                                             \n",
      "                                                                 \n",
      " dropout_2 (Dropout)         (None, 18, 18, 128)       0         \n",
      "                                                                 \n",
      " flatten_1 (Flatten)         (None, 41472)             0         \n",
      "                                                                 \n",
      " dense_2 (Dense)             (None, 512)               21234176  \n",
      "                                                                 \n",
      " batch_normalization_6 (Batc  (None, 512)              2048      \n",
      " hNormalization)                                                 \n",
      "                                                                 \n",
      " dropout_3 (Dropout)         (None, 512)               0         \n",
      "                                                                 \n",
      " dense_3 (Dense)             (None, 15)                7695      \n",
      "                                                                 \n",
      "=================================================================\n",
      "Total params: 21,755,599\n",
      "Trainable params: 21,753,679\n",
      "Non-trainable params: 1,920\n",
      "_________________________________________________________________\n"
     ]
    }
   ],
   "source": [
    "classifier.summary()\n"
   ]
  },
  {
   "cell_type": "code",
   "execution_count": 168,
   "id": "4c924c96-06ae-412b-a907-9316d95d656b",
   "metadata": {
    "tags": []
   },
   "outputs": [],
   "source": [
    "# # compile\n",
    "# from keras.optimizers import SGD\n",
    "# from keras.optimizers import rmsprop\n",
    "# from keras.optimizers import Adam\n",
    "\n",
    "# optimizer = Adam(lr=0.0001)\n",
    "\n",
    "# model.compile(optimizer=optimizer, loss='categorical_crossentropy', metrics=['accuracy'])"
   ]
  },
  {
   "cell_type": "code",
   "execution_count": 14,
   "id": "6fdb1ecd-dac9-4c7c-9fa9-e27ef4b75993",
   "metadata": {
    "tags": []
   },
   "outputs": [
    {
     "name": "stdout",
     "output_type": "stream",
     "text": [
      "Found 2818 images belonging to 15 classes.\n"
     ]
    }
   ],
   "source": [
    "batch_size = 32\n",
    "\n",
    "train_image_gen = datagen.flow_from_directory('../фото/aug_tt/aug_train/',\n",
    "                                               target_size=image_shape[:2],\n",
    "                                               batch_size=batch_size,\n",
    "                                               class_mode='categorical') \n",
    "                                               # shuffle = True) #binary, sparse, categorical"
   ]
  },
  {
   "cell_type": "code",
   "execution_count": 15,
   "id": "90a7209a-1907-400d-8871-da08138b580f",
   "metadata": {
    "tags": []
   },
   "outputs": [
    {
     "name": "stdout",
     "output_type": "stream",
     "text": [
      "Found 333 images belonging to 15 classes.\n"
     ]
    }
   ],
   "source": [
    "test_image_gen = datagen.flow_from_directory('../фото/aug_tt/aug_test/',\n",
    "                                               target_size=image_shape[:2],\n",
    "                                               batch_size=batch_size,\n",
    "                                               class_mode='categorical')\n",
    "                                               # shuffle=True)"
   ]
  },
  {
   "cell_type": "code",
   "execution_count": 16,
   "id": "b3530e07-244b-47b0-b078-cfbd25a8d799",
   "metadata": {
    "tags": []
   },
   "outputs": [
    {
     "data": {
      "text/plain": [
       "{'Akhmedov Sanzhar': 0,\n",
       " 'Alikhan Zhamankhan': 1,\n",
       " 'Baibatchayeva Anar': 2,\n",
       " 'Dalabay Abylay': 3,\n",
       " 'Daniyar Raiymbekov': 4,\n",
       " 'Duisenov Alikhan': 5,\n",
       " 'Ernar': 6,\n",
       " 'Kenzhebay Askar': 7,\n",
       " 'Kyran Yerkin': 8,\n",
       " 'Maxat Ualikhan': 9,\n",
       " 'Rysmambetov Nurtugan': 10,\n",
       " 'Sagynbek Nurbolat': 11,\n",
       " 'Yerkin Yernar': 12,\n",
       " 'Zhetessov Nur': 13,\n",
       " 'Zhumabekov Magjan': 14}"
      ]
     },
     "execution_count": 16,
     "metadata": {},
     "output_type": "execute_result"
    }
   ],
   "source": [
    "train_image_gen.class_indices"
   ]
  },
  {
   "cell_type": "code",
   "execution_count": 17,
   "id": "b5eeb507-e22d-440b-b906-91a3497be2ed",
   "metadata": {
    "tags": []
   },
   "outputs": [],
   "source": [
    "import warnings\n",
    "warnings.filterwarnings('ignore')"
   ]
  },
  {
   "cell_type": "code",
   "execution_count": 18,
   "id": "859eea05-ade8-40c8-aa37-a29e4d56da21",
   "metadata": {
    "tags": []
   },
   "outputs": [
    {
     "name": "stdout",
     "output_type": "stream",
     "text": [
      "2818\n",
      "32\n"
     ]
    }
   ],
   "source": [
    "print(train_image_gen.n)\n",
    "print(train_image_gen.batch_size)"
   ]
  },
  {
   "cell_type": "code",
   "execution_count": null,
   "id": "5b619951-5883-4603-8e9e-f4bb5827f0c4",
   "metadata": {
    "tags": []
   },
   "outputs": [
    {
     "name": "stdout",
     "output_type": "stream",
     "text": [
      "Epoch 1/100\n",
      "88/88 [==============================] - 465s 5s/step - loss: 4.9197 - accuracy: 0.1522 - val_loss: 7.0355 - val_accuracy: 0.0562\n",
      "Epoch 2/100\n",
      "88/88 [==============================] - 563s 6s/step - loss: 4.5817 - accuracy: 0.2297 - val_loss: 6.9767 - val_accuracy: 0.0594\n",
      "Epoch 3/100\n",
      "88/88 [==============================] - 524s 6s/step - loss: 4.3091 - accuracy: 0.2649 - val_loss: 6.4400 - val_accuracy: 0.0906\n",
      "Epoch 4/100\n",
      "88/88 [==============================] - 516s 6s/step - loss: 4.0717 - accuracy: 0.2782 - val_loss: 4.4942 - val_accuracy: 0.0906\n",
      "Epoch 5/100\n",
      "88/88 [==============================] - 564s 6s/step - loss: 4.4870 - accuracy: 0.1910 - val_loss: 8.0106 - val_accuracy: 0.1187\n",
      "Epoch 6/100\n",
      "88/88 [==============================] - 587s 7s/step - loss: 4.0770 - accuracy: 0.2200 - val_loss: 3.7510 - val_accuracy: 0.2438\n",
      "Epoch 7/100\n",
      "88/88 [==============================] - 620s 7s/step - loss: 3.6111 - accuracy: 0.2760 - val_loss: 3.6585 - val_accuracy: 0.2562\n",
      "Epoch 8/100\n",
      "88/88 [==============================] - 619s 7s/step - loss: 3.4252 - accuracy: 0.2907 - val_loss: 3.4346 - val_accuracy: 0.2656\n",
      "Epoch 9/100\n",
      "88/88 [==============================] - 626s 7s/step - loss: 3.1947 - accuracy: 0.3195 - val_loss: 3.0802 - val_accuracy: 0.3094\n",
      "Epoch 10/100\n",
      "88/88 [==============================] - 620s 7s/step - loss: 3.1044 - accuracy: 0.3417 - val_loss: 3.2644 - val_accuracy: 0.2750\n",
      "Epoch 11/100\n",
      "88/88 [==============================] - 619s 7s/step - loss: 2.9696 - accuracy: 0.3787 - val_loss: 3.2166 - val_accuracy: 0.3125\n",
      "Epoch 12/100\n",
      "88/88 [==============================] - 618s 7s/step - loss: 2.8704 - accuracy: 0.3952 - val_loss: 2.8227 - val_accuracy: 0.3812\n",
      "Epoch 13/100\n",
      "88/88 [==============================] - 619s 7s/step - loss: 3.1041 - accuracy: 0.3482 - val_loss: 4.5389 - val_accuracy: 0.2438\n",
      "Epoch 14/100\n",
      "88/88 [==============================] - 633s 7s/step - loss: 3.2380 - accuracy: 0.3173 - val_loss: 3.3826 - val_accuracy: 0.3313\n",
      "Epoch 15/100\n",
      "88/88 [==============================] - 623s 7s/step - loss: 3.0847 - accuracy: 0.3299 - val_loss: 4.1042 - val_accuracy: 0.2438\n",
      "Epoch 16/100\n",
      "88/88 [==============================] - 623s 7s/step - loss: 2.9920 - accuracy: 0.3550 - val_loss: 2.8524 - val_accuracy: 0.4187\n",
      "Epoch 17/100\n",
      "88/88 [==============================] - 619s 7s/step - loss: 2.8843 - accuracy: 0.3747 - val_loss: 2.8363 - val_accuracy: 0.3781\n",
      "Epoch 18/100\n",
      "88/88 [==============================] - 621s 7s/step - loss: 2.7849 - accuracy: 0.4106 - val_loss: 2.7160 - val_accuracy: 0.4094\n",
      "Epoch 19/100\n",
      "88/88 [==============================] - 621s 7s/step - loss: 2.8318 - accuracy: 0.4006 - val_loss: 2.9065 - val_accuracy: 0.4000\n",
      "Epoch 20/100\n",
      "88/88 [==============================] - 619s 7s/step - loss: 2.7685 - accuracy: 0.4415 - val_loss: 2.5596 - val_accuracy: 0.5188\n",
      "Epoch 21/100\n",
      "88/88 [==============================] - 619s 7s/step - loss: 2.8208 - accuracy: 0.4131 - val_loss: 2.7180 - val_accuracy: 0.4688\n",
      "Epoch 22/100\n",
      "88/88 [==============================] - 619s 7s/step - loss: 2.8789 - accuracy: 0.4214 - val_loss: 2.7141 - val_accuracy: 0.4906\n",
      "Epoch 23/100\n",
      "88/88 [==============================] - 623s 7s/step - loss: 2.8314 - accuracy: 0.4580 - val_loss: 9.8193 - val_accuracy: 0.1312\n",
      "Epoch 24/100\n",
      "88/88 [==============================] - 621s 7s/step - loss: 3.4966 - accuracy: 0.3101 - val_loss: 3.6461 - val_accuracy: 0.2844\n",
      "Epoch 25/100\n",
      "88/88 [==============================] - 618s 7s/step - loss: 3.2468 - accuracy: 0.3360 - val_loss: 3.1139 - val_accuracy: 0.3500\n",
      "Epoch 26/100\n",
      "88/88 [==============================] - 617s 7s/step - loss: 2.9535 - accuracy: 0.4149 - val_loss: 2.8776 - val_accuracy: 0.4187\n",
      "Epoch 27/100\n",
      "88/88 [==============================] - 619s 7s/step - loss: 2.8780 - accuracy: 0.4426 - val_loss: 2.9172 - val_accuracy: 0.4375\n",
      "Epoch 28/100\n",
      "88/88 [==============================] - 619s 7s/step - loss: 2.9621 - accuracy: 0.4264 - val_loss: 3.0475 - val_accuracy: 0.4094\n",
      "Epoch 29/100\n",
      "88/88 [==============================] - 618s 7s/step - loss: 2.9497 - accuracy: 0.4390 - val_loss: 6.7329 - val_accuracy: 0.1344\n",
      "Epoch 30/100\n",
      "88/88 [==============================] - 619s 7s/step - loss: 3.1714 - accuracy: 0.4185 - val_loss: 5.5299 - val_accuracy: 0.1719\n",
      "Epoch 31/100\n",
      "88/88 [==============================] - 618s 7s/step - loss: 3.2704 - accuracy: 0.3912 - val_loss: 4.3322 - val_accuracy: 0.2562\n",
      "Epoch 32/100\n",
      "88/88 [==============================] - 618s 7s/step - loss: 3.0313 - accuracy: 0.4530 - val_loss: 3.1480 - val_accuracy: 0.4031\n",
      "Epoch 33/100\n",
      "88/88 [==============================] - 620s 7s/step - loss: 2.9752 - accuracy: 0.4774 - val_loss: 2.9241 - val_accuracy: 0.5125\n",
      "Epoch 34/100\n",
      "88/88 [==============================] - 618s 7s/step - loss: 2.9416 - accuracy: 0.4885 - val_loss: 2.9193 - val_accuracy: 0.4656\n",
      "Epoch 35/100\n",
      "88/88 [==============================] - 618s 7s/step - loss: 3.3310 - accuracy: 0.4095 - val_loss: 3.5180 - val_accuracy: 0.3844\n",
      "Epoch 36/100\n",
      "88/88 [==============================] - 619s 7s/step - loss: 3.2359 - accuracy: 0.4350 - val_loss: 3.7224 - val_accuracy: 0.3406\n",
      "Epoch 37/100\n",
      "88/88 [==============================] - 619s 7s/step - loss: 3.0790 - accuracy: 0.4792 - val_loss: 3.2443 - val_accuracy: 0.3750\n",
      "Epoch 38/100\n",
      "88/88 [==============================] - 618s 7s/step - loss: 3.1852 - accuracy: 0.4559 - val_loss: 3.1879 - val_accuracy: 0.4688\n",
      "Epoch 39/100\n",
      "88/88 [==============================] - 620s 7s/step - loss: 3.3509 - accuracy: 0.4548 - val_loss: 4.7496 - val_accuracy: 0.2688\n",
      "Epoch 40/100\n",
      "88/88 [==============================] - 618s 7s/step - loss: 3.2694 - accuracy: 0.4731 - val_loss: 3.7369 - val_accuracy: 0.3406\n",
      "Epoch 41/100\n",
      "11/88 [==>...........................] - ETA: 8:40 - loss: 3.1431 - accuracy: 0.5057"
     ]
    }
   ],
   "source": [
    "hehe = classifier.fit_generator(\n",
    "                    train_image_gen,\n",
    "                    steps_per_epoch=train_image_gen.n // train_image_gen.batch_size,\n",
    "                    epochs=100,\n",
    "                    validation_data=test_image_gen,\n",
    "                    validation_steps=test_image_gen.n // test_image_gen.batch_size)"
   ]
  },
  {
   "cell_type": "code",
   "execution_count": 57,
   "id": "f4163136-c7d9-487b-8b17-f96168db679a",
   "metadata": {
    "tags": []
   },
   "outputs": [],
   "source": [
    "# import numpy as np\n",
    "# history=cnn_model.fit(\n",
    "#     np.array(train_image_gen), batch_size=512,\n",
    "#     epochs=250, verbose=2,\n",
    "#     validation_data=(np.array(test_image_gen)),\n",
    "# )"
   ]
  },
  {
   "cell_type": "code",
   "execution_count": 1,
   "id": "f6d91804-28a4-46de-85e8-67585dfc72f8",
   "metadata": {
    "tags": []
   },
   "outputs": [],
   "source": [
    "# # history = cnn_model.fit(train_image_gen,epochs=150,validation_data=test_image_gen)\n",
    "# story=cnnModel.fit(\n",
    "#     train_image_gen,\n",
    "#     steps_per_epoch=train_image_gen.n // train_image_gen.batch_size,\n",
    "#     epochs=20,\n",
    "#     validation_data=test_image_gen,\n",
    "#     validation_steps=test_image_gen.n // test_image_gen.batch_size,\n",
    "#     verbose=1)"
   ]
  },
  {
   "cell_type": "code",
   "execution_count": 3,
   "id": "62add524-6d6c-4e70-a62c-41d056af9a87",
   "metadata": {
    "tags": []
   },
   "outputs": [
    {
     "ename": "NameError",
     "evalue": "name 'history' is not defined",
     "output_type": "error",
     "traceback": [
      "\u001b[1;31m---------------------------------------------------------------------------\u001b[0m",
      "\u001b[1;31mNameError\u001b[0m                                 Traceback (most recent call last)",
      "Cell \u001b[1;32mIn[3], line 1\u001b[0m\n\u001b[1;32m----> 1\u001b[0m \u001b[43mhistory\u001b[49m\u001b[38;5;241m.\u001b[39mhistory[\u001b[38;5;124m'\u001b[39m\u001b[38;5;124maccuracy\u001b[39m\u001b[38;5;124m'\u001b[39m]\n",
      "\u001b[1;31mNameError\u001b[0m: name 'history' is not defined"
     ]
    }
   ],
   "source": [
    "hehe.history['accuracy']"
   ]
  },
  {
   "cell_type": "code",
   "execution_count": 18,
   "id": "ed7379c2-e084-45b4-bb01-ff7a38c10802",
   "metadata": {
    "tags": []
   },
   "outputs": [
    {
     "data": {
      "text/plain": [
       "[<matplotlib.lines.Line2D at 0x24b22576d40>]"
      ]
     },
     "execution_count": 18,
     "metadata": {},
     "output_type": "execute_result"
    },
    {
     "data": {
      "image/png": "[encoded data removed]",
      "text/plain": [
       "<Figure size 640x480 with 1 Axes>"
      ]
     },
     "metadata": {},
     "output_type": "display_data"
    }
   ],
   "source": [
    "plt.plot(hehe.history['accuracy'])"
   ]
  },
  {
   "cell_type": "code",
   "execution_count": null,
   "id": "0b8bf2f7-f1dd-4339-bfa0-b84066c54a11",
   "metadata": {},
   "outputs": [],
   "source": []
  },
  {
   "cell_type": "code",
   "execution_count": null,
   "id": "fc5c02a9-fd51-46f2-863d-c12e4b774da1",
   "metadata": {},
   "outputs": [],
   "source": []
  },
  {
   "cell_type": "code",
   "execution_count": 19,
   "id": "15cab013-ba8a-48f0-940c-e73b6ac9b2d3",
   "metadata": {
    "tags": []
   },
   "outputs": [],
   "source": [
    "classifier.save('18e.h5')"
   ]
  },
  {
   "cell_type": "code",
   "execution_count": 1,
   "id": "0b918585-193d-494c-adee-86586378ceb3",
   "metadata": {
    "tags": []
   },
   "outputs": [
    {
     "name": "stdout",
     "output_type": "stream",
     "text": [
      "1/1 [==============================] - 1s 678ms/step\n",
      "1/1 [==============================] - 0s 151ms/step\n",
      "1/1 [==============================] - 0s 137ms/step\n",
      "1/1 [==============================] - 0s 146ms/step\n",
      "1/1 [==============================] - 0s 134ms/step\n",
      "1/1 [==============================] - 0s 132ms/step\n",
      "1/1 [==============================] - 0s 132ms/step\n",
      "1/1 [==============================] - 0s 142ms/step\n",
      "1/1 [==============================] - 0s 147ms/step\n",
      "1/1 [==============================] - 0s 130ms/step\n",
      "1/1 [==============================] - 0s 132ms/step\n",
      "1/1 [==============================] - 0s 130ms/step\n",
      "1/1 [==============================] - 0s 132ms/step\n",
      "1/1 [==============================] - 0s 134ms/step\n",
      "1/1 [==============================] - 0s 132ms/step\n",
      "1/1 [==============================] - 0s 132ms/step\n",
      "1/1 [==============================] - 0s 130ms/step\n",
      "1/1 [==============================] - 0s 134ms/step\n",
      "1/1 [==============================] - 0s 129ms/step\n",
      "1/1 [==============================] - 0s 131ms/step\n",
      "1/1 [==============================] - 0s 131ms/step\n",
      "1/1 [==============================] - 0s 133ms/step\n",
      "1/1 [==============================] - 0s 129ms/step\n",
      "1/1 [==============================] - 0s 131ms/step\n",
      "1/1 [==============================] - 0s 138ms/step\n",
      "1/1 [==============================] - 0s 146ms/step\n",
      "1/1 [==============================] - 0s 133ms/step\n",
      "1/1 [==============================] - 0s 131ms/step\n",
      "1/1 [==============================] - 0s 134ms/step\n",
      "1/1 [==============================] - 0s 133ms/step\n",
      "1/1 [==============================] - 0s 132ms/step\n",
      "1/1 [==============================] - 0s 131ms/step\n",
      "1/1 [==============================] - 0s 132ms/step\n",
      "1/1 [==============================] - 0s 131ms/step\n",
      "1/1 [==============================] - 0s 132ms/step\n",
      "1/1 [==============================] - 0s 134ms/step\n",
      "1/1 [==============================] - 0s 131ms/step\n",
      "1/1 [==============================] - 0s 133ms/step\n",
      "1/1 [==============================] - 0s 134ms/step\n",
      "1/1 [==============================] - 0s 132ms/step\n",
      "1/1 [==============================] - 0s 131ms/step\n",
      "1/1 [==============================] - 0s 133ms/step\n",
      "1/1 [==============================] - 0s 129ms/step\n",
      "1/1 [==============================] - 0s 133ms/step\n",
      "1/1 [==============================] - 0s 129ms/step\n",
      "1/1 [==============================] - 0s 131ms/step\n",
      "1/1 [==============================] - 0s 129ms/step\n",
      "1/1 [==============================] - 0s 132ms/step\n",
      "1/1 [==============================] - 0s 133ms/step\n",
      "1/1 [==============================] - 0s 138ms/step\n",
      "1/1 [==============================] - 0s 130ms/step\n",
      "1/1 [==============================] - 0s 132ms/step\n",
      "1/1 [==============================] - 0s 133ms/step\n",
      "1/1 [==============================] - 0s 129ms/step\n",
      "1/1 [==============================] - 0s 132ms/step\n",
      "1/1 [==============================] - 0s 131ms/step\n",
      "1/1 [==============================] - 0s 131ms/step\n",
      "1/1 [==============================] - 0s 130ms/step\n",
      "1/1 [==============================] - 0s 132ms/step\n",
      "1/1 [==============================] - 0s 131ms/step\n",
      "1/1 [==============================] - 0s 129ms/step\n",
      "1/1 [==============================] - 0s 132ms/step\n",
      "1/1 [==============================] - 0s 131ms/step\n",
      "1/1 [==============================] - 0s 131ms/step\n",
      "1/1 [==============================] - 0s 133ms/step\n",
      "1/1 [==============================] - 0s 132ms/step\n",
      "1/1 [==============================] - 0s 131ms/step\n",
      "1/1 [==============================] - 0s 132ms/step\n",
      "1/1 [==============================] - 0s 133ms/step\n",
      "1/1 [==============================] - 0s 132ms/step\n",
      "1/1 [==============================] - 0s 136ms/step\n",
      "1/1 [==============================] - 0s 136ms/step\n",
      "1/1 [==============================] - 0s 130ms/step\n",
      "1/1 [==============================] - 0s 131ms/step\n",
      "1/1 [==============================] - 0s 132ms/step\n",
      "1/1 [==============================] - 0s 130ms/step\n",
      "1/1 [==============================] - 0s 134ms/step\n",
      "1/1 [==============================] - 0s 133ms/step\n",
      "1/1 [==============================] - 0s 132ms/step\n",
      "1/1 [==============================] - 0s 129ms/step\n",
      "1/1 [==============================] - 0s 133ms/step\n",
      "1/1 [==============================] - 0s 128ms/step\n",
      "1/1 [==============================] - 0s 134ms/step\n",
      "1/1 [==============================] - 0s 131ms/step\n",
      "1/1 [==============================] - 0s 132ms/step\n",
      "1/1 [==============================] - 0s 131ms/step\n",
      "1/1 [==============================] - 0s 133ms/step\n",
      "1/1 [==============================] - 0s 132ms/step\n",
      "1/1 [==============================] - 0s 132ms/step\n",
      "1/1 [==============================] - 0s 130ms/step\n",
      "1/1 [==============================] - 0s 134ms/step\n",
      "1/1 [==============================] - 0s 130ms/step\n",
      "1/1 [==============================] - 0s 129ms/step\n",
      "1/1 [==============================] - 0s 133ms/step\n",
      "1/1 [==============================] - 0s 130ms/step\n",
      "1/1 [==============================] - 0s 134ms/step\n",
      "1/1 [==============================] - 0s 131ms/step\n",
      "1/1 [==============================] - 0s 130ms/step\n",
      "1/1 [==============================] - 0s 132ms/step\n",
      "1/1 [==============================] - 0s 131ms/step\n",
      "1/1 [==============================] - 0s 130ms/step\n",
      "1/1 [==============================] - 0s 132ms/step\n",
      "1/1 [==============================] - 0s 133ms/step\n",
      "1/1 [==============================] - 0s 132ms/step\n",
      "1/1 [==============================] - 0s 131ms/step\n",
      "1/1 [==============================] - 0s 133ms/step\n",
      "1/1 [==============================] - 0s 132ms/step\n",
      "1/1 [==============================] - 0s 128ms/step\n",
      "1/1 [==============================] - 0s 131ms/step\n",
      "1/1 [==============================] - 0s 136ms/step\n",
      "1/1 [==============================] - 0s 133ms/step\n",
      "1/1 [==============================] - 0s 131ms/step\n",
      "1/1 [==============================] - 0s 131ms/step\n",
      "1/1 [==============================] - 0s 130ms/step\n",
      "1/1 [==============================] - 0s 130ms/step\n",
      "1/1 [==============================] - 0s 132ms/step\n",
      "1/1 [==============================] - 0s 132ms/step\n",
      "1/1 [==============================] - 0s 132ms/step\n",
      "1/1 [==============================] - 0s 133ms/step\n",
      "1/1 [==============================] - 0s 130ms/step\n",
      "1/1 [==============================] - 0s 133ms/step\n",
      "1/1 [==============================] - 0s 130ms/step\n",
      "1/1 [==============================] - 0s 130ms/step\n",
      "1/1 [==============================] - 0s 130ms/step\n",
      "1/1 [==============================] - 0s 130ms/step\n",
      "1/1 [==============================] - 0s 132ms/step\n",
      "1/1 [==============================] - 0s 128ms/step\n",
      "1/1 [==============================] - 0s 133ms/step\n",
      "1/1 [==============================] - 0s 134ms/step\n",
      "1/1 [==============================] - 0s 131ms/step\n",
      "1/1 [==============================] - 0s 135ms/step\n",
      "1/1 [==============================] - 0s 130ms/step\n",
      "1/1 [==============================] - 0s 133ms/step\n",
      "1/1 [==============================] - 0s 134ms/step\n",
      "1/1 [==============================] - 0s 135ms/step\n",
      "1/1 [==============================] - 0s 130ms/step\n",
      "1/1 [==============================] - 0s 132ms/step\n",
      "1/1 [==============================] - 0s 132ms/step\n",
      "1/1 [==============================] - 0s 132ms/step\n",
      "1/1 [==============================] - 0s 131ms/step\n",
      "1/1 [==============================] - 0s 132ms/step\n",
      "1/1 [==============================] - 0s 133ms/step\n",
      "1/1 [==============================] - 0s 133ms/step\n",
      "1/1 [==============================] - 0s 134ms/step\n",
      "1/1 [==============================] - 0s 133ms/step\n",
      "1/1 [==============================] - 0s 133ms/step\n",
      "1/1 [==============================] - 0s 132ms/step\n",
      "1/1 [==============================] - 0s 133ms/step\n",
      "1/1 [==============================] - 0s 131ms/step\n",
      "1/1 [==============================] - 0s 131ms/step\n",
      "1/1 [==============================] - 0s 132ms/step\n",
      "1/1 [==============================] - 0s 134ms/step\n",
      "1/1 [==============================] - 0s 129ms/step\n",
      "1/1 [==============================] - 0s 130ms/step\n",
      "1/1 [==============================] - 0s 136ms/step\n",
      "1/1 [==============================] - 0s 132ms/step\n",
      "1/1 [==============================] - 0s 132ms/step\n",
      "1/1 [==============================] - 0s 132ms/step\n",
      "1/1 [==============================] - 0s 137ms/step\n",
      "1/1 [==============================] - 0s 133ms/step\n",
      "1/1 [==============================] - 0s 132ms/step\n",
      "1/1 [==============================] - 0s 134ms/step\n",
      "1/1 [==============================] - 0s 133ms/step\n",
      "1/1 [==============================] - 0s 130ms/step\n",
      "1/1 [==============================] - 0s 134ms/step\n",
      "1/1 [==============================] - 0s 131ms/step\n",
      "1/1 [==============================] - 0s 131ms/step\n",
      "1/1 [==============================] - 0s 131ms/step\n",
      "1/1 [==============================] - 0s 133ms/step\n",
      "1/1 [==============================] - 0s 130ms/step\n",
      "1/1 [==============================] - 0s 133ms/step\n",
      "1/1 [==============================] - 0s 132ms/step\n",
      "1/1 [==============================] - 0s 132ms/step\n",
      "1/1 [==============================] - 0s 130ms/step\n",
      "1/1 [==============================] - 0s 134ms/step\n",
      "1/1 [==============================] - 0s 132ms/step\n",
      "1/1 [==============================] - 0s 131ms/step\n",
      "1/1 [==============================] - 0s 130ms/step\n",
      "1/1 [==============================] - 0s 132ms/step\n",
      "1/1 [==============================] - 0s 131ms/step\n",
      "1/1 [==============================] - 0s 130ms/step\n",
      "1/1 [==============================] - 0s 133ms/step\n",
      "1/1 [==============================] - 0s 131ms/step\n",
      "1/1 [==============================] - 0s 135ms/step\n",
      "1/1 [==============================] - 0s 132ms/step\n",
      "1/1 [==============================] - 0s 131ms/step\n",
      "1/1 [==============================] - 0s 132ms/step\n",
      "1/1 [==============================] - 0s 133ms/step\n",
      "1/1 [==============================] - 0s 133ms/step\n",
      "1/1 [==============================] - 0s 130ms/step\n",
      "1/1 [==============================] - 0s 130ms/step\n",
      "1/1 [==============================] - 0s 132ms/step\n",
      "1/1 [==============================] - 0s 132ms/step\n",
      "1/1 [==============================] - 0s 130ms/step\n",
      "1/1 [==============================] - 0s 132ms/step\n",
      "1/1 [==============================] - 0s 132ms/step\n",
      "1/1 [==============================] - 0s 133ms/step\n",
      "1/1 [==============================] - 0s 131ms/step\n",
      "1/1 [==============================] - 0s 133ms/step\n",
      "1/1 [==============================] - 0s 130ms/step\n",
      "1/1 [==============================] - 0s 130ms/step\n",
      "1/1 [==============================] - 0s 131ms/step\n",
      "1/1 [==============================] - 0s 132ms/step\n",
      "1/1 [==============================] - 0s 138ms/step\n",
      "1/1 [==============================] - 0s 139ms/step\n",
      "1/1 [==============================] - 0s 129ms/step\n"
     ]
    }
   ],
   "source": [
    "import cv2\n",
    "import numpy as np\n",
    "from keras.models import load_model\n",
    "import matplotlib.pyplot as plt\n",
    "\n",
    "model = load_model('qwerasd.h5')\n",
    "\n",
    "class_dict = {\n",
    "    # 4: 'Akhmedov Sanzhar',\n",
    "    # 1: 'Alikhan Zhamankhan',\n",
    "    # 2: 'Baibatchayeva Anar',\n",
    "    # 3: 'Dalabay Abylay',\n",
    "    # 0: 'Ernar'\n",
    "    0: 'Akhmedov Sanzhar',\n",
    "    1: 'Alikhan Zhamankhan',\n",
    "    2: 'Baibatchayeva Anar',\n",
    "    3: 'Dalabay Abylay',\n",
    "    4: 'Daniyar Raiymbekov',\n",
    "    5: 'Duisenov Alikhan',\n",
    "    11: 'Ernar',\n",
    "    7: 'Kenzhebay Askar',\n",
    "    8: 'Kyran Yerkin',\n",
    "    9: 'Maxat Ualikhan',\n",
    "    10: 'Rysmambetov Nurtugan',\n",
    "    6: 'Sagynbek Nurbolat',\n",
    "    12: 'Yerkin Yernar',\n",
    "    13: 'Zhetessov Nur',\n",
    "    14: 'Zhumabekov Magjan'\n",
    "}\n",
    "\n",
    "cap = cv2.VideoCapture(0)\n",
    "\n",
    "while True:\n",
    "    ret, frame = cap.read()\n",
    "    # print(ret, frame)\n",
    "    gray = cv2.cvtColor(frame, cv2.COLOR_BGR2RGB)\n",
    "    face_cascade = cv2.CascadeClassifier('../DATA/haarcascades/haarcascade_frontalface_default.xml')\n",
    "    faces = face_cascade.detectMultiScale(gray, 1.3, 5)\n",
    "    \n",
    "    for (x, y, w, h) in faces:\n",
    "        face = gray[y:y+h, x:x+w]\n",
    "        face = cv2.resize(face, (150, 150))\n",
    "        face = np.expand_dims(face, axis=0)\n",
    "        face = np.expand_dims(face, axis=-1)\n",
    "        face = face / 255.0\n",
    "\n",
    "        # prediction = model.predict(face)\n",
    "        # prediction_class = np.argmax(prediction)\n",
    "        # print(prediction_class)\n",
    "        # prediction_value = prediction[prediction_class] * 100\n",
    "        # name = class_dict[prediction_class]\n",
    "        \n",
    "        \n",
    "        prediction = model.predict(face)\n",
    "        prediction_class = np.argmax(prediction, axis=-1)\n",
    "        prediction_value = prediction[0][prediction_class[0]] * 100\n",
    "        name = class_dict[prediction_class[0]]\n",
    "\n",
    "        \n",
    "        \n",
    "        \n",
    "\n",
    "        label = f\"{prediction_value:.2f}% match, {name}\"\n",
    "        cv2.putText(frame, label, (x, y-10), cv2.FONT_HERSHEY_SIMPLEX, 0.45, (0, 255, 0), 2)\n",
    "\n",
    "        cv2.rectangle(frame, (x, y), (x+w, y+h), (0, 255, 0), 2)\n",
    "\n",
    "    cv2.imshow('frame', frame)\n",
    "\n",
    "    if cv2.waitKey(1) & 0xFF == ord('q'):\n",
    "        break\n",
    "\n",
    "cap.release()\n",
    "cv2.destroyAllWindows()\n"
   ]
  },
  {
   "cell_type": "code",
   "execution_count": 2,
   "id": "a8984a2d-67ed-4288-aa00-5754dad412d0",
   "metadata": {
    "tags": []
   },
   "outputs": [
    {
     "ename": "TypeError",
     "evalue": "'History' object is not subscriptable",
     "output_type": "error",
     "traceback": [
      "\u001b[1;31m---------------------------------------------------------------------------\u001b[0m",
      "\u001b[1;31mTypeError\u001b[0m                                 Traceback (most recent call last)",
      "Cell \u001b[1;32mIn[2], line 1\u001b[0m\n\u001b[1;32m----> 1\u001b[0m \u001b[43mmodel\u001b[49m\u001b[38;5;241;43m.\u001b[39;49m\u001b[43mhistory\u001b[49m\u001b[43m[\u001b[49m\u001b[38;5;124;43m'\u001b[39;49m\u001b[38;5;124;43maccuracy\u001b[39;49m\u001b[38;5;124;43m'\u001b[39;49m\u001b[43m]\u001b[49m\n",
      "\u001b[1;31mTypeError\u001b[0m: 'History' object is not subscriptable"
     ]
    }
   ],
   "source": [
    "model.history['accuracy']"
   ]
  }
 ],
 "metadata": {
  "kernelspec": {
   "display_name": "Python 3 (ipykernel)",
   "language": "python",
   "name": "python3"
  },
  "language_info": {
   "codemirror_mode": {
    "name": "ipython",
    "version": 3
   },
   "file_extension": ".py",
   "mimetype": "text/x-python",
   "name": "python",
   "nbconvert_exporter": "python",
   "pygments_lexer": "ipython3",
   "version": "3.10.4"
  }
 },
 "nbformat": 4,
 "nbformat_minor": 5
}
