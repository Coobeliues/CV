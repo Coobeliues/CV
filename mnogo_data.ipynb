{
 "cells": [
  {
   "cell_type": "code",
   "execution_count": null,
   "id": "19b95662-a58c-49e9-a961-ce841ae5ef35",
   "metadata": {},
   "outputs": [],
   "source": [
    "from keras.preprocessing.image import ImageDataGenerator\n",
    "from keras_vggface.utils import preprocess_input\n",
    "datagen = ImageDataGenerator(\n",
    "    rescale=1/255,\n",
    "    rotation_range=20, \n",
    "    width_shift_range=0.2, \n",
    "    height_shift_range=0.2,\n",
    "    shear_range=0.2, \n",
    "    zoom_range=0.2, \n",
    "    vertical_flip=True,\n",
    "    horizontal_flip=True,\n",
    "    brightness_range= (0.5,2.5),\n",
    "    fill_mode='nearest',\n",
    "    preprocessing_function=preprocess_input \n",
    "\n",
    ")"
   ]
  },
  {
   "cell_type": "code",
   "execution_count": null,
   "id": "88851a63-03f1-4cfd-b79a-72bc5c70a443",
   "metadata": {},
   "outputs": [],
   "source": [
    "import os\n",
    "from keras.preprocessing import image\n",
    "import keras.utils as image\n",
    "\n",
    "\n",
    "original_dir = 'фото/train/'\n",
    "\n",
    "augmented_dir = 'фото/aug_train'\n",
    "\n",
    "if not os.path.exists(augmented_dir):\n",
    "    os.makedirs(augmented_dir)\n",
    "\n",
    "for root, dirs, files in os.walk(original_dir):\n",
    "    for filename in files:\n",
    "        img_path = os.path.join(root, filename)\n",
    "        img = image.load_img(img_path)\n",
    "        img = img.convert('RGB')\n",
    "        x = image.img_to_array(img)\n",
    "        x = preprocess_input(x)\n",
    "        x = x.reshape((1,) + x.shape)\n",
    "        i = 0\n",
    "        for batch in datagen.flow(x, batch_size=1,\n",
    "                                  save_to_dir=augmented_dir,\n",
    "                                  save_prefix=filename.split('.')[0],\n",
    "                                  save_format='jpg'):\n",
    "            i += 1\n",
    "            if i >= 5: \n",
    "                break\n"
   ]
  }
 ],
 "metadata": {
  "kernelspec": {
   "display_name": "Python 3 (ipykernel)",
   "language": "python",
   "name": "python3"
  },
  "language_info": {
   "codemirror_mode": {
    "name": "ipython",
    "version": 3
   },
   "file_extension": ".py",
   "mimetype": "text/x-python",
   "name": "python",
   "nbconvert_exporter": "python",
   "pygments_lexer": "ipython3",
   "version": "3.10.4"
  }
 },
 "nbformat": 4,
 "nbformat_minor": 5
}
