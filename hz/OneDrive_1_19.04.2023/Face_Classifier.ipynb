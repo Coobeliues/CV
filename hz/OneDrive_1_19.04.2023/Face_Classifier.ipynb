{
 "cells": [
  {
   "cell_type": "code",
   "execution_count": 10,
   "metadata": {},
   "outputs": [],
   "source": [
    "import matplotlib.pyplot as plt\n",
    "import cv2\n",
    "%matplotlib inline\n",
    "from keras.models import Sequential\n",
    "from keras.layers import Activation, Dropout, Flatten, Dense, Conv2D, MaxPooling2D\n",
    "from keras.preprocessing.image import ImageDataGenerator"
   ]
  },
  {
   "cell_type": "code",
   "execution_count": 11,
   "metadata": {},
   "outputs": [],
   "source": [
    "image_gen = ImageDataGenerator(rotation_range=30, # rotate the image 30 degrees\n",
    "                               width_shift_range=0.1, # Shift the pic width by a max of 10%\n",
    "                               height_shift_range=0.1, # Shift the pic height by a max of 10%\n",
    "                               rescale=1/255, # Rescale the image by normalzing it.\n",
    "                               shear_range=0.2, # Shear means cutting away part of the image (max 20%)\n",
    "                               zoom_range=0.2, # Zoom in by 20% max\n",
    "                               horizontal_flip=True, # Allo horizontal flipping\n",
    "                               fill_mode='nearest' # Fill in missing pixels with the nearest filled value\n",
    "                              )"
   ]
  },
  {
   "cell_type": "code",
   "execution_count": 25,
   "metadata": {},
   "outputs": [],
   "source": [
    "image_shape = (150,150,3)\n",
    "kernel_size = (3, 3)"
   ]
  },
  {
   "cell_type": "code",
   "execution_count": 26,
   "metadata": {},
   "outputs": [],
   "source": [
    "# model = Sequential()\n",
    "\n",
    "# model.add(Conv2D(32, kernel_size, activation='relu', input_shape=image_shape))\n",
    "# model.add(MaxPooling2D((2, 2)))\n",
    "# model.add(Conv2D(64, kernel_size, activation='relu'))\n",
    "# model.add(MaxPooling2D((2, 2)))\n",
    "# model.add(Conv2D(128, kernel_size, activation='relu'))\n",
    "# model.add(MaxPooling2D((2, 2)))\n",
    "# model.add(Conv2D(256, kernel_size, activation='relu'))\n",
    "# model.add(MaxPooling2D((2, 2)))\n",
    "# model.add(Flatten())\n",
    "# model.add(Dense(512, activation='relu'))\n",
    "# model.add(Dropout(0.5))\n",
    "# model.add(Dense(13, activation='softmax'))\n",
    "\n",
    "# model.compile(loss='categorical_crossentropy',\n",
    "#               optimizer='rmsprop',\n",
    "#               metrics=['accuracy'])\n",
    "# #adam, rmsprop, sgd, "
   ]
  },
  {
   "cell_type": "code",
   "execution_count": 49,
   "metadata": {},
   "outputs": [],
   "source": [
    "model = Sequential()\n",
    "model.add(Conv2D(32, kernel_size, activation='relu', input_shape=image_shape))\n",
    "model.add(MaxPooling2D((2, 2)))\n",
    "model.add(Conv2D(64, kernel_size, activation='relu'))\n",
    "model.add(MaxPooling2D((2, 2)))\n",
    "model.add(Conv2D(128, kernel_size, activation='relu'))\n",
    "model.add(MaxPooling2D((2, 2)))\n",
    "model.add(Flatten())\n",
    "model.add(Dense(128, activation='relu'))\n",
    "model.add(Dense(13, activation='softmax'))\n",
    "\n",
    "model.compile(optimizer='rmsprop', loss='categorical_crossentropy', metrics=['accuracy'])"
   ]
  },
  {
   "cell_type": "code",
   "execution_count": 50,
   "metadata": {},
   "outputs": [
    {
     "name": "stdout",
     "output_type": "stream",
     "text": [
      "_________________________________________________________________\n",
      "Layer (type)                 Output Shape              Param #   \n",
      "=================================================================\n",
      "conv2d_34 (Conv2D)           (None, 148, 148, 32)      896       \n",
      "_________________________________________________________________\n",
      "max_pooling2d_34 (MaxPooling (None, 74, 74, 32)        0         \n",
      "_________________________________________________________________\n",
      "conv2d_35 (Conv2D)           (None, 72, 72, 64)        18496     \n",
      "_________________________________________________________________\n",
      "max_pooling2d_35 (MaxPooling (None, 36, 36, 64)        0         \n",
      "_________________________________________________________________\n",
      "conv2d_36 (Conv2D)           (None, 34, 34, 128)       73856     \n",
      "_________________________________________________________________\n",
      "max_pooling2d_36 (MaxPooling (None, 17, 17, 128)       0         \n",
      "_________________________________________________________________\n",
      "flatten_11 (Flatten)         (None, 36992)             0         \n",
      "_________________________________________________________________\n",
      "dense_21 (Dense)             (None, 128)               4735104   \n",
      "_________________________________________________________________\n",
      "dense_22 (Dense)             (None, 13)                1677      \n",
      "=================================================================\n",
      "Total params: 4,830,029\n",
      "Trainable params: 4,830,029\n",
      "Non-trainable params: 0\n",
      "_________________________________________________________________\n"
     ]
    }
   ],
   "source": [
    "model.summary()"
   ]
  },
  {
   "cell_type": "code",
   "execution_count": 51,
   "metadata": {},
   "outputs": [
    {
     "name": "stdout",
     "output_type": "stream",
     "text": [
      "Found 486 images belonging to 13 classes.\n",
      "Found 64 images belonging to 13 classes.\n"
     ]
    }
   ],
   "source": [
    "batch_size = 16\n",
    "train_image_gen = image_gen.flow_from_directory('cropped_faces/Output/train',\n",
    "                                               target_size=image_shape[:2],\n",
    "                                               batch_size=batch_size,\n",
    "                                               class_mode='categorical')\n",
    "test_image_gen = image_gen.flow_from_directory('cropped_faces/Output/val',\n",
    "                                               target_size=image_shape[:2],\n",
    "                                               batch_size=batch_size,\n",
    "                                               class_mode='categorical')"
   ]
  },
  {
   "cell_type": "code",
   "execution_count": 52,
   "metadata": {},
   "outputs": [],
   "source": [
    "import warnings\n",
    "warnings.filterwarnings('ignore')"
   ]
  },
  {
   "cell_type": "code",
   "execution_count": 53,
   "metadata": {},
   "outputs": [
    {
     "name": "stdout",
     "output_type": "stream",
     "text": [
      "Epoch 1/20\n",
      "50/50 [==============================] - 27s 535ms/step - loss: 2.5061 - acc: 0.1345 - val_loss: 2.1518 - val_acc: 0.2969\n",
      "Epoch 2/20\n",
      "50/50 [==============================] - 23s 461ms/step - loss: 1.8064 - acc: 0.4237 - val_loss: 1.5353 - val_acc: 0.5156\n",
      "Epoch 3/20\n",
      "50/50 [==============================] - 23s 455ms/step - loss: 1.4588 - acc: 0.5216 - val_loss: 1.0434 - val_acc: 0.7188\n",
      "Epoch 4/20\n",
      "50/50 [==============================] - 23s 455ms/step - loss: 1.0566 - acc: 0.6646 - val_loss: 0.8700 - val_acc: 0.7344\n",
      "Epoch 5/20\n",
      "50/50 [==============================] - 23s 456ms/step - loss: 0.8667 - acc: 0.7130 - val_loss: 0.6773 - val_acc: 0.7969\n",
      "Epoch 6/20\n",
      "50/50 [==============================] - 23s 451ms/step - loss: 0.6398 - acc: 0.8138 - val_loss: 0.3887 - val_acc: 0.8438\n",
      "Epoch 7/20\n",
      "50/50 [==============================] - 24s 473ms/step - loss: 0.6695 - acc: 0.7996 - val_loss: 0.4847 - val_acc: 0.7969\n",
      "Epoch 8/20\n",
      "50/50 [==============================] - 23s 461ms/step - loss: 0.5252 - acc: 0.8475 - val_loss: 0.5911 - val_acc: 0.7812\n",
      "Epoch 9/20\n",
      "50/50 [==============================] - 22s 447ms/step - loss: 0.4669 - acc: 0.8425 - val_loss: 0.7267 - val_acc: 0.7344\n",
      "Epoch 10/20\n",
      "50/50 [==============================] - 23s 454ms/step - loss: 0.5635 - acc: 0.8179 - val_loss: 0.3360 - val_acc: 0.9062\n",
      "Epoch 11/20\n",
      "50/50 [==============================] - 23s 462ms/step - loss: 0.4313 - acc: 0.8617 - val_loss: 0.4821 - val_acc: 0.8594\n",
      "Epoch 12/20\n",
      "50/50 [==============================] - 23s 450ms/step - loss: 0.3895 - acc: 0.8804 - val_loss: 0.2675 - val_acc: 0.9375\n",
      "Epoch 13/20\n",
      "50/50 [==============================] - 23s 465ms/step - loss: 0.3083 - acc: 0.9037 - val_loss: 0.2872 - val_acc: 0.9219\n",
      "Epoch 14/20\n",
      "50/50 [==============================] - 23s 455ms/step - loss: 0.3998 - acc: 0.8758 - val_loss: 0.1490 - val_acc: 0.9531\n",
      "Epoch 15/20\n",
      "50/50 [==============================] - 23s 456ms/step - loss: 0.2607 - acc: 0.9137 - val_loss: 0.2189 - val_acc: 0.9688\n",
      "Epoch 16/20\n",
      "50/50 [==============================] - 23s 451ms/step - loss: 0.2664 - acc: 0.9159 - val_loss: 0.2341 - val_acc: 0.9531\n",
      "Epoch 17/20\n",
      "50/50 [==============================] - 23s 457ms/step - loss: 0.1762 - acc: 0.9537 - val_loss: 0.3541 - val_acc: 0.8906\n",
      "Epoch 18/20\n",
      "50/50 [==============================] - 22s 450ms/step - loss: 0.3232 - acc: 0.8976 - val_loss: 0.1946 - val_acc: 0.9688\n",
      "Epoch 19/20\n",
      "50/50 [==============================] - 23s 459ms/step - loss: 0.2471 - acc: 0.9239 - val_loss: 0.0992 - val_acc: 0.9844\n",
      "Epoch 20/20\n",
      "50/50 [==============================] - 23s 450ms/step - loss: 0.2163 - acc: 0.9275 - val_loss: 0.4102 - val_acc: 0.8438\n"
     ]
    }
   ],
   "source": [
    "# adam 80% accuracy at 20 epochs\n",
    "# adam 87-90% accuracy at 50 epochs\n",
    "# adam 56% accuracy at 5 epochs\n",
    "# adam 94% accuracy full_picture at 20 epochs\n",
    "# rmsprop 85% at 20 epochs\n",
    "# sgd 58% at 20 epochs\n",
    "# rmsprop 4 cov2d 69% 10 epochs\n",
    "# adam 3 conv2d 84% 10 epochs\n",
    "# adam 3 conv2d 92% 20 epochs\n",
    "results = model.fit_generator(train_image_gen,epochs=20,\n",
    "                              steps_per_epoch=50,\n",
    "                              validation_data=test_image_gen,\n",
    "                             validation_steps=20)"
   ]
  },
  {
   "cell_type": "code",
   "execution_count": 54,
   "metadata": {},
   "outputs": [
    {
     "data": {
      "text/plain": [
       "[<matplotlib.lines.Line2D at 0x1e0c65c6b38>]"
      ]
     },
     "execution_count": 54,
     "metadata": {},
     "output_type": "execute_result"
    },
    {
     "data": {
      "image/png": "[encoded data removed]",
      "text/plain": [
       "<Figure size 432x288 with 1 Axes>"
      ]
     },
     "metadata": {
      "needs_background": "light"
     },
     "output_type": "display_data"
    }
   ],
   "source": [
    "plt.plot(results.history['acc'])"
   ]
  },
  {
   "cell_type": "code",
   "execution_count": 55,
   "metadata": {},
   "outputs": [],
   "source": [
    "model.save('adam_face_20epochs.h5')"
   ]
  },
  {
   "cell_type": "code",
   "execution_count": 56,
   "metadata": {},
   "outputs": [
    {
     "name": "stdout",
     "output_type": "stream",
     "text": [
      "Zhumabekov Magjan 0.99943084\n"
     ]
    }
   ],
   "source": [
    "classes = {0: 'Akhmedov Sanzhar',\n",
    " 1: 'Alikhan Zhamankhan',\n",
    " 2: 'Baibatchayeva Anar',\n",
    " 3:'Daniyar Raiymbekov',\n",
    " 4: 'Duisenov Alikhan',\n",
    " 5: 'Kenzhebay Askar',\n",
    " 6: 'Kyran Yerkin',\n",
    " 7: 'Maxat Ualikhan',\n",
    " 8: 'Naryshov Ernar',\n",
    " 9: 'Rysmambetov Nurtugan',\n",
    " 10: 'Sagynbek Nurbolat',\n",
    " 11: 'Zhetessov Nur',\n",
    " 12: 'Zhumabekov Magjan'}\n",
    "\n",
    "import numpy as np\n",
    "from keras.preprocessing import image\n",
    "\n",
    "dog_file = 'cropped_faces/Output/test/Zhumabekov Magjan/cv_40.jpg_480_106.jpg'\n",
    "\n",
    "dog_img = image.load_img(dog_file, target_size=(150, 150))\n",
    "\n",
    "dog_img = image.img_to_array(dog_img)\n",
    "\n",
    "dog_img = np.expand_dims(dog_img, axis=0)\n",
    "dog_img = dog_img/255\n",
    "prediction_prob = model.predict(dog_img)\n",
    "max_res = max(prediction_prob[0])\n",
    "max_text = str(int(max_res*100))+'%'\n",
    "i = np.where(prediction_prob[0] == max_res)\n",
    "print(classes[int(i[0])], max_res)"
   ]
  },
  {
   "cell_type": "code",
   "execution_count": null,
   "metadata": {},
   "outputs": [],
   "source": []
  }
 ],
 "metadata": {
  "kernelspec": {
   "display_name": "Python 3 (ipykernel)",
   "language": "python",
   "name": "python3"
  },
  "language_info": {
   "codemirror_mode": {
    "name": "ipython",
    "version": 3
   },
   "file_extension": ".py",
   "mimetype": "text/x-python",
   "name": "python",
   "nbconvert_exporter": "python",
   "pygments_lexer": "ipython3",
   "version": "3.10.4"
  }
 },
 "nbformat": 4,
 "nbformat_minor": 4
}
