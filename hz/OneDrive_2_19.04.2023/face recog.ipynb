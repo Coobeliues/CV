{
 "cells": [
  {
   "cell_type": "code",
   "execution_count": 8,
   "metadata": {},
   "outputs": [],
   "source": [
    "from keras.models import load_model\n",
    "from keras.preprocessing import image\n",
    "import numpy as np\n",
    "import cv2\n",
    "\n",
    "loaded_model = load_model('faсe_recog50epochs.h5')\n",
    "face_color = (0,0,255)\n",
    "thickness = 2"
   ]
  },
  {
   "cell_type": "code",
   "execution_count": 9,
   "metadata": {},
   "outputs": [],
   "source": [
    "classes = {0:'Akhmedov Sanzhar',\n",
    " 1:'Alikhan Zhamankhan',\n",
    " 2:'Baibatchayeva Anar',\n",
    " 3:'Dalabay Abylay',\n",
    " 4:'Daniyar Raiymbekov',\n",
    " 5:'Duisenov Alikhan',\n",
    " 6:'Kenzhebay Askar',\n",
    " 7:'Kyran Yerkin',\n",
    " 8:'Maxat Ualikhan',\n",
    " 9:'Naryshov Ernar',\n",
    " 10:'Rysmambetov Nurtugan',\n",
    " 11:'Sagynbek Nurbolat',\n",
    " 12:'Yerkin Yernar',\n",
    " 13:'Zhetessov Nur',\n",
    " 14:'Zhumabekov Magjan'}"
   ]
  },
  {
   "cell_type": "code",
   "execution_count": 10,
   "metadata": {},
   "outputs": [
    {
     "data": {
      "text/plain": [
       "<CascadeClassifier 000002864615E2F0>"
      ]
     },
     "execution_count": 10,
     "metadata": {},
     "output_type": "execute_result"
    }
   ],
   "source": [
    "face_cascade = cv2.CascadeClassifier('../DATA/DATA/haarcascades/haarcascade_frontalface_default.xml')\n",
    "face_cascade"
   ]
  },
  {
   "cell_type": "code",
   "execution_count": 11,
   "metadata": {},
   "outputs": [],
   "source": [
    "face_cascade = cv2.CascadeClassifier('../DATA/DATA/haarcascades/haarcascade_frontalface_default.xml')\n",
    "\n",
    "def detect(img):    \n",
    "    face_img = img.copy()\n",
    "    face_gray = cv2.cvtColor(face_img, cv2.COLOR_BGR2GRAY)\n",
    "    face_rects = face_cascade.detectMultiScale(face_gray, 1.3, 5)\n",
    "    for (x,y,w,h) in face_rects:\n",
    "        cv2.rectangle(face_img, (x,y), (x+w,y+h), face_color,thickness)  \n",
    "        res = cv2.resize(face_img, (150, 150))\n",
    "        res = image.img_to_array(res)\n",
    "        res = np.expand_dims(res, axis=0)\n",
    "        res = res/255\n",
    "        prediction_prob = loaded_model.predict(res)\n",
    "        max_res = max(prediction_prob[0])\n",
    "        max_text = str(int(max_res*100))+'%'\n",
    "        i = np.where(prediction_prob[0] == max_res)\n",
    "        cv2.putText(face_img, classes[int(i[0])], (x, y-10), cv2.FONT_HERSHEY_SIMPLEX, 0.4, face_color, 1)\n",
    "        cv2.putText(face_img, max_text, (x+10, y+20), cv2.FONT_HERSHEY_SIMPLEX, 0.4, face_color, 1)\n",
    "    return face_img"
   ]
  },
  {
   "cell_type": "code",
   "execution_count": 16,
   "metadata": {},
   "outputs": [],
   "source": [
    "cap = cv2.VideoCapture(0)\n",
    "frame_width = int(cap.get(cv2.CAP_PROP_FRAME_WIDTH))\n",
    "frame_height = int(cap.get(cv2.CAP_PROP_FRAME_HEIGHT))\n",
    "#writer = cv2.VideoWriter('project4_result.mp4', cv2.VideoWriter_fourcc(*'XVID'), 20, (frame_width, frame_height))\n",
    "cv2.namedWindow(\"video\")\n",
    "while True:\n",
    "    ret, frame = cap.read()\n",
    "    frame = cv2.flip(frame, 1)\n",
    "    canvas = frame.copy()\n",
    "    cv2.imshow('video', detect(canvas)) \n",
    "    #writer.write(detect(canvas))\n",
    "    \n",
    "    key = cv2.waitKey(1)\n",
    "    if key == ord('q'): break\n",
    "\n",
    "cap.release()\n",
    "#writer.release()\n",
    "cv2.destroyAllWindows()"
   ]
  }
 ],
 "metadata": {
  "kernelspec": {
   "display_name": "Python 3",
   "language": "python",
   "name": "python3"
  },
  "language_info": {
   "codemirror_mode": {
    "name": "ipython",
    "version": 3
   },
   "file_extension": ".py",
   "mimetype": "text/x-python",
   "name": "python",
   "nbconvert_exporter": "python",
   "pygments_lexer": "ipython3",
   "version": "3.6.6"
  }
 },
 "nbformat": 4,
 "nbformat_minor": 2
}
