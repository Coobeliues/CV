{
 "cells": [
  {
   "cell_type": "code",
   "execution_count": 1,
   "metadata": {},
   "outputs": [
    {
     "name": "stderr",
     "output_type": "stream",
     "text": [
      "Using TensorFlow backend.\n",
      "D:\\ anaconda\\envs\\python-cvcourse\\lib\\site-packages\\tensorflow\\python\\framework\\dtypes.py:523: FutureWarning: Passing (type, 1) or '1type' as a synonym of type is deprecated; in a future version of numpy, it will be understood as (type, (1,)) / '(1,)type'.\n",
      "  _np_qint8 = np.dtype([(\"qint8\", np.int8, 1)])\n",
      "D:\\ anaconda\\envs\\python-cvcourse\\lib\\site-packages\\tensorflow\\python\\framework\\dtypes.py:524: FutureWarning: Passing (type, 1) or '1type' as a synonym of type is deprecated; in a future version of numpy, it will be understood as (type, (1,)) / '(1,)type'.\n",
      "  _np_quint8 = np.dtype([(\"quint8\", np.uint8, 1)])\n",
      "D:\\ anaconda\\envs\\python-cvcourse\\lib\\site-packages\\tensorflow\\python\\framework\\dtypes.py:525: FutureWarning: Passing (type, 1) or '1type' as a synonym of type is deprecated; in a future version of numpy, it will be understood as (type, (1,)) / '(1,)type'.\n",
      "  _np_qint16 = np.dtype([(\"qint16\", np.int16, 1)])\n",
      "D:\\ anaconda\\envs\\python-cvcourse\\lib\\site-packages\\tensorflow\\python\\framework\\dtypes.py:526: FutureWarning: Passing (type, 1) or '1type' as a synonym of type is deprecated; in a future version of numpy, it will be understood as (type, (1,)) / '(1,)type'.\n",
      "  _np_quint16 = np.dtype([(\"quint16\", np.uint16, 1)])\n",
      "D:\\ anaconda\\envs\\python-cvcourse\\lib\\site-packages\\tensorflow\\python\\framework\\dtypes.py:527: FutureWarning: Passing (type, 1) or '1type' as a synonym of type is deprecated; in a future version of numpy, it will be understood as (type, (1,)) / '(1,)type'.\n",
      "  _np_qint32 = np.dtype([(\"qint32\", np.int32, 1)])\n",
      "D:\\ anaconda\\envs\\python-cvcourse\\lib\\site-packages\\tensorflow\\python\\framework\\dtypes.py:532: FutureWarning: Passing (type, 1) or '1type' as a synonym of type is deprecated; in a future version of numpy, it will be understood as (type, (1,)) / '(1,)type'.\n",
      "  np_resource = np.dtype([(\"resource\", np.ubyte, 1)])\n"
     ]
    }
   ],
   "source": [
    "import matplotlib.pyplot as plt\n",
    "import cv2\n",
    "%matplotlib inline\n",
    "from keras.models import Sequential\n",
    "from keras.layers import Activation, Dropout, Flatten, Dense, Conv2D, MaxPooling2D\n",
    "from keras.preprocessing.image import ImageDataGenerator"
   ]
  },
  {
   "cell_type": "code",
   "execution_count": 2,
   "metadata": {},
   "outputs": [],
   "source": [
    "image_gen = ImageDataGenerator(rotation_range=30, # rotate the image 30 degrees\n",
    "                               width_shift_range=0.1, # Shift the pic width by a max of 10%\n",
    "                               height_shift_range=0.1, # Shift the pic height by a max of 10%\n",
    "                               rescale=1/255, # Rescale the image by normalzing it.\n",
    "                               shear_range=0.2, # Shear means cutting away part of the image (max 20%)\n",
    "                               zoom_range=0.2, # Zoom in by 20% max\n",
    "                               horizontal_flip=True, # Allo horizontal flipping\n",
    "                               fill_mode='nearest' # Fill in missing pixels with the nearest filled value\n",
    "                              )"
   ]
  },
  {
   "cell_type": "code",
   "execution_count": 3,
   "metadata": {},
   "outputs": [],
   "source": [
    "image_shape = (150,150,3)"
   ]
  },
  {
   "cell_type": "code",
   "execution_count": 15,
   "metadata": {},
   "outputs": [],
   "source": [
    "model = Sequential()\n",
    "\n",
    "model.add(Conv2D(filters=32, kernel_size=(3,3),input_shape=image_shape, activation='relu',))\n",
    "model.add(MaxPooling2D(pool_size=(2, 2)))\n",
    "\n",
    "model.add(Conv2D(filters=64, kernel_size=(3,3),input_shape=image_shape, activation='relu',))\n",
    "model.add(MaxPooling2D(pool_size=(2, 2)))\n",
    "\n",
    "model.add(Conv2D(filters=64, kernel_size=(3,3),input_shape=image_shape, activation='relu',))\n",
    "model.add(MaxPooling2D(pool_size=(2, 2)))\n",
    "\n",
    "\n",
    "model.add(Flatten())\n",
    "\n",
    "\n",
    "model.add(Dense(128))\n",
    "model.add(Activation('relu'))\n",
    "\n",
    "# Dropouts help reduce overfitting by randomly turning neurons off during training.\n",
    "# Here we say randomly turn off 50% of neurons.\n",
    "model.add(Dropout(0.5))\n",
    "\n",
    "# 13, because we have 13 classes_faces\n",
    "model.add(Dense(15))\n",
    "model.add(Activation('softmax'))\n",
    "\n",
    "model.compile(loss='categorical_crossentropy',\n",
    "              optimizer='adam',\n",
    "              metrics=['accuracy'])"
   ]
  },
  {
   "cell_type": "code",
   "execution_count": 16,
   "metadata": {},
   "outputs": [
    {
     "name": "stdout",
     "output_type": "stream",
     "text": [
      "Found 745 images belonging to 15 classes.\n",
      "Found 221 images belonging to 15 classes.\n"
     ]
    }
   ],
   "source": [
    "batch_size = 16\n",
    "train_image_gen = image_gen.flow_from_directory('photos_train',\n",
    "                                               target_size=image_shape[:2],\n",
    "                                               batch_size=batch_size,\n",
    "                                               class_mode='categorical')\n",
    "test_image_gen = image_gen.flow_from_directory('photos_test',\n",
    "                                               target_size=image_shape[:2],\n",
    "                                               batch_size=batch_size,\n",
    "                                               class_mode='categorical')"
   ]
  },
  {
   "cell_type": "code",
   "execution_count": 17,
   "metadata": {},
   "outputs": [
    {
     "data": {
      "text/plain": [
       "{'Akhmedov Sanzhar': 0,\n",
       " 'Alikhan Zhamankhan': 1,\n",
       " 'Baibatchayeva Anar': 2,\n",
       " 'Dalabay Abylay': 3,\n",
       " 'Daniyar Raiymbekov': 4,\n",
       " 'Duisenov Alikhan': 5,\n",
       " 'Kenzhebay Askar': 6,\n",
       " 'Kyran Yerkin': 7,\n",
       " 'Maxat Ualikhan': 8,\n",
       " 'Naryshov Ernar': 9,\n",
       " 'Rysmambetov Nurtugan': 10,\n",
       " 'Sagynbek Nurbolat': 11,\n",
       " 'Yerkin Yernar': 12,\n",
       " 'Zhetessov Nur': 13,\n",
       " 'Zhumabekov Magjan': 14}"
      ]
     },
     "execution_count": 17,
     "metadata": {},
     "output_type": "execute_result"
    }
   ],
   "source": [
    "train_image_gen.class_indices"
   ]
  },
  {
   "cell_type": "code",
   "execution_count": 18,
   "metadata": {},
   "outputs": [],
   "source": [
    "import warnings\n",
    "warnings.filterwarnings('ignore')"
   ]
  },
  {
   "cell_type": "code",
   "execution_count": 19,
   "metadata": {},
   "outputs": [
    {
     "name": "stdout",
     "output_type": "stream",
     "text": [
      "Epoch 1/50\n",
      "50/50 [==============================] - 96s 2s/step - loss: 2.6482 - acc: 0.1157 - val_loss: 2.3933 - val_acc: 0.2217\n",
      "Epoch 2/50\n",
      "50/50 [==============================] - 82s 2s/step - loss: 2.1916 - acc: 0.3017 - val_loss: 1.9146 - val_acc: 0.3937\n",
      "Epoch 3/50\n",
      "50/50 [==============================] - 84s 2s/step - loss: 1.7615 - acc: 0.4523 - val_loss: 1.5623 - val_acc: 0.4932\n",
      "Epoch 4/50\n",
      "50/50 [==============================] - 110s 2s/step - loss: 1.5792 - acc: 0.5014 - val_loss: 1.4471 - val_acc: 0.4570\n",
      "Epoch 5/50\n",
      "50/50 [==============================] - 86s 2s/step - loss: 1.4359 - acc: 0.5549 - val_loss: 1.2476 - val_acc: 0.5973\n",
      "Epoch 6/50\n",
      "50/50 [==============================] - 66s 1s/step - loss: 1.3610 - acc: 0.5528 - val_loss: 1.0691 - val_acc: 0.6425\n",
      "Epoch 7/50\n",
      "50/50 [==============================] - 70s 1s/step - loss: 1.1693 - acc: 0.6188 - val_loss: 1.0770 - val_acc: 0.6244\n",
      "Epoch 8/50\n",
      "50/50 [==============================] - 88s 2s/step - loss: 1.0645 - acc: 0.6508 - val_loss: 0.7964 - val_acc: 0.7240\n",
      "Epoch 9/50\n",
      "50/50 [==============================] - 87s 2s/step - loss: 1.0048 - acc: 0.6858 - val_loss: 0.7883 - val_acc: 0.7376\n",
      "Epoch 10/50\n",
      "50/50 [==============================] - 86s 2s/step - loss: 0.9262 - acc: 0.7062 - val_loss: 0.7417 - val_acc: 0.8054\n",
      "Epoch 11/50\n",
      "50/50 [==============================] - 73s 1s/step - loss: 0.8535 - acc: 0.7290 - val_loss: 0.6927 - val_acc: 0.7738\n",
      "Epoch 12/50\n",
      "50/50 [==============================] - 80s 2s/step - loss: 0.9121 - acc: 0.6962 - val_loss: 0.5724 - val_acc: 0.8462\n",
      "Epoch 13/50\n",
      "50/50 [==============================] - 91s 2s/step - loss: 0.8001 - acc: 0.7386 - val_loss: 0.4932 - val_acc: 0.8597\n",
      "Epoch 14/50\n",
      "50/50 [==============================] - 110s 2s/step - loss: 0.7269 - acc: 0.7508 - val_loss: 0.5147 - val_acc: 0.8371\n",
      "Epoch 15/50\n",
      "50/50 [==============================] - 107s 2s/step - loss: 0.7426 - acc: 0.7515 - val_loss: 0.5102 - val_acc: 0.8326\n",
      "Epoch 16/50\n",
      "50/50 [==============================] - 105s 2s/step - loss: 0.7569 - acc: 0.7496 - val_loss: 0.6554 - val_acc: 0.7692\n",
      "Epoch 17/50\n",
      "50/50 [==============================] - 108s 2s/step - loss: 0.6682 - acc: 0.7756 - val_loss: 0.5600 - val_acc: 0.8145\n",
      "Epoch 18/50\n",
      "50/50 [==============================] - 99s 2s/step - loss: 0.7412 - acc: 0.7574 - val_loss: 0.4508 - val_acc: 0.8733\n",
      "Epoch 19/50\n",
      "50/50 [==============================] - 107s 2s/step - loss: 0.6572 - acc: 0.7762 - val_loss: 0.5155 - val_acc: 0.8190\n",
      "Epoch 20/50\n",
      "50/50 [==============================] - 98s 2s/step - loss: 0.6776 - acc: 0.7834 - val_loss: 0.3961 - val_acc: 0.8824\n",
      "Epoch 21/50\n",
      "50/50 [==============================] - 66s 1s/step - loss: 0.5690 - acc: 0.8096 - val_loss: 0.2660 - val_acc: 0.9231\n",
      "Epoch 22/50\n",
      "50/50 [==============================] - 63s 1s/step - loss: 0.5325 - acc: 0.8215 - val_loss: 0.4258 - val_acc: 0.8688\n",
      "Epoch 23/50\n",
      "50/50 [==============================] - 62s 1s/step - loss: 0.6057 - acc: 0.7855 - val_loss: 0.3367 - val_acc: 0.8733\n",
      "Epoch 24/50\n",
      "50/50 [==============================] - 61s 1s/step - loss: 0.5468 - acc: 0.8100 - val_loss: 0.3829 - val_acc: 0.8914\n",
      "Epoch 25/50\n",
      "50/50 [==============================] - 59s 1s/step - loss: 0.5867 - acc: 0.7943 - val_loss: 0.2739 - val_acc: 0.8959\n",
      "Epoch 26/50\n",
      "50/50 [==============================] - 61s 1s/step - loss: 0.5516 - acc: 0.8075 - val_loss: 0.2720 - val_acc: 0.9276\n",
      "Epoch 27/50\n",
      "50/50 [==============================] - 62s 1s/step - loss: 0.5730 - acc: 0.8290 - val_loss: 0.3601 - val_acc: 0.9140\n",
      "Epoch 28/50\n",
      "50/50 [==============================] - 61s 1s/step - loss: 0.5584 - acc: 0.8211 - val_loss: 0.3638 - val_acc: 0.8869\n",
      "Epoch 29/50\n",
      "50/50 [==============================] - 61s 1s/step - loss: 0.5095 - acc: 0.8225 - val_loss: 0.3378 - val_acc: 0.8914\n",
      "Epoch 30/50\n",
      "50/50 [==============================] - 58s 1s/step - loss: 0.4902 - acc: 0.8308 - val_loss: 0.2615 - val_acc: 0.9140\n",
      "Epoch 31/50\n",
      "50/50 [==============================] - 61s 1s/step - loss: 0.4230 - acc: 0.8562 - val_loss: 0.2620 - val_acc: 0.9050\n",
      "Epoch 32/50\n",
      "50/50 [==============================] - 57s 1s/step - loss: 0.4668 - acc: 0.8490 - val_loss: 0.3368 - val_acc: 0.8778\n",
      "Epoch 33/50\n",
      "50/50 [==============================] - 52s 1s/step - loss: 0.5181 - acc: 0.8321 - val_loss: 0.2573 - val_acc: 0.9276\n",
      "Epoch 34/50\n",
      "50/50 [==============================] - 52s 1s/step - loss: 0.3961 - acc: 0.8615 - val_loss: 0.2474 - val_acc: 0.9412\n",
      "Epoch 35/50\n",
      "50/50 [==============================] - 51s 1s/step - loss: 0.4222 - acc: 0.8671 - val_loss: 0.2317 - val_acc: 0.9367\n",
      "Epoch 36/50\n",
      "50/50 [==============================] - 52s 1s/step - loss: 0.4742 - acc: 0.8481 - val_loss: 0.2700 - val_acc: 0.9140\n",
      "Epoch 37/50\n",
      "50/50 [==============================] - 51s 1s/step - loss: 0.3874 - acc: 0.8625 - val_loss: 0.1722 - val_acc: 0.9502\n",
      "Epoch 38/50\n",
      "50/50 [==============================] - 51s 1s/step - loss: 0.3801 - acc: 0.8699 - val_loss: 0.1702 - val_acc: 0.9457\n",
      "Epoch 39/50\n",
      "50/50 [==============================] - 54s 1s/step - loss: 0.4822 - acc: 0.8287 - val_loss: 0.1980 - val_acc: 0.9367\n",
      "Epoch 40/50\n",
      "50/50 [==============================] - 53s 1s/step - loss: 0.3979 - acc: 0.8662 - val_loss: 0.1898 - val_acc: 0.9548\n",
      "Epoch 41/50\n",
      "50/50 [==============================] - 53s 1s/step - loss: 0.3421 - acc: 0.8906 - val_loss: 0.1993 - val_acc: 0.9321\n",
      "Epoch 42/50\n",
      "50/50 [==============================] - 56s 1s/step - loss: 0.4359 - acc: 0.8615 - val_loss: 0.2175 - val_acc: 0.9140\n",
      "Epoch 43/50\n",
      "50/50 [==============================] - 54s 1s/step - loss: 0.4144 - acc: 0.8521 - val_loss: 0.1914 - val_acc: 0.9231\n",
      "Epoch 44/50\n",
      "50/50 [==============================] - 55s 1s/step - loss: 0.3687 - acc: 0.8628 - val_loss: 0.2474 - val_acc: 0.9095\n",
      "Epoch 45/50\n",
      "50/50 [==============================] - 54s 1s/step - loss: 0.4379 - acc: 0.8537 - val_loss: 0.3038 - val_acc: 0.8869\n",
      "Epoch 46/50\n",
      "50/50 [==============================] - 51s 1s/step - loss: 0.3936 - acc: 0.8568 - val_loss: 0.2125 - val_acc: 0.9231\n",
      "Epoch 47/50\n",
      "50/50 [==============================] - 52s 1s/step - loss: 0.3456 - acc: 0.8803 - val_loss: 0.2049 - val_acc: 0.9367\n",
      "Epoch 48/50\n",
      "50/50 [==============================] - 51s 1s/step - loss: 0.3249 - acc: 0.8837 - val_loss: 0.1497 - val_acc: 0.9729\n",
      "Epoch 49/50\n",
      "50/50 [==============================] - 51s 1s/step - loss: 0.2920 - acc: 0.8965 - val_loss: 0.1209 - val_acc: 0.9548\n",
      "Epoch 50/50\n",
      "50/50 [==============================] - 52s 1s/step - loss: 0.3388 - acc: 0.8838 - val_loss: 0.1422 - val_acc: 0.9367\n"
     ]
    }
   ],
   "source": [
    "# 80% accuracy at 20 epochs\n",
    "# 87% accuracy at 50 epochs\n",
    "# 56% accuracy at 5 epochs\n",
    "results = model.fit_generator(train_image_gen,epochs=50,\n",
    "                              steps_per_epoch=50,\n",
    "                              validation_data=test_image_gen,\n",
    "                             validation_steps=13)"
   ]
  },
  {
   "cell_type": "code",
   "execution_count": 20,
   "metadata": {},
   "outputs": [
    {
     "data": {
      "text/plain": [
       "[<matplotlib.lines.Line2D at 0x1ca17610c18>]"
      ]
     },
     "execution_count": 20,
     "metadata": {},
     "output_type": "execute_result"
    },
    {
     "data": {
      "image/png": "[encoded data removed]",
      "text/plain": [
       "<Figure size 432x288 with 1 Axes>"
      ]
     },
     "metadata": {
      "needs_background": "light"
     },
     "output_type": "display_data"
    }
   ],
   "source": [
    "plt.plot(results.history['acc'])"
   ]
  },
  {
   "cell_type": "code",
   "execution_count": 21,
   "metadata": {},
   "outputs": [],
   "source": [
    "model.save('faсe_recog50epochs.h5')"
   ]
  }
 ],
 "metadata": {
  "kernelspec": {
   "display_name": "Python 3 (ipykernel)",
   "language": "python",
   "name": "python3"
  },
  "language_info": {
   "codemirror_mode": {
    "name": "ipython",
    "version": 3
   },
   "file_extension": ".py",
   "mimetype": "text/x-python",
   "name": "python",
   "nbconvert_exporter": "python",
   "pygments_lexer": "ipython3",
   "version": "3.10.4"
  }
 },
 "nbformat": 4,
 "nbformat_minor": 4
}
