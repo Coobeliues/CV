{
 "cells": [
  {
   "cell_type": "code",
   "execution_count": 2,
   "id": "5252d068-5021-4ef7-ac74-9492ad0e9797",
   "metadata": {
    "tags": []
   },
   "outputs": [
    {
     "name": "stdout",
     "output_type": "stream",
     "text": [
      "Requirement already satisfied: pip in c:\\users\\nitro5\\appdata\\local\\programs\\python\\python310\\lib\\site-packages (23.0.1)\n",
      "Collecting pip\n",
      "  Downloading pip-23.1-py3-none-any.whl (2.1 MB)\n",
      "     ---------------------------------------- 0.0/2.1 MB ? eta -:--:--\n",
      "      --------------------------------------- 0.0/2.1 MB 1.3 MB/s eta 0:00:02\n",
      "      --------------------------------------- 0.0/2.1 MB 1.3 MB/s eta 0:00:02\n",
      "     - -------------------------------------- 0.1/2.1 MB 469.7 kB/s eta 0:00:05\n",
      "     - -------------------------------------- 0.1/2.1 MB 469.7 kB/s eta 0:00:05\n",
      "     - -------------------------------------- 0.1/2.1 MB 469.7 kB/s eta 0:00:05\n",
      "     - -------------------------------------- 0.1/2.1 MB 469.7 kB/s eta 0:00:05\n",
      "     - -------------------------------------- 0.1/2.1 MB 275.8 kB/s eta 0:00:08\n",
      "     -- ------------------------------------- 0.1/2.1 MB 297.7 kB/s eta 0:00:07\n",
      "     -- ------------------------------------- 0.1/2.1 MB 313.8 kB/s eta 0:00:07\n",
      "     --- ------------------------------------ 0.2/2.1 MB 364.0 kB/s eta 0:00:06\n",
      "     ---- ----------------------------------- 0.2/2.1 MB 444.3 kB/s eta 0:00:05\n",
      "     ---- ----------------------------------- 0.3/2.1 MB 462.8 kB/s eta 0:00:04\n",
      "     ----- ---------------------------------- 0.3/2.1 MB 478.3 kB/s eta 0:00:04\n",
      "     ------ --------------------------------- 0.3/2.1 MB 524.3 kB/s eta 0:00:04\n",
      "     ------ --------------------------------- 0.4/2.1 MB 530.7 kB/s eta 0:00:04\n",
      "     ------- -------------------------------- 0.4/2.1 MB 555.4 kB/s eta 0:00:03\n",
      "     -------- ------------------------------- 0.4/2.1 MB 558.0 kB/s eta 0:00:03\n",
      "     --------- ------------------------------ 0.5/2.1 MB 592.7 kB/s eta 0:00:03\n",
      "     ---------- ----------------------------- 0.6/2.1 MB 643.0 kB/s eta 0:00:03\n",
      "     ----------- ---------------------------- 0.6/2.1 MB 643.6 kB/s eta 0:00:03\n",
      "     ------------ --------------------------- 0.6/2.1 MB 666.2 kB/s eta 0:00:03\n",
      "     ------------- -------------------------- 0.7/2.1 MB 676.4 kB/s eta 0:00:03\n",
      "     -------------- ------------------------- 0.8/2.1 MB 725.0 kB/s eta 0:00:02\n",
      "     --------------- ------------------------ 0.8/2.1 MB 752.1 kB/s eta 0:00:02\n",
      "     ---------------- ----------------------- 0.9/2.1 MB 764.6 kB/s eta 0:00:02\n",
      "     ----------------- ---------------------- 0.9/2.1 MB 767.8 kB/s eta 0:00:02\n",
      "     ------------------ --------------------- 1.0/2.1 MB 780.0 kB/s eta 0:00:02\n",
      "     ------------------- -------------------- 1.0/2.1 MB 776.5 kB/s eta 0:00:02\n",
      "     ------------------- -------------------- 1.0/2.1 MB 776.5 kB/s eta 0:00:02\n",
      "     ------------------- -------------------- 1.0/2.1 MB 737.3 kB/s eta 0:00:02\n",
      "     --------------------- ------------------ 1.1/2.1 MB 756.1 kB/s eta 0:00:02\n",
      "     --------------------- ------------------ 1.1/2.1 MB 761.1 kB/s eta 0:00:02\n",
      "     ---------------------- ----------------- 1.2/2.1 MB 764.6 kB/s eta 0:00:02\n",
      "     ----------------------- ---------------- 1.2/2.1 MB 753.9 kB/s eta 0:00:02\n",
      "     ------------------------ --------------- 1.2/2.1 MB 770.1 kB/s eta 0:00:02\n",
      "     ------------------------- -------------- 1.3/2.1 MB 779.1 kB/s eta 0:00:01\n",
      "     ------------------------- -------------- 1.3/2.1 MB 783.0 kB/s eta 0:00:01\n",
      "     -------------------------- ------------- 1.4/2.1 MB 784.1 kB/s eta 0:00:01\n",
      "     --------------------------- ------------ 1.4/2.1 MB 780.7 kB/s eta 0:00:01\n",
      "     ---------------------------- ----------- 1.5/2.1 MB 788.5 kB/s eta 0:00:01\n",
      "     ---------------------------- ----------- 1.5/2.1 MB 785.2 kB/s eta 0:00:01\n",
      "     ------------------------------ --------- 1.6/2.1 MB 803.6 kB/s eta 0:00:01\n",
      "     ------------------------------- -------- 1.6/2.1 MB 811.3 kB/s eta 0:00:01\n",
      "     ------------------------------- -------- 1.6/2.1 MB 802.5 kB/s eta 0:00:01\n",
      "     -------------------------------- ------- 1.7/2.1 MB 803.2 kB/s eta 0:00:01\n",
      "     --------------------------------- ------ 1.7/2.1 MB 815.7 kB/s eta 0:00:01\n",
      "     --------------------------------- ------ 1.7/2.1 MB 808.3 kB/s eta 0:00:01\n",
      "     ---------------------------------- ----- 1.8/2.1 MB 808.8 kB/s eta 0:00:01\n",
      "     ----------------------------------- ---- 1.9/2.1 MB 813.4 kB/s eta 0:00:01\n",
      "     ------------------------------------ --- 1.9/2.1 MB 806.1 kB/s eta 0:00:01\n",
      "     ------------------------------------ --- 1.9/2.1 MB 798.7 kB/s eta 0:00:01\n",
      "     ------------------------------------ --- 1.9/2.1 MB 798.7 kB/s eta 0:00:01\n",
      "     ------------------------------------ --- 1.9/2.1 MB 798.7 kB/s eta 0:00:01\n",
      "     ------------------------------------- -- 1.9/2.1 MB 766.0 kB/s eta 0:00:01\n",
      "     -------------------------------------- - 2.0/2.1 MB 771.9 kB/s eta 0:00:01\n",
      "     -------------------------------------- - 2.0/2.1 MB 765.8 kB/s eta 0:00:01\n",
      "     ---------------------------------------  2.0/2.1 MB 772.4 kB/s eta 0:00:01\n",
      "     ---------------------------------------  2.1/2.1 MB 775.5 kB/s eta 0:00:01\n",
      "     ---------------------------------------- 2.1/2.1 MB 764.5 kB/s eta 0:00:00\n",
      "Installing collected packages: pip\n",
      "  Attempting uninstall: pip\n",
      "    Found existing installation: pip 23.0.1\n",
      "    Uninstalling pip-23.0.1:\n",
      "      Successfully uninstalled pip-23.0.1\n",
      "Successfully installed pip-23.1\n"
     ]
    },
    {
     "name": "stderr",
     "output_type": "stream",
     "text": [
      "ERROR: Invalid requirement: '#YOLOv5'\n"
     ]
    }
   ],
   "source": [
    "# !python -m pip install --upgrade pip\n",
    "\n",
    "# !pip install torch  #YOLOv5 runs on top of PyTorch, so we need to import it to the notebook\n"
   ]
  },
  {
   "cell_type": "code",
   "execution_count": 1,
   "id": "ed1e1936-7b1c-496c-b1d2-27ca8e47ab62",
   "metadata": {
    "tags": []
   },
   "outputs": [],
   "source": [
    "# !pip install torch\n",
    "import torch # YOLOv5 implemented using pytorch\n"
   ]
  },
  {
   "cell_type": "code",
   "execution_count": 2,
   "id": "635e43f1-628c-4d54-b234-643170bb86aa",
   "metadata": {
    "tags": []
   },
   "outputs": [],
   "source": [
    "from IPython.display import Image #this is to render predictions\n"
   ]
  },
  {
   "cell_type": "code",
   "execution_count": 3,
   "id": "ae25dc20-34c8-44b7-81c3-3bc210cda0fd",
   "metadata": {},
   "outputs": [
    {
     "name": "stderr",
     "output_type": "stream",
     "text": [
      "Cloning into 'yolov5'...\n"
     ]
    }
   ],
   "source": [
    "!git clone https://github.com/ultralytics/yolov5\n"
   ]
  },
  {
   "cell_type": "code",
   "execution_count": 4,
   "id": "77c633f2-7516-4b4e-b5ce-0678917af6fb",
   "metadata": {},
   "outputs": [
    {
     "name": "stdout",
     "output_type": "stream",
     "text": [
      "C:\\Users\\Nitro5\\OneDrive - АО Казахстанско-Британский Технический Университет\\Рабочий стол\\comp and deep\\yolov4\\yolov5\n"
     ]
    }
   ],
   "source": [
    "%cd yolov5\n"
   ]
  },
  {
   "cell_type": "code",
   "execution_count": 5,
   "id": "f542112f-0079-4fe5-98ce-75b07d066567",
   "metadata": {},
   "outputs": [
    {
     "name": "stdout",
     "output_type": "stream",
     "text": [
      "Collecting gitpython>=3.1.30 (from -r requirements.txt (line 5))\n",
      "  Using cached GitPython-3.1.31-py3-none-any.whl (184 kB)\n",
      "Requirement already satisfied: matplotlib>=3.3 in c:\\users\\nitro5\\appdata\\local\\programs\\python\\python310\\lib\\site-packages (from -r requirements.txt (line 6)) (3.7.1)\n",
      "Requirement already satisfied: numpy>=1.18.5 in c:\\users\\nitro5\\appdata\\local\\programs\\python\\python310\\lib\\site-packages (from -r requirements.txt (line 7)) (1.23.5)\n",
      "Requirement already satisfied: opencv-python>=4.1.1 in c:\\users\\nitro5\\appdata\\local\\programs\\python\\python310\\lib\\site-packages (from -r requirements.txt (line 8)) (4.7.0.72)\n",
      "Requirement already satisfied: Pillow>=7.1.2 in c:\\users\\nitro5\\appdata\\local\\programs\\python\\python310\\lib\\site-packages (from -r requirements.txt (line 9)) (9.1.0)\n",
      "Requirement already satisfied: psutil in c:\\users\\nitro5\\appdata\\local\\programs\\python\\python310\\lib\\site-packages (from -r requirements.txt (line 10)) (5.9.4)\n",
      "Requirement already satisfied: PyYAML>=5.3.1 in c:\\users\\nitro5\\appdata\\local\\programs\\python\\python310\\lib\\site-packages (from -r requirements.txt (line 11)) (6.0)\n",
      "Requirement already satisfied: requests>=2.23.0 in c:\\users\\nitro5\\appdata\\local\\programs\\python\\python310\\lib\\site-packages (from -r requirements.txt (line 12)) (2.28.2)\n",
      "Requirement already satisfied: scipy>=1.4.1 in c:\\users\\nitro5\\appdata\\local\\programs\\python\\python310\\lib\\site-packages (from -r requirements.txt (line 13)) (1.10.1)\n",
      "Collecting thop>=0.1.1 (from -r requirements.txt (line 14))\n",
      "  Downloading thop-0.1.1.post2209072238-py3-none-any.whl (15 kB)\n",
      "Requirement already satisfied: torch>=1.7.0 in c:\\users\\nitro5\\appdata\\local\\programs\\python\\python310\\lib\\site-packages (from -r requirements.txt (line 15)) (2.0.0)\n",
      "Collecting torchvision>=0.8.1 (from -r requirements.txt (line 16))\n",
      "  Downloading torchvision-0.15.1-cp310-cp310-win_amd64.whl (1.2 MB)\n",
      "                                              0.0/1.2 MB ? eta -:--:--\n",
      "     -                                        0.0/1.2 MB 660.6 kB/s eta 0:00:02\n",
      "     -                                        0.0/1.2 MB 660.6 kB/s eta 0:00:02\n",
      "     ---                                      0.1/1.2 MB 655.4 kB/s eta 0:00:02\n",
      "     ---                                      0.1/1.2 MB 819.2 kB/s eta 0:00:02\n",
      "     -------                                  0.2/1.2 MB 986.4 kB/s eta 0:00:01\n",
      "     --------                                 0.2/1.2 MB 1.1 MB/s eta 0:00:01\n",
      "     -----------                              0.4/1.2 MB 1.1 MB/s eta 0:00:01\n",
      "     ------------                             0.4/1.2 MB 1.1 MB/s eta 0:00:01\n",
      "     ----------------                         0.5/1.2 MB 1.2 MB/s eta 0:00:01\n",
      "     --------------------                     0.6/1.2 MB 1.5 MB/s eta 0:00:01\n",
      "     ----------------------------             0.9/1.2 MB 1.7 MB/s eta 0:00:01\n",
      "     ---------------------------------------  1.2/1.2 MB 2.2 MB/s eta 0:00:01\n",
      "     ---------------------------------------- 1.2/1.2 MB 2.1 MB/s eta 0:00:00\n",
      "Requirement already satisfied: tqdm>=4.64.0 in c:\\users\\nitro5\\appdata\\local\\programs\\python\\python310\\lib\\site-packages (from -r requirements.txt (line 17)) (4.65.0)\n",
      "Requirement already satisfied: pandas>=1.1.4 in c:\\users\\nitro5\\appdata\\local\\programs\\python\\python310\\lib\\site-packages (from -r requirements.txt (line 26)) (2.0.0)\n",
      "Collecting seaborn>=0.11.0 (from -r requirements.txt (line 27))\n",
      "  Downloading seaborn-0.12.2-py3-none-any.whl (293 kB)\n",
      "                                              0.0/293.3 kB ? eta -:--:--\n",
      "     -------------------------------------  286.7/293.3 kB 8.9 MB/s eta 0:00:01\n",
      "     -------------------------------------- 293.3/293.3 kB 6.0 MB/s eta 0:00:00\n",
      "Collecting setuptools>=65.5.1 (from -r requirements.txt (line 41))\n",
      "  Using cached setuptools-67.6.1-py3-none-any.whl (1.1 MB)\n",
      "Collecting gitdb<5,>=4.0.1 (from gitpython>=3.1.30->-r requirements.txt (line 5))\n",
      "  Using cached gitdb-4.0.10-py3-none-any.whl (62 kB)\n",
      "Requirement already satisfied: contourpy>=1.0.1 in c:\\users\\nitro5\\appdata\\local\\programs\\python\\python310\\lib\\site-packages (from matplotlib>=3.3->-r requirements.txt (line 6)) (1.0.7)\n",
      "Requirement already satisfied: cycler>=0.10 in c:\\users\\nitro5\\appdata\\local\\programs\\python\\python310\\lib\\site-packages (from matplotlib>=3.3->-r requirements.txt (line 6)) (0.11.0)\n",
      "Requirement already satisfied: fonttools>=4.22.0 in c:\\users\\nitro5\\appdata\\local\\programs\\python\\python310\\lib\\site-packages (from matplotlib>=3.3->-r requirements.txt (line 6)) (4.39.0)\n",
      "Requirement already satisfied: kiwisolver>=1.0.1 in c:\\users\\nitro5\\appdata\\local\\programs\\python\\python310\\lib\\site-packages (from matplotlib>=3.3->-r requirements.txt (line 6)) (1.4.4)\n",
      "Requirement already satisfied: packaging>=20.0 in c:\\users\\nitro5\\appdata\\local\\programs\\python\\python310\\lib\\site-packages (from matplotlib>=3.3->-r requirements.txt (line 6)) (23.0)\n",
      "Requirement already satisfied: pyparsing>=2.3.1 in c:\\users\\nitro5\\appdata\\local\\programs\\python\\python310\\lib\\site-packages (from matplotlib>=3.3->-r requirements.txt (line 6)) (3.0.9)\n",
      "Requirement already satisfied: python-dateutil>=2.7 in c:\\users\\nitro5\\appdata\\local\\programs\\python\\python310\\lib\\site-packages (from matplotlib>=3.3->-r requirements.txt (line 6)) (2.8.2)\n",
      "Requirement already satisfied: charset-normalizer<4,>=2 in c:\\users\\nitro5\\appdata\\local\\programs\\python\\python310\\lib\\site-packages (from requests>=2.23.0->-r requirements.txt (line 12)) (2.0.12)\n",
      "Requirement already satisfied: idna<4,>=2.5 in c:\\users\\nitro5\\appdata\\local\\programs\\python\\python310\\lib\\site-packages (from requests>=2.23.0->-r requirements.txt (line 12)) (3.3)\n",
      "Requirement already satisfied: urllib3<1.27,>=1.21.1 in c:\\users\\nitro5\\appdata\\local\\programs\\python\\python310\\lib\\site-packages (from requests>=2.23.0->-r requirements.txt (line 12)) (1.26.9)\n",
      "Requirement already satisfied: certifi>=2017.4.17 in c:\\users\\nitro5\\appdata\\local\\programs\\python\\python310\\lib\\site-packages (from requests>=2.23.0->-r requirements.txt (line 12)) (2021.10.8)\n",
      "Requirement already satisfied: filelock in c:\\users\\nitro5\\appdata\\local\\programs\\python\\python310\\lib\\site-packages (from torch>=1.7.0->-r requirements.txt (line 15)) (3.12.0)\n",
      "Requirement already satisfied: typing-extensions in c:\\users\\nitro5\\appdata\\local\\programs\\python\\python310\\lib\\site-packages (from torch>=1.7.0->-r requirements.txt (line 15)) (4.5.0)\n",
      "Requirement already satisfied: sympy in c:\\users\\nitro5\\appdata\\local\\programs\\python\\python310\\lib\\site-packages (from torch>=1.7.0->-r requirements.txt (line 15)) (1.11.1)\n",
      "Requirement already satisfied: networkx in c:\\users\\nitro5\\appdata\\local\\programs\\python\\python310\\lib\\site-packages (from torch>=1.7.0->-r requirements.txt (line 15)) (3.1)\n",
      "Requirement already satisfied: jinja2 in c:\\users\\nitro5\\appdata\\local\\programs\\python\\python310\\lib\\site-packages (from torch>=1.7.0->-r requirements.txt (line 15)) (3.1.2)\n",
      "Requirement already satisfied: colorama in c:\\users\\nitro5\\appdata\\local\\programs\\python\\python310\\lib\\site-packages (from tqdm>=4.64.0->-r requirements.txt (line 17)) (0.4.6)\n",
      "Requirement already satisfied: pytz>=2020.1 in c:\\users\\nitro5\\appdata\\local\\programs\\python\\python310\\lib\\site-packages (from pandas>=1.1.4->-r requirements.txt (line 26)) (2021.1)\n",
      "Requirement already satisfied: tzdata>=2022.1 in c:\\users\\nitro5\\appdata\\local\\programs\\python\\python310\\lib\\site-packages (from pandas>=1.1.4->-r requirements.txt (line 26)) (2023.3)\n",
      "Collecting smmap<6,>=3.0.1 (from gitdb<5,>=4.0.1->gitpython>=3.1.30->-r requirements.txt (line 5))\n",
      "  Using cached smmap-5.0.0-py3-none-any.whl (24 kB)\n",
      "Requirement already satisfied: six>=1.5 in c:\\users\\nitro5\\appdata\\local\\programs\\python\\python310\\lib\\site-packages (from python-dateutil>=2.7->matplotlib>=3.3->-r requirements.txt (line 6)) (1.16.0)\n",
      "Requirement already satisfied: MarkupSafe>=2.0 in c:\\users\\nitro5\\appdata\\local\\programs\\python\\python310\\lib\\site-packages (from jinja2->torch>=1.7.0->-r requirements.txt (line 15)) (2.1.2)\n",
      "Requirement already satisfied: mpmath>=0.19 in c:\\users\\nitro5\\appdata\\local\\programs\\python\\python310\\lib\\site-packages (from sympy->torch>=1.7.0->-r requirements.txt (line 15)) (1.3.0)\n",
      "Installing collected packages: smmap, setuptools, gitdb, torchvision, thop, seaborn, gitpython\n",
      "  Attempting uninstall: setuptools\n",
      "    Found existing installation: setuptools 58.1.0\n",
      "    Uninstalling setuptools-58.1.0:\n",
      "      Successfully uninstalled setuptools-58.1.0\n",
      "Successfully installed gitdb-4.0.10 gitpython-3.1.31 seaborn-0.12.2 setuptools-67.6.1 smmap-5.0.0 thop-0.1.1.post2209072238 torchvision-0.15.1\n"
     ]
    }
   ],
   "source": [
    "!pip install -r requirements.txt\n"
   ]
  },
  {
   "cell_type": "code",
   "execution_count": 6,
   "id": "23dea5f9-8273-4c41-bedc-084cfb0254de",
   "metadata": {},
   "outputs": [
    {
     "ename": "FileNotFoundError",
     "evalue": "[WinError 3] Системе не удается найти указанный путь: 'D:/yolov5_traffic_sign_detection/data/ts/'",
     "output_type": "error",
     "traceback": [
      "\u001b[1;31m---------------------------------------------------------------------------\u001b[0m",
      "\u001b[1;31mFileNotFoundError\u001b[0m                         Traceback (most recent call last)",
      "Cell \u001b[1;32mIn[6], line 20\u001b[0m\n\u001b[0;32m     16\u001b[0m val_ratio \u001b[38;5;241m=\u001b[39m \u001b[38;5;241m0.2\u001b[39m\n\u001b[0;32m     19\u001b[0m \u001b[38;5;66;03m#total count of imgs\u001b[39;00m\n\u001b[1;32m---> 20\u001b[0m totalImgCount \u001b[38;5;241m=\u001b[39m \u001b[38;5;28mlen\u001b[39m(\u001b[43mos\u001b[49m\u001b[38;5;241;43m.\u001b[39;49m\u001b[43mlistdir\u001b[49m\u001b[43m(\u001b[49m\u001b[43mcrsPath\u001b[49m\u001b[43m)\u001b[49m)\u001b[38;5;241m/\u001b[39m\u001b[38;5;241m2\u001b[39m\n\u001b[0;32m     22\u001b[0m \u001b[38;5;66;03m#soring files to corresponding arrays\u001b[39;00m\n\u001b[0;32m     23\u001b[0m \u001b[38;5;28;01mfor\u001b[39;00m (dirname, dirs, files) \u001b[38;5;129;01min\u001b[39;00m os\u001b[38;5;241m.\u001b[39mwalk(crsPath):\n",
      "\u001b[1;31mFileNotFoundError\u001b[0m: [WinError 3] Системе не удается найти указанный путь: 'D:/yolov5_traffic_sign_detection/data/ts/'"
     ]
    }
   ],
   "source": [
    "import os\n",
    "from random import choice\n",
    "import shutil\n",
    "\n",
    "#arrays to store file names\n",
    "imgs =[]\n",
    "xmls =[]\n",
    "\n",
    "#setup dir names\n",
    "trainPath = 'D:/yolov5_traffic_sign_detection/dataset/images/train'\n",
    "valPath = 'D:/yolov5_traffic_sign_detection/dataset/images/val'\n",
    "crsPath = 'D:/yolov5_traffic_sign_detection/data/ts/' #dir where images and annotations stored\n",
    "\n",
    "#setup ratio (val ratio = rest of the files in origin dir after splitting into train and test)\n",
    "train_ratio = 0.8\n",
    "val_ratio = 0.2\n",
    "\n",
    "\n",
    "#total count of imgs\n",
    "totalImgCount = len(os.listdir(crsPath))/2\n",
    "\n",
    "#soring files to corresponding arrays\n",
    "for (dirname, dirs, files) in os.walk(crsPath):\n",
    "    for filename in files:\n",
    "        if filename.endswith('.txt'):\n",
    "            xmls.append(filename)\n",
    "        else:\n",
    "            imgs.append(filename)\n",
    "\n",
    "\n",
    "#counting range for cycles\n",
    "countForTrain = int(len(imgs)*train_ratio)\n",
    "countForVal = int(len(imgs)*val_ratio)\n",
    "print(\"training images are : \",countForTrain)\n",
    "print(\"Validation images are : \",countForVal)"
   ]
  }
 ],
 "metadata": {
  "kernelspec": {
   "display_name": "Python 3 (ipykernel)",
   "language": "python",
   "name": "python3"
  },
  "language_info": {
   "codemirror_mode": {
    "name": "ipython",
    "version": 3
   },
   "file_extension": ".py",
   "mimetype": "text/x-python",
   "name": "python",
   "nbconvert_exporter": "python",
   "pygments_lexer": "ipython3",
   "version": "3.10.4"
  }
 },
 "nbformat": 4,
 "nbformat_minor": 5
}
