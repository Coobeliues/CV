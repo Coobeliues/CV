{
 "cells": [
  {
   "cell_type": "code",
   "execution_count": 1,
   "id": "6d0941ae-c8df-40d1-b509-e9ccd4c900c7",
   "metadata": {
    "tags": []
   },
   "outputs": [
    {
     "name": "stderr",
     "output_type": "stream",
     "text": [
      "Cloning into 'darknet'...\n",
      "Updating files:  29% (609/2058)\n",
      "Updating files:  30% (618/2058)\n",
      "Updating files:  31% (638/2058)\n",
      "Updating files:  32% (659/2058)\n",
      "Updating files:  33% (680/2058)\n",
      "Updating files:  34% (700/2058)\n",
      "Updating files:  35% (721/2058)\n",
      "Updating files:  36% (741/2058)\n",
      "Updating files:  37% (762/2058)\n",
      "Updating files:  38% (783/2058)\n",
      "Updating files:  39% (803/2058)\n",
      "Updating files:  40% (824/2058)\n",
      "Updating files:  41% (844/2058)\n",
      "Updating files:  42% (865/2058)\n",
      "Updating files:  43% (885/2058)\n",
      "Updating files:  44% (906/2058)\n",
      "Updating files:  45% (927/2058)\n",
      "Updating files:  46% (947/2058)\n",
      "Updating files:  47% (968/2058)\n",
      "Updating files:  48% (988/2058)\n",
      "Updating files:  49% (1009/2058)\n",
      "Updating files:  50% (1029/2058)\n",
      "Updating files:  51% (1050/2058)\n",
      "Updating files:  52% (1071/2058)\n",
      "Updating files:  53% (1091/2058)\n",
      "Updating files:  54% (1112/2058)\n",
      "Updating files:  55% (1132/2058)\n",
      "Updating files:  56% (1153/2058)\n",
      "Updating files:  57% (1174/2058)\n",
      "Updating files:  58% (1194/2058)\n",
      "Updating files:  59% (1215/2058)\n",
      "Updating files:  60% (1235/2058)\n",
      "Updating files:  61% (1256/2058)\n",
      "Updating files:  62% (1276/2058)\n",
      "Updating files:  62% (1283/2058)\n",
      "Updating files:  63% (1297/2058)\n",
      "Updating files:  64% (1318/2058)\n",
      "Updating files:  65% (1338/2058)\n",
      "Updating files:  66% (1359/2058)\n",
      "Updating files:  67% (1379/2058)\n",
      "Updating files:  68% (1400/2058)\n",
      "Updating files:  69% (1421/2058)\n",
      "Updating files:  70% (1441/2058)\n",
      "Updating files:  71% (1462/2058)\n",
      "Updating files:  72% (1482/2058)\n",
      "Updating files:  73% (1503/2058)\n",
      "Updating files:  74% (1523/2058)\n",
      "Updating files:  75% (1544/2058)\n",
      "Updating files:  76% (1565/2058)\n",
      "Updating files:  77% (1585/2058)\n",
      "Updating files:  78% (1606/2058)\n",
      "Updating files:  79% (1626/2058)\n",
      "Updating files:  80% (1647/2058)\n",
      "Updating files:  81% (1667/2058)\n",
      "Updating files:  82% (1688/2058)\n",
      "Updating files:  83% (1709/2058)\n",
      "Updating files:  84% (1729/2058)\n",
      "Updating files:  85% (1750/2058)\n",
      "Updating files:  86% (1770/2058)\n",
      "Updating files:  87% (1791/2058)\n",
      "Updating files:  88% (1812/2058)\n",
      "Updating files:  89% (1832/2058)\n",
      "Updating files:  90% (1853/2058)\n",
      "Updating files:  91% (1873/2058)\n",
      "Updating files:  92% (1894/2058)\n",
      "Updating files:  92% (1897/2058)\n",
      "Updating files:  93% (1914/2058)\n",
      "Updating files:  94% (1935/2058)\n",
      "Updating files:  95% (1956/2058)\n",
      "Updating files:  96% (1976/2058)\n",
      "Updating files:  97% (1997/2058)\n",
      "Updating files:  98% (2017/2058)\n",
      "Updating files:  99% (2038/2058)\n",
      "Updating files: 100% (2058/2058)\n",
      "Updating files: 100% (2058/2058), done.\n"
     ]
    }
   ],
   "source": [
    "!git clone https://github.com/AlexeyAB/darknet.git\n"
   ]
  }
 ],
 "metadata": {
  "kernelspec": {
   "display_name": "Python 3 (ipykernel)",
   "language": "python",
   "name": "python3"
  },
  "language_info": {
   "codemirror_mode": {
    "name": "ipython",
    "version": 3
   },
   "file_extension": ".py",
   "mimetype": "text/x-python",
   "name": "python",
   "nbconvert_exporter": "python",
   "pygments_lexer": "ipython3",
   "version": "3.10.4"
  }
 },
 "nbformat": 4,
 "nbformat_minor": 5
}
