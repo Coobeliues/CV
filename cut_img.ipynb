{
 "cells": [
  {
   "cell_type": "code",
   "execution_count": null,
   "id": "b5360b4c-aa3b-4719-af17-518eae39f785",
   "metadata": {},
   "outputs": [],
   "source": [
    "import cv2\n",
    "import os\n",
    "from PIL import Image\n",
    "import numpy as np\n",
    "\n",
    "\n",
    "# Загрузка каскада Хаара для обнаружения лиц\n",
    "face_cascade = cv2.CascadeClassifier('../../DATA/haarcascades/haarcascade_frontalface_default.xml')\n",
    "\n",
    "# Папка с исходными изображениями\n",
    "input_folder = '../../фото/train/Kyran Yerkin/'\n",
    "\n",
    "# Папка для сохранения обрезанных изображений\n",
    "output_folder = 'Kyran Yerkin'\n",
    "\n",
    "# Создаем выходную папку, если она не существует\n",
    "if not os.path.exists(output_folder):\n",
    "    os.makedirs(output_folder)\n",
    "\n",
    "# Проходимся по всем изображениям в папке\n",
    "for filename in os.listdir(input_folder):\n",
    "    # Загрузка изображения\n",
    "    # img = cv2.imread(os.path.join(input_folder, filename))\n",
    "    img = Image.open(os.path.join(input_folder, filename))\n",
    "    # print(filename)\n",
    "    img_array = np.asarray(img)\n",
    "\n",
    "    # Преобразуем изображение в оттенки серого для повышения эффективности обработки\n",
    "    gray = cv2.cvtColor(img_array, cv2.COLOR_BGR2RGB)\n",
    "    # Находим лица на изображении\n",
    "    faces = face_cascade.detectMultiScale(gray, 1.2, 5)\n",
    "    # Обрезаем изображения и сохраняем их в новую папку\n",
    "    for (x, y, w, h) in faces:\n",
    "        face_img = gray[y:y+h, x:x+w]\n",
    "        face_resized = cv2.resize(face_img, (150, 150))\n",
    "        cv2.imwrite(os.path.join(output_folder, 'cropped_' + filename), face_resized)\n"
   ]
  }
 ],
 "metadata": {
  "kernelspec": {
   "display_name": "Python 3 (ipykernel)",
   "language": "python",
   "name": "python3"
  },
  "language_info": {
   "codemirror_mode": {
    "name": "ipython",
    "version": 3
   },
   "file_extension": ".py",
   "mimetype": "text/x-python",
   "name": "python",
   "nbconvert_exporter": "python",
   "pygments_lexer": "ipython3",
   "version": "3.10.4"
  }
 },
 "nbformat": 4,
 "nbformat_minor": 5
}
