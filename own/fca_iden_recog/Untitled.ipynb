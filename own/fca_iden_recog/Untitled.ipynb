{
 "cells": [
  {
   "cell_type": "code",
   "execution_count": null,
   "id": "6ace0c21-0aca-4304-b1e2-2433e0d527a1",
   "metadata": {},
   "outputs": [],
   "source": [
    "import os\n",
    "os.environ['TF_CPP_MIN_LOG_LEVEL'] = '3'\n",
    "\n",
    "from PIL import Image\n",
    "import numpy as np\n",
    "from matplotlib import pyplot as plt\n",
    "\n",
    "import tensorflow as tf\n",
    "from tensorflow.keras.models import Model\n",
    "\n",
    "import cv2\n",
    "\n",
    "from mtcnn import MTCNN\n",
    "from keras_vggface.utils import preprocess_input\n",
    "from keras_vggface.utils import decode_predictions\n",
    "\n",
    "from model import get_model\n",
    "\n",
    "model = get_model()\n",
    "print(model.summary())\n",
    "\n",
    "\n",
    "def crop_face(filename, required_size=(224, 224)):\n",
    "    img = cv2.imread(filename)\n",
    "    detector = MTCNN()\n",
    "    results = detector.detect_faces(img)\n",
    "    x, y, width, height = results[0]['box']\n",
    "    face = img[y:y+height, x:x+width]\n",
    "    image = Image.fromarray(face)\n",
    "    image = image.resize(required_size)\n",
    "    face_array = np.asarray(image)\n",
    "    return face_array, face\n",
    "\n",
    "def who_is_this(img, vgg_face_descriptor):\n",
    "    face_array, face = crop_face(img)\n",
    "    face_array = face_array.astype('float32')\n",
    "    input_sample = np.expand_dims(face_array, axis=0)\n",
    "    img_prediction = vgg_face_descriptor.predict(preprocess_input(input_sample))\n",
    "    results = decode_predictions(img_prediction)\n",
    "    prediction = results[0][0][0].replace(\"b'\", \"\").replace(\"'\",\"\")\n",
    "\n",
    "    return prediction\n",
    "\n",
    "def get_prediction(image_path):\n",
    "    model.load_weights(os.path.join(os.getcwd(), \"weight\", \"vgg_face_weights.h5\"))\n",
    "    vgg_face_descriptor = Model(inputs=model.layers[0].input,\\\n",
    "                                outputs=model.layers[-2].output)\n",
    "\n",
    "    return who_is_this(image_path, vgg_face_descriptor)\n",
    "\n",
    "if __name__ == \"__main__\":\n",
    "    print(get_prediction('test/han.jpg'))"
   ]
  }
 ],
 "metadata": {
  "kernelspec": {
   "display_name": "Python 3 (ipykernel)",
   "language": "python",
   "name": "python3"
  },
  "language_info": {
   "codemirror_mode": {
    "name": "ipython",
    "version": 3
   },
   "file_extension": ".py",
   "mimetype": "text/x-python",
   "name": "python",
   "nbconvert_exporter": "python",
   "pygments_lexer": "ipython3",
   "version": "3.9.13"
  }
 },
 "nbformat": 4,
 "nbformat_minor": 5
}
